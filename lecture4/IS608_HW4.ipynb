{
 "metadata": {
  "name": "",
  "signature": "sha256:2caa9d1c4769d83057e61f8a5fa86b9da19be8a407aaa57b3488443f169ec549"
 },
 "nbformat": 3,
 "nbformat_minor": 0,
 "worksheets": [
  {
   "cells": [
    {
     "cell_type": "code",
     "collapsed": false,
     "input": [
      "import pandas as pd"
     ],
     "language": "python",
     "metadata": {},
     "outputs": [],
     "prompt_number": 1
    },
    {
     "cell_type": "markdown",
     "metadata": {},
     "source": [
      "First we load the data"
     ]
    },
    {
     "cell_type": "code",
     "collapsed": false,
     "input": [
      "river_entero = pd.read_csv('data/riverkeeper_data_2013.csv')"
     ],
     "language": "python",
     "metadata": {},
     "outputs": [],
     "prompt_number": 2
    },
    {
     "cell_type": "code",
     "collapsed": true,
     "input": [
      "river_entero[10:20]"
     ],
     "language": "python",
     "metadata": {},
     "outputs": [
      {
       "html": [
        "<div style=\"max-height:1000px;max-width:1500px;overflow:auto;\">\n",
        "<table border=\"1\" class=\"dataframe\">\n",
        "  <thead>\n",
        "    <tr style=\"text-align: right;\">\n",
        "      <th></th>\n",
        "      <th>Site</th>\n",
        "      <th>Date</th>\n",
        "      <th>EnteroCount</th>\n",
        "      <th>FourDayRainTotal</th>\n",
        "      <th>SampleCount</th>\n",
        "    </tr>\n",
        "  </thead>\n",
        "  <tbody>\n",
        "    <tr>\n",
        "      <th>10</th>\n",
        "      <td> Hudson above Mohawk River</td>\n",
        "      <td>  6/16/2012</td>\n",
        "      <td>    10</td>\n",
        "      <td> 0.2</td>\n",
        "      <td> 35</td>\n",
        "    </tr>\n",
        "    <tr>\n",
        "      <th>11</th>\n",
        "      <td> Hudson above Mohawk River</td>\n",
        "      <td>  5/20/2012</td>\n",
        "      <td>    11</td>\n",
        "      <td> 0.0</td>\n",
        "      <td> 35</td>\n",
        "    </tr>\n",
        "    <tr>\n",
        "      <th>12</th>\n",
        "      <td> Hudson above Mohawk River</td>\n",
        "      <td>  6/24/2013</td>\n",
        "      <td>    30</td>\n",
        "      <td> 1.4</td>\n",
        "      <td> 35</td>\n",
        "    </tr>\n",
        "    <tr>\n",
        "      <th>13</th>\n",
        "      <td> Hudson above Mohawk River</td>\n",
        "      <td>  9/19/2011</td>\n",
        "      <td>    11</td>\n",
        "      <td> 0.1</td>\n",
        "      <td> 35</td>\n",
        "    </tr>\n",
        "    <tr>\n",
        "      <th>14</th>\n",
        "      <td> Hudson above Mohawk River</td>\n",
        "      <td>  8/21/2011</td>\n",
        "      <td>   231</td>\n",
        "      <td> 0.4</td>\n",
        "      <td> 35</td>\n",
        "    </tr>\n",
        "    <tr>\n",
        "      <th>15</th>\n",
        "      <td> Hudson above Mohawk River</td>\n",
        "      <td>  7/14/2011</td>\n",
        "      <td>    11</td>\n",
        "      <td> 0.3</td>\n",
        "      <td> 35</td>\n",
        "    </tr>\n",
        "    <tr>\n",
        "      <th>16</th>\n",
        "      <td> Hudson above Mohawk River</td>\n",
        "      <td>   7/2/2011</td>\n",
        "      <td>    11</td>\n",
        "      <td> 2.1</td>\n",
        "      <td> 35</td>\n",
        "    </tr>\n",
        "    <tr>\n",
        "      <th>17</th>\n",
        "      <td> Hudson above Mohawk River</td>\n",
        "      <td>  5/19/2011</td>\n",
        "      <td>    91</td>\n",
        "      <td> 1.6</td>\n",
        "      <td> 35</td>\n",
        "    </tr>\n",
        "    <tr>\n",
        "      <th>18</th>\n",
        "      <td> Hudson above Mohawk River</td>\n",
        "      <td> 10/16/2010</td>\n",
        "      <td> &gt;2420</td>\n",
        "      <td> 1.3</td>\n",
        "      <td> 35</td>\n",
        "    </tr>\n",
        "    <tr>\n",
        "      <th>19</th>\n",
        "      <td> Hudson above Mohawk River</td>\n",
        "      <td>  9/14/2010</td>\n",
        "      <td>    15</td>\n",
        "      <td> 0.0</td>\n",
        "      <td> 35</td>\n",
        "    </tr>\n",
        "  </tbody>\n",
        "</table>\n",
        "</div>"
       ],
       "metadata": {},
       "output_type": "pyout",
       "prompt_number": 3,
       "text": [
        "                         Site        Date EnteroCount  FourDayRainTotal  \\\n",
        "10  Hudson above Mohawk River   6/16/2012          10               0.2   \n",
        "11  Hudson above Mohawk River   5/20/2012          11               0.0   \n",
        "12  Hudson above Mohawk River   6/24/2013          30               1.4   \n",
        "13  Hudson above Mohawk River   9/19/2011          11               0.1   \n",
        "14  Hudson above Mohawk River   8/21/2011         231               0.4   \n",
        "15  Hudson above Mohawk River   7/14/2011          11               0.3   \n",
        "16  Hudson above Mohawk River    7/2/2011          11               2.1   \n",
        "17  Hudson above Mohawk River   5/19/2011          91               1.6   \n",
        "18  Hudson above Mohawk River  10/16/2010       >2420               1.3   \n",
        "19  Hudson above Mohawk River   9/14/2010          15               0.0   \n",
        "\n",
        "    SampleCount  \n",
        "10           35  \n",
        "11           35  \n",
        "12           35  \n",
        "13           35  \n",
        "14           35  \n",
        "15           35  \n",
        "16           35  \n",
        "17           35  \n",
        "18           35  \n",
        "19           35  "
       ]
      }
     ],
     "prompt_number": 3
    },
    {
     "cell_type": "code",
     "collapsed": false,
     "input": [
      "river_entero.dtypes"
     ],
     "language": "python",
     "metadata": {},
     "outputs": [
      {
       "metadata": {},
       "output_type": "pyout",
       "prompt_number": 4,
       "text": [
        "Site                 object\n",
        "Date                 object\n",
        "EnteroCount          object\n",
        "FourDayRainTotal    float64\n",
        "SampleCount           int64\n",
        "dtype: object"
       ]
      }
     ],
     "prompt_number": 4
    },
    {
     "cell_type": "markdown",
     "metadata": {},
     "source": [
      "We need to convert Date and EnteroCount into datetime and float, respectively."
     ]
    },
    {
     "cell_type": "code",
     "collapsed": false,
     "input": [
      "river_entero['Date'] = pd.to_datetime(river_entero['Date'])"
     ],
     "language": "python",
     "metadata": {},
     "outputs": [],
     "prompt_number": 5
    },
    {
     "cell_type": "markdown",
     "metadata": {},
     "source": [
      "Let's take a look at which values are 'non-numeric' before conversion."
     ]
    },
    {
     "cell_type": "code",
     "collapsed": false,
     "input": [
      "# create dataframe indexed on datetime to compare pre- and post-conversion\n",
      "river_entero.sort('Date', inplace=True)\n",
      "ent_ct = river_entero[['Date', 'EnteroCount']].set_index(river_entero['Date'])['EnteroCount']\n",
      "converted = ent_ct.convert_objects(convert_numeric=True)\n",
      "\n",
      "combined = pd.DataFrame(data={'raw': ent_ct, 'converted': converted})"
     ],
     "language": "python",
     "metadata": {},
     "outputs": [],
     "prompt_number": 6
    },
    {
     "cell_type": "markdown",
     "metadata": {},
     "source": [
      "If we just drop NaN, we lose ~20% of our sample:"
     ]
    },
    {
     "cell_type": "code",
     "collapsed": false,
     "input": [
      "float(converted.count()) / river_entero.shape[0]"
     ],
     "language": "python",
     "metadata": {},
     "outputs": [
      {
       "metadata": {},
       "output_type": "pyout",
       "prompt_number": 7,
       "text": [
        "0.8083603179275831"
       ]
      }
     ],
     "prompt_number": 7
    },
    {
     "cell_type": "markdown",
     "metadata": {},
     "source": [
      "So which values are problematic specifically? How can we avoid losing observations?"
     ]
    },
    {
     "cell_type": "code",
     "collapsed": false,
     "input": [
      "pd.unique(combined[combined['converted'].isnull()]['raw'].values)"
     ],
     "language": "python",
     "metadata": {},
     "outputs": [
      {
       "metadata": {},
       "output_type": "pyout",
       "prompt_number": 8,
       "text": [
        "array(['<10', '>24196', '<1', '>2420'], dtype=object)"
       ]
      }
     ],
     "prompt_number": 8
    },
    {
     "cell_type": "markdown",
     "metadata": {},
     "source": [
      "Is 2420 or 24196 the correct maximum?"
     ]
    },
    {
     "cell_type": "code",
     "collapsed": false,
     "input": [
      "converted.max()"
     ],
     "language": "python",
     "metadata": {},
     "outputs": [
      {
       "metadata": {},
       "output_type": "pyout",
       "prompt_number": 9,
       "text": [
        "24196.0"
       ]
      }
     ],
     "prompt_number": 9
    },
    {
     "cell_type": "markdown",
     "metadata": {},
     "source": [
      "Did the metric change from >2420 to >24196? (Seems suspicious, given how similar these caps look.)\n",
      "\n",
      "A visualization will help."
     ]
    },
    {
     "cell_type": "code",
     "collapsed": false,
     "input": [
      "import vincent\n",
      "vincent.core.initialize_notebook()\n",
      "\n",
      "correct_max = vincent.Line(converted.dropna())\n",
      "correct_max.display()"
     ],
     "language": "python",
     "metadata": {},
     "outputs": [
      {
       "html": [
        "\n",
        "           <script>\n",
        "               \n",
        "                function vct_load_lib(url, callback){\n",
        "                      if(typeof d3 !== 'undefined' &&\n",
        "                         url === 'http://d3js.org/d3.v3.min.js'){\n",
        "                        callback()\n",
        "                      }\n",
        "                      var s = document.createElement('script');\n",
        "                      s.src = url;\n",
        "                      s.async = true;\n",
        "                      s.onreadystatechange = s.onload = callback;\n",
        "                      s.onerror = function(){\n",
        "                        console.warn(\"failed to load library \" + url);\n",
        "                        };\n",
        "                      document.getElementsByTagName(\"head\")[0].appendChild(s);\n",
        "                };\n",
        "                var vincent_event = new CustomEvent(\n",
        "                  \"vincent_libs_loaded\",\n",
        "                  {bubbles: true, cancelable: true}\n",
        "                );\n",
        "                \n",
        "               function load_all_libs(){\n",
        "                  console.log('Loading Vincent libs...')\n",
        "                  vct_load_lib('http://d3js.org/d3.v3.min.js', function(){\n",
        "                  vct_load_lib('http://d3js.org/d3.geo.projection.v0.min.js', function(){\n",
        "                  vct_load_lib('http://wrobstory.github.io/d3-cloud/d3.layout.cloud.js', function(){\n",
        "                  vct_load_lib('http://wrobstory.github.io/vega/vega.v1.3.3.js', function(){\n",
        "                  window.dispatchEvent(vincent_event);\n",
        "                  });\n",
        "                  });\n",
        "                  });\n",
        "                  });\n",
        "               };\n",
        "               if(typeof define === \"function\" && define.amd){\n",
        "                    if (window['d3'] === undefined ||\n",
        "                        window['topojson'] === undefined){\n",
        "                        require.config(\n",
        "                            {paths: {\n",
        "                              d3: 'http://d3js.org/d3.v3.min',\n",
        "                              topojson: 'http://d3js.org/topojson.v1.min'\n",
        "                              }\n",
        "                            }\n",
        "                          );\n",
        "                        require([\"d3\"], function(d3){\n",
        "                            console.log('Loading Vincent from require.js...')\n",
        "                            window.d3 = d3;\n",
        "                            require([\"topojson\"], function(topojson){\n",
        "                                window.topojson = topojson;\n",
        "                                load_all_libs();\n",
        "                            });\n",
        "                        });\n",
        "                    } else {\n",
        "                        load_all_libs();\n",
        "                    };\n",
        "               }else{\n",
        "                    console.log('Require.js not found, loading manually...')\n",
        "                    load_all_libs();\n",
        "               };\n",
        "\n",
        "           </script>"
       ],
       "metadata": {},
       "output_type": "display_data",
       "text": [
        "<IPython.core.display.HTML at 0xb9a1c18>"
       ]
      },
      {
       "html": [
        "<div id=\"vis570a4f9c736d4eb49c0555817176f911\"></div>\n",
        "<script>\n",
        "   ( function() {\n",
        "     var _do_plot = function() {\n",
        "       if (typeof vg === 'undefined') {\n",
        "         window.addEventListener('vincent_libs_loaded', _do_plot)\n",
        "         return;\n",
        "       }\n",
        "       vg.parse.spec({\"axes\": [{\"scale\": \"x\", \"type\": \"x\"}, {\"scale\": \"y\", \"type\": \"y\"}], \"data\": [{\"name\": \"table\", \"values\": [{\"col\": \"EnteroCount\", \"idx\": 1158645600000, \"val\": 28.0}, {\"col\": \"EnteroCount\", \"idx\": 1158645600000, \"val\": 4.0}, {\"col\": \"EnteroCount\", \"idx\": 1158645600000, \"val\": 2.0}, {\"col\": \"EnteroCount\", \"idx\": 1158645600000, \"val\": 2.0}, {\"col\": \"EnteroCount\", \"idx\": 1158645600000, \"val\": 3.0}, {\"col\": \"EnteroCount\", \"idx\": 1159250400000, \"val\": 1.0}, {\"col\": \"EnteroCount\", \"idx\": 1159250400000, \"val\": 8.0}, {\"col\": \"EnteroCount\", \"idx\": 1159250400000, \"val\": 7.0}, {\"col\": \"EnteroCount\", \"idx\": 1159250400000, \"val\": 2.0}, {\"col\": \"EnteroCount\", \"idx\": 1159250400000, \"val\": 2.0}, {\"col\": \"EnteroCount\", \"idx\": 1159250400000, \"val\": 1.0}, {\"col\": \"EnteroCount\", \"idx\": 1159250400000, \"val\": 2.0}, {\"col\": \"EnteroCount\", \"idx\": 1159250400000, \"val\": 23.0}, {\"col\": \"EnteroCount\", \"idx\": 1159250400000, \"val\": 25.0}, {\"col\": \"EnteroCount\", \"idx\": 1159250400000, \"val\": 1.0}, {\"col\": \"EnteroCount\", \"idx\": 1159250400000, \"val\": 11.0}, {\"col\": \"EnteroCount\", \"idx\": 1159768800000, \"val\": 1433.0}, {\"col\": \"EnteroCount\", \"idx\": 1159855200000, \"val\": 773.0}, {\"col\": \"EnteroCount\", \"idx\": 1160114400000, \"val\": 824.0}, {\"col\": \"EnteroCount\", \"idx\": 1160546400000, \"val\": 269.0}, {\"col\": \"EnteroCount\", \"idx\": 1160632800000, \"val\": 305.0}, {\"col\": \"EnteroCount\", \"idx\": 1160719200000, \"val\": 1500.0}, {\"col\": \"EnteroCount\", \"idx\": 1160805600000, \"val\": 1090.0}, {\"col\": \"EnteroCount\", \"idx\": 1160892000000, \"val\": 320.0}, {\"col\": \"EnteroCount\", \"idx\": 1161064800000, \"val\": 1500.0}, {\"col\": \"EnteroCount\", \"idx\": 1161064800000, \"val\": 1058.0}, {\"col\": \"EnteroCount\", \"idx\": 1161064800000, \"val\": 200.0}, {\"col\": \"EnteroCount\", \"idx\": 1161151200000, \"val\": 1120.0}, {\"col\": \"EnteroCount\", \"idx\": 1161151200000, \"val\": 29.0}, {\"col\": \"EnteroCount\", \"idx\": 1161151200000, \"val\": 135.0}, {\"col\": \"EnteroCount\", \"idx\": 1161151200000, \"val\": 1500.0}, {\"col\": \"EnteroCount\", \"idx\": 1161151200000, \"val\": 263.0}, {\"col\": \"EnteroCount\", \"idx\": 1161151200000, \"val\": 35.0}, {\"col\": \"EnteroCount\", \"idx\": 1161151200000, \"val\": 12.0}, {\"col\": \"EnteroCount\", \"idx\": 1161151200000, \"val\": 1500.0}, {\"col\": \"EnteroCount\", \"idx\": 1161151200000, \"val\": 1.0}, {\"col\": \"EnteroCount\", \"idx\": 1161151200000, \"val\": 1500.0}, {\"col\": \"EnteroCount\", \"idx\": 1161151200000, \"val\": 30.0}, {\"col\": \"EnteroCount\", \"idx\": 1161151200000, \"val\": 1500.0}, {\"col\": \"EnteroCount\", \"idx\": 1161151200000, \"val\": 73.0}, {\"col\": \"EnteroCount\", \"idx\": 1161151200000, \"val\": 116.0}, {\"col\": \"EnteroCount\", \"idx\": 1161151200000, \"val\": 1467.0}, {\"col\": \"EnteroCount\", \"idx\": 1161237600000, \"val\": 1500.0}, {\"col\": \"EnteroCount\", \"idx\": 1161237600000, \"val\": 1500.0}, {\"col\": \"EnteroCount\", \"idx\": 1161324000000, \"val\": 10.0}, {\"col\": \"EnteroCount\", \"idx\": 1161324000000, \"val\": 15.0}, {\"col\": \"EnteroCount\", \"idx\": 1161324000000, \"val\": 16.0}, {\"col\": \"EnteroCount\", \"idx\": 1161324000000, \"val\": 34.0}, {\"col\": \"EnteroCount\", \"idx\": 1161324000000, \"val\": 126.0}, {\"col\": \"EnteroCount\", \"idx\": 1162015200000, \"val\": 1500.0}, {\"col\": \"EnteroCount\", \"idx\": 1162015200000, \"val\": 1275.0}, {\"col\": \"EnteroCount\", \"idx\": 1162274400000, \"val\": 147.0}, {\"col\": \"EnteroCount\", \"idx\": 1163142000000, \"val\": 1500.0}, {\"col\": \"EnteroCount\", \"idx\": 1163142000000, \"val\": 141.0}, {\"col\": \"EnteroCount\", \"idx\": 1163142000000, \"val\": 760.0}, {\"col\": \"EnteroCount\", \"idx\": 1163142000000, \"val\": 143.0}, {\"col\": \"EnteroCount\", \"idx\": 1163142000000, \"val\": 107.0}, {\"col\": \"EnteroCount\", \"idx\": 1163142000000, \"val\": 6.0}, {\"col\": \"EnteroCount\", \"idx\": 1163142000000, \"val\": 335.0}, {\"col\": \"EnteroCount\", \"idx\": 1163142000000, \"val\": 72.0}, {\"col\": \"EnteroCount\", \"idx\": 1163142000000, \"val\": 182.0}, {\"col\": \"EnteroCount\", \"idx\": 1163142000000, \"val\": 112.0}, {\"col\": \"EnteroCount\", \"idx\": 1163142000000, \"val\": 22.0}, {\"col\": \"EnteroCount\", \"idx\": 1163142000000, \"val\": 72.0}, {\"col\": \"EnteroCount\", \"idx\": 1163142000000, \"val\": 310.0}, {\"col\": \"EnteroCount\", \"idx\": 1163142000000, \"val\": 92.0}, {\"col\": \"EnteroCount\", \"idx\": 1165388400000, \"val\": 75.0}, {\"col\": \"EnteroCount\", \"idx\": 1165388400000, \"val\": 16.0}, {\"col\": \"EnteroCount\", \"idx\": 1165388400000, \"val\": 58.0}, {\"col\": \"EnteroCount\", \"idx\": 1165388400000, \"val\": 132.0}, {\"col\": \"EnteroCount\", \"idx\": 1165388400000, \"val\": 50.0}, {\"col\": \"EnteroCount\", \"idx\": 1165388400000, \"val\": 142.0}, {\"col\": \"EnteroCount\", \"idx\": 1165388400000, \"val\": 69.0}, {\"col\": \"EnteroCount\", \"idx\": 1165993200000, \"val\": 30.0}, {\"col\": \"EnteroCount\", \"idx\": 1165993200000, \"val\": 107.0}, {\"col\": \"EnteroCount\", \"idx\": 1165993200000, \"val\": 36.0}, {\"col\": \"EnteroCount\", \"idx\": 1165993200000, \"val\": 46.0}, {\"col\": \"EnteroCount\", \"idx\": 1165993200000, \"val\": 112.0}, {\"col\": \"EnteroCount\", \"idx\": 1165993200000, \"val\": 1500.0}, {\"col\": \"EnteroCount\", \"idx\": 1165993200000, \"val\": 40.0}, {\"col\": \"EnteroCount\", \"idx\": 1165993200000, \"val\": 227.0}, {\"col\": \"EnteroCount\", \"idx\": 1176876000000, \"val\": 376.0}, {\"col\": \"EnteroCount\", \"idx\": 1176876000000, \"val\": 103.0}, {\"col\": \"EnteroCount\", \"idx\": 1176876000000, \"val\": 1104.0}, {\"col\": \"EnteroCount\", \"idx\": 1176876000000, \"val\": 252.0}, {\"col\": \"EnteroCount\", \"idx\": 1176876000000, \"val\": 894.0}, {\"col\": \"EnteroCount\", \"idx\": 1176876000000, \"val\": 352.0}, {\"col\": \"EnteroCount\", \"idx\": 1176876000000, \"val\": 236.0}, {\"col\": \"EnteroCount\", \"idx\": 1176876000000, \"val\": 356.0}, {\"col\": \"EnteroCount\", \"idx\": 1176876000000, \"val\": 584.0}, {\"col\": \"EnteroCount\", \"idx\": 1176876000000, \"val\": 344.0}, {\"col\": \"EnteroCount\", \"idx\": 1176876000000, \"val\": 274.0}, {\"col\": \"EnteroCount\", \"idx\": 1176876000000, \"val\": 274.0}, {\"col\": \"EnteroCount\", \"idx\": 1176876000000, \"val\": 205.0}, {\"col\": \"EnteroCount\", \"idx\": 1176876000000, \"val\": 244.0}, {\"col\": \"EnteroCount\", \"idx\": 1176876000000, \"val\": 1496.0}, {\"col\": \"EnteroCount\", \"idx\": 1176876000000, \"val\": 246.0}, {\"col\": \"EnteroCount\", \"idx\": 1177480800000, \"val\": 86.0}, {\"col\": \"EnteroCount\", \"idx\": 1177480800000, \"val\": 29.0}, {\"col\": \"EnteroCount\", \"idx\": 1177480800000, \"val\": 196.0}, {\"col\": \"EnteroCount\", \"idx\": 1177480800000, \"val\": 43.0}, {\"col\": \"EnteroCount\", \"idx\": 1177480800000, \"val\": 33.0}, {\"col\": \"EnteroCount\", \"idx\": 1177480800000, \"val\": 164.0}, {\"col\": \"EnteroCount\", \"idx\": 1177480800000, \"val\": 17.0}, {\"col\": \"EnteroCount\", \"idx\": 1177480800000, \"val\": 1500.0}, {\"col\": \"EnteroCount\", \"idx\": 1177480800000, \"val\": 333.0}, {\"col\": \"EnteroCount\", \"idx\": 1179381600000, \"val\": 109.0}, {\"col\": \"EnteroCount\", \"idx\": 1179381600000, \"val\": 1500.0}, {\"col\": \"EnteroCount\", \"idx\": 1179381600000, \"val\": 717.0}, {\"col\": \"EnteroCount\", \"idx\": 1179727200000, \"val\": 11.0}, {\"col\": \"EnteroCount\", \"idx\": 1179727200000, \"val\": 14.0}, {\"col\": \"EnteroCount\", \"idx\": 1179727200000, \"val\": 4.0}, {\"col\": \"EnteroCount\", \"idx\": 1179727200000, \"val\": 179.0}, {\"col\": \"EnteroCount\", \"idx\": 1179727200000, \"val\": 7.0}, {\"col\": \"EnteroCount\", \"idx\": 1179727200000, \"val\": 13.0}, {\"col\": \"EnteroCount\", \"idx\": 1179727200000, \"val\": 4.0}, {\"col\": \"EnteroCount\", \"idx\": 1179727200000, \"val\": 28.0}, {\"col\": \"EnteroCount\", \"idx\": 1179900000000, \"val\": 3.0}, {\"col\": \"EnteroCount\", \"idx\": 1179900000000, \"val\": 10.0}, {\"col\": \"EnteroCount\", \"idx\": 1179900000000, \"val\": 1.0}, {\"col\": \"EnteroCount\", \"idx\": 1179900000000, \"val\": 1.0}, {\"col\": \"EnteroCount\", \"idx\": 1179900000000, \"val\": 5.0}, {\"col\": \"EnteroCount\", \"idx\": 1179900000000, \"val\": 8.0}, {\"col\": \"EnteroCount\", \"idx\": 1179900000000, \"val\": 4.0}, {\"col\": \"EnteroCount\", \"idx\": 1179900000000, \"val\": 3.0}, {\"col\": \"EnteroCount\", \"idx\": 1179900000000, \"val\": 123.0}, {\"col\": \"EnteroCount\", \"idx\": 1179900000000, \"val\": 5.0}, {\"col\": \"EnteroCount\", \"idx\": 1179900000000, \"val\": 115.0}, {\"col\": \"EnteroCount\", \"idx\": 1179900000000, \"val\": 6.0}, {\"col\": \"EnteroCount\", \"idx\": 1179900000000, \"val\": 3.0}, {\"col\": \"EnteroCount\", \"idx\": 1179900000000, \"val\": 5.0}, {\"col\": \"EnteroCount\", \"idx\": 1180418400000, \"val\": 83.0}, {\"col\": \"EnteroCount\", \"idx\": 1180504800000, \"val\": 21.0}, {\"col\": \"EnteroCount\", \"idx\": 1180591200000, \"val\": 8.0}, {\"col\": \"EnteroCount\", \"idx\": 1180677600000, \"val\": 12.0}, {\"col\": \"EnteroCount\", \"idx\": 1180764000000, \"val\": 18.0}, {\"col\": \"EnteroCount\", \"idx\": 1180850400000, \"val\": 40.0}, {\"col\": \"EnteroCount\", \"idx\": 1180936800000, \"val\": 1500.0}, {\"col\": \"EnteroCount\", \"idx\": 1181023200000, \"val\": 200.0}, {\"col\": \"EnteroCount\", \"idx\": 1181109600000, \"val\": 72.0}, {\"col\": \"EnteroCount\", \"idx\": 1181196000000, \"val\": 18.0}, {\"col\": \"EnteroCount\", \"idx\": 1181282400000, \"val\": 46.0}, {\"col\": \"EnteroCount\", \"idx\": 1181368800000, \"val\": 121.0}, {\"col\": \"EnteroCount\", \"idx\": 1181541600000, \"val\": 99.0}, {\"col\": \"EnteroCount\", \"idx\": 1181628000000, \"val\": 1500.0}, {\"col\": \"EnteroCount\", \"idx\": 1182146400000, \"val\": 11.0}, {\"col\": \"EnteroCount\", \"idx\": 1182146400000, \"val\": 3.0}, {\"col\": \"EnteroCount\", \"idx\": 1182146400000, \"val\": 19.0}, {\"col\": \"EnteroCount\", \"idx\": 1182146400000, \"val\": 11.0}, {\"col\": \"EnteroCount\", \"idx\": 1182146400000, \"val\": 8.0}, {\"col\": \"EnteroCount\", \"idx\": 1182146400000, \"val\": 6.0}, {\"col\": \"EnteroCount\", \"idx\": 1182146400000, \"val\": 6.0}, {\"col\": \"EnteroCount\", \"idx\": 1182146400000, \"val\": 4.0}, {\"col\": \"EnteroCount\", \"idx\": 1182146400000, \"val\": 16.0}, {\"col\": \"EnteroCount\", \"idx\": 1182146400000, \"val\": 16.0}, {\"col\": \"EnteroCount\", \"idx\": 1182146400000, \"val\": 2.0}, {\"col\": \"EnteroCount\", \"idx\": 1182146400000, \"val\": 13.0}, {\"col\": \"EnteroCount\", \"idx\": 1182146400000, \"val\": 9.0}, {\"col\": \"EnteroCount\", \"idx\": 1182146400000, \"val\": 24.0}, {\"col\": \"EnteroCount\", \"idx\": 1182146400000, \"val\": 1.0}, {\"col\": \"EnteroCount\", \"idx\": 1182319200000, \"val\": 6.0}, {\"col\": \"EnteroCount\", \"idx\": 1182319200000, \"val\": 11.0}, {\"col\": \"EnteroCount\", \"idx\": 1182319200000, \"val\": 16.0}, {\"col\": \"EnteroCount\", \"idx\": 1182319200000, \"val\": 5.0}, {\"col\": \"EnteroCount\", \"idx\": 1182319200000, \"val\": 1.0}, {\"col\": \"EnteroCount\", \"idx\": 1182319200000, \"val\": 2.0}, {\"col\": \"EnteroCount\", \"idx\": 1182751200000, \"val\": 149.0}, {\"col\": \"EnteroCount\", \"idx\": 1182837600000, \"val\": 1500.0}, {\"col\": \"EnteroCount\", \"idx\": 1182924000000, \"val\": 22.0}, {\"col\": \"EnteroCount\", \"idx\": 1183010400000, \"val\": 10.0}, {\"col\": \"EnteroCount\", \"idx\": 1183010400000, \"val\": 2.0}, {\"col\": \"EnteroCount\", \"idx\": 1183010400000, \"val\": 340.0}, {\"col\": \"EnteroCount\", \"idx\": 1183010400000, \"val\": 11.0}, {\"col\": \"EnteroCount\", \"idx\": 1183010400000, \"val\": 9.0}, {\"col\": \"EnteroCount\", \"idx\": 1183010400000, \"val\": 283.0}, {\"col\": \"EnteroCount\", \"idx\": 1183096800000, \"val\": 1500.0}, {\"col\": \"EnteroCount\", \"idx\": 1183096800000, \"val\": 139.0}, {\"col\": \"EnteroCount\", \"idx\": 1183356000000, \"val\": 179.0}, {\"col\": \"EnteroCount\", \"idx\": 1183960800000, \"val\": 221.0}, {\"col\": \"EnteroCount\", \"idx\": 1184047200000, \"val\": 250.0}, {\"col\": \"EnteroCount\", \"idx\": 1184133600000, \"val\": 34.0}, {\"col\": \"EnteroCount\", \"idx\": 1184133600000, \"val\": 43.0}, {\"col\": \"EnteroCount\", \"idx\": 1184133600000, \"val\": 1.0}, {\"col\": \"EnteroCount\", \"idx\": 1184133600000, \"val\": 1.0}, {\"col\": \"EnteroCount\", \"idx\": 1184133600000, \"val\": 1.0}, {\"col\": \"EnteroCount\", \"idx\": 1184133600000, \"val\": 238.0}, {\"col\": \"EnteroCount\", \"idx\": 1184133600000, \"val\": 1500.0}, {\"col\": \"EnteroCount\", \"idx\": 1184133600000, \"val\": 11.0}, {\"col\": \"EnteroCount\", \"idx\": 1184133600000, \"val\": 2.0}, {\"col\": \"EnteroCount\", \"idx\": 1184133600000, \"val\": 1032.0}, {\"col\": \"EnteroCount\", \"idx\": 1184133600000, \"val\": 11.0}, {\"col\": \"EnteroCount\", \"idx\": 1184133600000, \"val\": 59.0}, {\"col\": \"EnteroCount\", \"idx\": 1184133600000, \"val\": 11.0}, {\"col\": \"EnteroCount\", \"idx\": 1184133600000, \"val\": 296.0}, {\"col\": \"EnteroCount\", \"idx\": 1184133600000, \"val\": 105.0}, {\"col\": \"EnteroCount\", \"idx\": 1184133600000, \"val\": 41.0}, {\"col\": \"EnteroCount\", \"idx\": 1184220000000, \"val\": 1200.0}, {\"col\": \"EnteroCount\", \"idx\": 1184565600000, \"val\": 3.0}, {\"col\": \"EnteroCount\", \"idx\": 1184565600000, \"val\": 66.0}, {\"col\": \"EnteroCount\", \"idx\": 1184565600000, \"val\": 83.0}, {\"col\": \"EnteroCount\", \"idx\": 1184565600000, \"val\": 1.0}, {\"col\": \"EnteroCount\", \"idx\": 1184565600000, \"val\": 6.0}, {\"col\": \"EnteroCount\", \"idx\": 1184565600000, \"val\": 8.0}, {\"col\": \"EnteroCount\", \"idx\": 1184565600000, \"val\": 5.0}, {\"col\": \"EnteroCount\", \"idx\": 1184565600000, \"val\": 3.0}, {\"col\": \"EnteroCount\", \"idx\": 1184565600000, \"val\": 28.0}, {\"col\": \"EnteroCount\", \"idx\": 1184565600000, \"val\": 2.0}, {\"col\": \"EnteroCount\", \"idx\": 1184738400000, \"val\": 1500.0}, {\"col\": \"EnteroCount\", \"idx\": 1184911200000, \"val\": 1500.0}, {\"col\": \"EnteroCount\", \"idx\": 1185170400000, \"val\": 1500.0}, {\"col\": \"EnteroCount\", \"idx\": 1185170400000, \"val\": 136.0}, {\"col\": \"EnteroCount\", \"idx\": 1185256800000, \"val\": 1500.0}, {\"col\": \"EnteroCount\", \"idx\": 1185429600000, \"val\": 320.0}, {\"col\": \"EnteroCount\", \"idx\": 1185429600000, \"val\": 62.0}, {\"col\": \"EnteroCount\", \"idx\": 1185516000000, \"val\": 308.0}, {\"col\": \"EnteroCount\", \"idx\": 1185775200000, \"val\": 530.0}, {\"col\": \"EnteroCount\", \"idx\": 1185948000000, \"val\": 79.0}, {\"col\": \"EnteroCount\", \"idx\": 1185948000000, \"val\": 134.0}, {\"col\": \"EnteroCount\", \"idx\": 1186034400000, \"val\": 282.0}, {\"col\": \"EnteroCount\", \"idx\": 1186034400000, \"val\": 88.0}, {\"col\": \"EnteroCount\", \"idx\": 1186120800000, \"val\": 187.0}, {\"col\": \"EnteroCount\", \"idx\": 1186380000000, \"val\": 320.0}, {\"col\": \"EnteroCount\", \"idx\": 1187244000000, \"val\": 6.0}, {\"col\": \"EnteroCount\", \"idx\": 1187244000000, \"val\": 4.0}, {\"col\": \"EnteroCount\", \"idx\": 1187244000000, \"val\": 48.0}, {\"col\": \"EnteroCount\", \"idx\": 1187244000000, \"val\": 6.0}, {\"col\": \"EnteroCount\", \"idx\": 1187244000000, \"val\": 2.0}, {\"col\": \"EnteroCount\", \"idx\": 1187244000000, \"val\": 35.0}, {\"col\": \"EnteroCount\", \"idx\": 1187244000000, \"val\": 19.0}, {\"col\": \"EnteroCount\", \"idx\": 1187244000000, \"val\": 4.0}, {\"col\": \"EnteroCount\", \"idx\": 1187244000000, \"val\": 4.0}, {\"col\": \"EnteroCount\", \"idx\": 1187244000000, \"val\": 36.0}, {\"col\": \"EnteroCount\", \"idx\": 1187244000000, \"val\": 134.0}, {\"col\": \"EnteroCount\", \"idx\": 1187244000000, \"val\": 21.0}, {\"col\": \"EnteroCount\", \"idx\": 1187848800000, \"val\": 48.0}, {\"col\": \"EnteroCount\", \"idx\": 1187848800000, \"val\": 9.0}, {\"col\": \"EnteroCount\", \"idx\": 1187848800000, \"val\": 19.0}, {\"col\": \"EnteroCount\", \"idx\": 1187848800000, \"val\": 1.0}, {\"col\": \"EnteroCount\", \"idx\": 1187848800000, \"val\": 324.0}, {\"col\": \"EnteroCount\", \"idx\": 1187848800000, \"val\": 7.0}, {\"col\": \"EnteroCount\", \"idx\": 1187848800000, \"val\": 194.0}, {\"col\": \"EnteroCount\", \"idx\": 1187848800000, \"val\": 7.0}, {\"col\": \"EnteroCount\", \"idx\": 1189058400000, \"val\": 1.0}, {\"col\": \"EnteroCount\", \"idx\": 1189058400000, \"val\": 5.0}, {\"col\": \"EnteroCount\", \"idx\": 1189058400000, \"val\": 2.0}, {\"col\": \"EnteroCount\", \"idx\": 1189058400000, \"val\": 123.0}, {\"col\": \"EnteroCount\", \"idx\": 1189058400000, \"val\": 3.0}, {\"col\": \"EnteroCount\", \"idx\": 1189058400000, \"val\": 1.0}, {\"col\": \"EnteroCount\", \"idx\": 1189058400000, \"val\": 2.0}, {\"col\": \"EnteroCount\", \"idx\": 1189058400000, \"val\": 1.0}, {\"col\": \"EnteroCount\", \"idx\": 1189058400000, \"val\": 21.0}, {\"col\": \"EnteroCount\", \"idx\": 1189058400000, \"val\": 4.0}, {\"col\": \"EnteroCount\", \"idx\": 1189058400000, \"val\": 27.0}, {\"col\": \"EnteroCount\", \"idx\": 1189058400000, \"val\": 18.0}, {\"col\": \"EnteroCount\", \"idx\": 1189058400000, \"val\": 5.0}, {\"col\": \"EnteroCount\", \"idx\": 1189317600000, \"val\": 30.0}, {\"col\": \"EnteroCount\", \"idx\": 1189317600000, \"val\": 1.0}, {\"col\": \"EnteroCount\", \"idx\": 1189317600000, \"val\": 1.0}, {\"col\": \"EnteroCount\", \"idx\": 1189317600000, \"val\": 2.0}, {\"col\": \"EnteroCount\", \"idx\": 1189317600000, \"val\": 1.0}, {\"col\": \"EnteroCount\", \"idx\": 1189317600000, \"val\": 35.0}, {\"col\": \"EnteroCount\", \"idx\": 1189317600000, \"val\": 2.0}, {\"col\": \"EnteroCount\", \"idx\": 1189317600000, \"val\": 19.0}, {\"col\": \"EnteroCount\", \"idx\": 1210572000000, \"val\": 231.0}, {\"col\": \"EnteroCount\", \"idx\": 1210917600000, \"val\": 10.0}, {\"col\": \"EnteroCount\", \"idx\": 1211176800000, \"val\": 10.0}, {\"col\": \"EnteroCount\", \"idx\": 1211176800000, \"val\": 30.0}, {\"col\": \"EnteroCount\", \"idx\": 1211176800000, \"val\": 10.0}, {\"col\": \"EnteroCount\", \"idx\": 1211176800000, \"val\": 109.0}, {\"col\": \"EnteroCount\", \"idx\": 1211176800000, \"val\": 364.0}, {\"col\": \"EnteroCount\", \"idx\": 1211176800000, \"val\": 20.0}, {\"col\": \"EnteroCount\", \"idx\": 1211176800000, \"val\": 341.0}, {\"col\": \"EnteroCount\", \"idx\": 1211176800000, \"val\": 20.0}, {\"col\": \"EnteroCount\", \"idx\": 1211176800000, \"val\": 41.0}, {\"col\": \"EnteroCount\", \"idx\": 1211176800000, \"val\": 41.0}, {\"col\": \"EnteroCount\", \"idx\": 1211176800000, \"val\": 20.0}, {\"col\": \"EnteroCount\", \"idx\": 1211176800000, \"val\": 10.0}, {\"col\": \"EnteroCount\", \"idx\": 1211263200000, \"val\": 2420.0}, {\"col\": \"EnteroCount\", \"idx\": 1211263200000, \"val\": 6.0}, {\"col\": \"EnteroCount\", \"idx\": 1211263200000, \"val\": 18.0}, {\"col\": \"EnteroCount\", \"idx\": 1211263200000, \"val\": 11.0}, {\"col\": \"EnteroCount\", \"idx\": 1211263200000, \"val\": 14.0}, {\"col\": \"EnteroCount\", \"idx\": 1211263200000, \"val\": 18.0}, {\"col\": \"EnteroCount\", \"idx\": 1211263200000, \"val\": 2.0}, {\"col\": \"EnteroCount\", \"idx\": 1211263200000, \"val\": 16.0}, {\"col\": \"EnteroCount\", \"idx\": 1211263200000, \"val\": 35.0}, {\"col\": \"EnteroCount\", \"idx\": 1211263200000, \"val\": 222.0}, {\"col\": \"EnteroCount\", \"idx\": 1211263200000, \"val\": 31.0}, {\"col\": \"EnteroCount\", \"idx\": 1211263200000, \"val\": 41.0}, {\"col\": \"EnteroCount\", \"idx\": 1211263200000, \"val\": 6.0}, {\"col\": \"EnteroCount\", \"idx\": 1211349600000, \"val\": 4.0}, {\"col\": \"EnteroCount\", \"idx\": 1211349600000, \"val\": 3.0}, {\"col\": \"EnteroCount\", \"idx\": 1211349600000, \"val\": 1.0}, {\"col\": \"EnteroCount\", \"idx\": 1211349600000, \"val\": 108.0}, {\"col\": \"EnteroCount\", \"idx\": 1211349600000, \"val\": 1.0}, {\"col\": \"EnteroCount\", \"idx\": 1211349600000, \"val\": 3.0}, {\"col\": \"EnteroCount\", \"idx\": 1211349600000, \"val\": 1.0}, {\"col\": \"EnteroCount\", \"idx\": 1211349600000, \"val\": 4.0}, {\"col\": \"EnteroCount\", \"idx\": 1211349600000, \"val\": 7.0}, {\"col\": \"EnteroCount\", \"idx\": 1211349600000, \"val\": 1300.0}, {\"col\": \"EnteroCount\", \"idx\": 1211349600000, \"val\": 1.0}, {\"col\": \"EnteroCount\", \"idx\": 1211349600000, \"val\": 19.0}, {\"col\": \"EnteroCount\", \"idx\": 1211349600000, \"val\": 11.0}, {\"col\": \"EnteroCount\", \"idx\": 1211349600000, \"val\": 3.0}, {\"col\": \"EnteroCount\", \"idx\": 1211349600000, \"val\": 2.0}, {\"col\": \"EnteroCount\", \"idx\": 1211349600000, \"val\": 3.0}, {\"col\": \"EnteroCount\", \"idx\": 1211349600000, \"val\": 11.0}, {\"col\": \"EnteroCount\", \"idx\": 1211436000000, \"val\": 24.0}, {\"col\": \"EnteroCount\", \"idx\": 1211436000000, \"val\": 1.0}, {\"col\": \"EnteroCount\", \"idx\": 1211436000000, \"val\": 32.0}, {\"col\": \"EnteroCount\", \"idx\": 1211436000000, \"val\": 15.0}, {\"col\": \"EnteroCount\", \"idx\": 1211436000000, \"val\": 45.0}, {\"col\": \"EnteroCount\", \"idx\": 1211436000000, \"val\": 1.0}, {\"col\": \"EnteroCount\", \"idx\": 1211436000000, \"val\": 50.0}, {\"col\": \"EnteroCount\", \"idx\": 1211436000000, \"val\": 12.0}, {\"col\": \"EnteroCount\", \"idx\": 1211436000000, \"val\": 2.0}, {\"col\": \"EnteroCount\", \"idx\": 1211436000000, \"val\": 34.0}, {\"col\": \"EnteroCount\", \"idx\": 1211436000000, \"val\": 8.0}, {\"col\": \"EnteroCount\", \"idx\": 1211436000000, \"val\": 5.0}, {\"col\": \"EnteroCount\", \"idx\": 1211436000000, \"val\": 2.0}, {\"col\": \"EnteroCount\", \"idx\": 1212040800000, \"val\": 15.0}, {\"col\": \"EnteroCount\", \"idx\": 1212040800000, \"val\": 104.0}, {\"col\": \"EnteroCount\", \"idx\": 1212645600000, \"val\": 1300.0}, {\"col\": \"EnteroCount\", \"idx\": 1212991200000, \"val\": 457.0}, {\"col\": \"EnteroCount\", \"idx\": 1212991200000, \"val\": 4.0}, {\"col\": \"EnteroCount\", \"idx\": 1213250400000, \"val\": 1046.0}, {\"col\": \"EnteroCount\", \"idx\": 1213596000000, \"val\": 6.0}, {\"col\": \"EnteroCount\", \"idx\": 1213596000000, \"val\": 185.0}, {\"col\": \"EnteroCount\", \"idx\": 1213596000000, \"val\": 12.0}, {\"col\": \"EnteroCount\", \"idx\": 1213596000000, \"val\": 6.0}, {\"col\": \"EnteroCount\", \"idx\": 1213596000000, \"val\": 214.0}, {\"col\": \"EnteroCount\", \"idx\": 1213596000000, \"val\": 11.0}, {\"col\": \"EnteroCount\", \"idx\": 1213596000000, \"val\": 7.0}, {\"col\": \"EnteroCount\", \"idx\": 1213596000000, \"val\": 214.0}, {\"col\": \"EnteroCount\", \"idx\": 1213596000000, \"val\": 5.0}, {\"col\": \"EnteroCount\", \"idx\": 1213596000000, \"val\": 276.0}, {\"col\": \"EnteroCount\", \"idx\": 1213596000000, \"val\": 365.0}, {\"col\": \"EnteroCount\", \"idx\": 1213682400000, \"val\": 19.0}, {\"col\": \"EnteroCount\", \"idx\": 1213682400000, \"val\": 24.0}, {\"col\": \"EnteroCount\", \"idx\": 1213682400000, \"val\": 41.0}, {\"col\": \"EnteroCount\", \"idx\": 1213682400000, \"val\": 3.0}, {\"col\": \"EnteroCount\", \"idx\": 1213682400000, \"val\": 6.0}, {\"col\": \"EnteroCount\", \"idx\": 1213682400000, \"val\": 17.0}, {\"col\": \"EnteroCount\", \"idx\": 1213682400000, \"val\": 4.0}, {\"col\": \"EnteroCount\", \"idx\": 1213682400000, \"val\": 4.0}, {\"col\": \"EnteroCount\", \"idx\": 1213682400000, \"val\": 13.0}, {\"col\": \"EnteroCount\", \"idx\": 1213682400000, \"val\": 119.0}, {\"col\": \"EnteroCount\", \"idx\": 1213682400000, \"val\": 40.0}, {\"col\": \"EnteroCount\", \"idx\": 1213682400000, \"val\": 20.0}, {\"col\": \"EnteroCount\", \"idx\": 1213682400000, \"val\": 1.0}, {\"col\": \"EnteroCount\", \"idx\": 1213768800000, \"val\": 4.0}, {\"col\": \"EnteroCount\", \"idx\": 1213768800000, \"val\": 9.0}, {\"col\": \"EnteroCount\", \"idx\": 1213768800000, \"val\": 12.0}, {\"col\": \"EnteroCount\", \"idx\": 1213768800000, \"val\": 36.0}, {\"col\": \"EnteroCount\", \"idx\": 1213768800000, \"val\": 2.0}, {\"col\": \"EnteroCount\", \"idx\": 1213768800000, \"val\": 50.0}, {\"col\": \"EnteroCount\", \"idx\": 1213768800000, \"val\": 7.0}, {\"col\": \"EnteroCount\", \"idx\": 1213768800000, \"val\": 1.0}, {\"col\": \"EnteroCount\", \"idx\": 1213768800000, \"val\": 70.0}, {\"col\": \"EnteroCount\", \"idx\": 1213768800000, \"val\": 42.0}, {\"col\": \"EnteroCount\", \"idx\": 1213768800000, \"val\": 19.0}, {\"col\": \"EnteroCount\", \"idx\": 1213768800000, \"val\": 3.0}, {\"col\": \"EnteroCount\", \"idx\": 1213768800000, \"val\": 238.0}, {\"col\": \"EnteroCount\", \"idx\": 1213768800000, \"val\": 21.0}, {\"col\": \"EnteroCount\", \"idx\": 1213768800000, \"val\": 26.0}, {\"col\": \"EnteroCount\", \"idx\": 1213855200000, \"val\": 12.0}, {\"col\": \"EnteroCount\", \"idx\": 1213855200000, \"val\": 1414.0}, {\"col\": \"EnteroCount\", \"idx\": 1213855200000, \"val\": 45.0}, {\"col\": \"EnteroCount\", \"idx\": 1213855200000, \"val\": 143.0}, {\"col\": \"EnteroCount\", \"idx\": 1213855200000, \"val\": 11.0}, {\"col\": \"EnteroCount\", \"idx\": 1213855200000, \"val\": 56.0}, {\"col\": \"EnteroCount\", \"idx\": 1213855200000, \"val\": 59.0}, {\"col\": \"EnteroCount\", \"idx\": 1213855200000, \"val\": 38.0}, {\"col\": \"EnteroCount\", \"idx\": 1213855200000, \"val\": 18.0}, {\"col\": \"EnteroCount\", \"idx\": 1213855200000, \"val\": 27.0}, {\"col\": \"EnteroCount\", \"idx\": 1213855200000, \"val\": 435.0}, {\"col\": \"EnteroCount\", \"idx\": 1213855200000, \"val\": 14.0}, {\"col\": \"EnteroCount\", \"idx\": 1213941600000, \"val\": 5.0}, {\"col\": \"EnteroCount\", \"idx\": 1213941600000, \"val\": 139.0}, {\"col\": \"EnteroCount\", \"idx\": 1214287200000, \"val\": 47.0}, {\"col\": \"EnteroCount\", \"idx\": 1214287200000, \"val\": 1427.0}, {\"col\": \"EnteroCount\", \"idx\": 1214287200000, \"val\": 410.0}, {\"col\": \"EnteroCount\", \"idx\": 1214287200000, \"val\": 109.0}, {\"col\": \"EnteroCount\", \"idx\": 1214287200000, \"val\": 134.0}, {\"col\": \"EnteroCount\", \"idx\": 1214287200000, \"val\": 160.0}, {\"col\": \"EnteroCount\", \"idx\": 1214287200000, \"val\": 52.0}, {\"col\": \"EnteroCount\", \"idx\": 1214287200000, \"val\": 13.0}, {\"col\": \"EnteroCount\", \"idx\": 1214287200000, \"val\": 500.0}, {\"col\": \"EnteroCount\", \"idx\": 1214287200000, \"val\": 268.0}, {\"col\": \"EnteroCount\", \"idx\": 1214373600000, \"val\": 18.0}, {\"col\": \"EnteroCount\", \"idx\": 1214373600000, \"val\": 86.0}, {\"col\": \"EnteroCount\", \"idx\": 1214373600000, \"val\": 142.0}, {\"col\": \"EnteroCount\", \"idx\": 1214373600000, \"val\": 1483.0}, {\"col\": \"EnteroCount\", \"idx\": 1214373600000, \"val\": 22.0}, {\"col\": \"EnteroCount\", \"idx\": 1214373600000, \"val\": 86.0}, {\"col\": \"EnteroCount\", \"idx\": 1214373600000, \"val\": 337.0}, {\"col\": \"EnteroCount\", \"idx\": 1214373600000, \"val\": 31.0}, {\"col\": \"EnteroCount\", \"idx\": 1214373600000, \"val\": 22.0}, {\"col\": \"EnteroCount\", \"idx\": 1214373600000, \"val\": 20.0}, {\"col\": \"EnteroCount\", \"idx\": 1214373600000, \"val\": 1248.0}, {\"col\": \"EnteroCount\", \"idx\": 1214373600000, \"val\": 1217.0}, {\"col\": \"EnteroCount\", \"idx\": 1214892000000, \"val\": 259.0}, {\"col\": \"EnteroCount\", \"idx\": 1214892000000, \"val\": 41.0}, {\"col\": \"EnteroCount\", \"idx\": 1214978400000, \"val\": 43.0}, {\"col\": \"EnteroCount\", \"idx\": 1214978400000, \"val\": 10.0}, {\"col\": \"EnteroCount\", \"idx\": 1214978400000, \"val\": 16.0}, {\"col\": \"EnteroCount\", \"idx\": 1214978400000, \"val\": 159.0}, {\"col\": \"EnteroCount\", \"idx\": 1214978400000, \"val\": 20.0}, {\"col\": \"EnteroCount\", \"idx\": 1214978400000, \"val\": 15.0}, {\"col\": \"EnteroCount\", \"idx\": 1214978400000, \"val\": 15.0}, {\"col\": \"EnteroCount\", \"idx\": 1214978400000, \"val\": 5.0}, {\"col\": \"EnteroCount\", \"idx\": 1214978400000, \"val\": 81.0}, {\"col\": \"EnteroCount\", \"idx\": 1214978400000, \"val\": 6488.0}, {\"col\": \"EnteroCount\", \"idx\": 1214978400000, \"val\": 15.0}, {\"col\": \"EnteroCount\", \"idx\": 1214978400000, \"val\": 10.0}, {\"col\": \"EnteroCount\", \"idx\": 1214978400000, \"val\": 15.0}, {\"col\": \"EnteroCount\", \"idx\": 1215064800000, \"val\": 727.0}, {\"col\": \"EnteroCount\", \"idx\": 1215064800000, \"val\": 1300.0}, {\"col\": \"EnteroCount\", \"idx\": 1215669600000, \"val\": 20.0}, {\"col\": \"EnteroCount\", \"idx\": 1215669600000, \"val\": 387.0}, {\"col\": \"EnteroCount\", \"idx\": 1215756000000, \"val\": 63.0}, {\"col\": \"EnteroCount\", \"idx\": 1216015200000, \"val\": 20.0}, {\"col\": \"EnteroCount\", \"idx\": 1216015200000, \"val\": 5635.0}, {\"col\": \"EnteroCount\", \"idx\": 1216015200000, \"val\": 20.0}, {\"col\": \"EnteroCount\", \"idx\": 1216015200000, \"val\": 80.0}, {\"col\": \"EnteroCount\", \"idx\": 1216015200000, \"val\": 147.0}, {\"col\": \"EnteroCount\", \"idx\": 1216015200000, \"val\": 5.0}, {\"col\": \"EnteroCount\", \"idx\": 1216015200000, \"val\": 187.0}, {\"col\": \"EnteroCount\", \"idx\": 1216015200000, \"val\": 31.0}, {\"col\": \"EnteroCount\", \"idx\": 1216015200000, \"val\": 15.0}, {\"col\": \"EnteroCount\", \"idx\": 1216015200000, \"val\": 79.0}, {\"col\": \"EnteroCount\", \"idx\": 1216015200000, \"val\": 4229.0}, {\"col\": \"EnteroCount\", \"idx\": 1216015200000, \"val\": 231.0}, {\"col\": \"EnteroCount\", \"idx\": 1216015200000, \"val\": 90.0}, {\"col\": \"EnteroCount\", \"idx\": 1216015200000, \"val\": 26.0}, {\"col\": \"EnteroCount\", \"idx\": 1216101600000, \"val\": 28.0}, {\"col\": \"EnteroCount\", \"idx\": 1216101600000, \"val\": 20.0}, {\"col\": \"EnteroCount\", \"idx\": 1216101600000, \"val\": 27.0}, {\"col\": \"EnteroCount\", \"idx\": 1216101600000, \"val\": 45.0}, {\"col\": \"EnteroCount\", \"idx\": 1216101600000, \"val\": 10.0}, {\"col\": \"EnteroCount\", \"idx\": 1216101600000, \"val\": 122.0}, {\"col\": \"EnteroCount\", \"idx\": 1216101600000, \"val\": 9.0}, {\"col\": \"EnteroCount\", \"idx\": 1216101600000, \"val\": 158.0}, {\"col\": \"EnteroCount\", \"idx\": 1216101600000, \"val\": 9.0}, {\"col\": \"EnteroCount\", \"idx\": 1216188000000, \"val\": 3.0}, {\"col\": \"EnteroCount\", \"idx\": 1216188000000, \"val\": 6.0}, {\"col\": \"EnteroCount\", \"idx\": 1216188000000, \"val\": 1.0}, {\"col\": \"EnteroCount\", \"idx\": 1216188000000, \"val\": 1.0}, {\"col\": \"EnteroCount\", \"idx\": 1216188000000, \"val\": 3.0}, {\"col\": \"EnteroCount\", \"idx\": 1216188000000, \"val\": 1.0}, {\"col\": \"EnteroCount\", \"idx\": 1216188000000, \"val\": 1.0}, {\"col\": \"EnteroCount\", \"idx\": 1216188000000, \"val\": 2.0}, {\"col\": \"EnteroCount\", \"idx\": 1216188000000, \"val\": 10.0}, {\"col\": \"EnteroCount\", \"idx\": 1216188000000, \"val\": 3.0}, {\"col\": \"EnteroCount\", \"idx\": 1216188000000, \"val\": 40.0}, {\"col\": \"EnteroCount\", \"idx\": 1216188000000, \"val\": 1.0}, {\"col\": \"EnteroCount\", \"idx\": 1216188000000, \"val\": 13.0}, {\"col\": \"EnteroCount\", \"idx\": 1216188000000, \"val\": 1.0}, {\"col\": \"EnteroCount\", \"idx\": 1216188000000, \"val\": 1.0}, {\"col\": \"EnteroCount\", \"idx\": 1216188000000, \"val\": 8.0}, {\"col\": \"EnteroCount\", \"idx\": 1216188000000, \"val\": 2.0}, {\"col\": \"EnteroCount\", \"idx\": 1216188000000, \"val\": 9.0}, {\"col\": \"EnteroCount\", \"idx\": 1216274400000, \"val\": 12.0}, {\"col\": \"EnteroCount\", \"idx\": 1216274400000, \"val\": 38.0}, {\"col\": \"EnteroCount\", \"idx\": 1216274400000, \"val\": 6.0}, {\"col\": \"EnteroCount\", \"idx\": 1216274400000, \"val\": 3.0}, {\"col\": \"EnteroCount\", \"idx\": 1216274400000, \"val\": 5.0}, {\"col\": \"EnteroCount\", \"idx\": 1216274400000, \"val\": 8.0}, {\"col\": \"EnteroCount\", \"idx\": 1216274400000, \"val\": 11.0}, {\"col\": \"EnteroCount\", \"idx\": 1216274400000, \"val\": 12.0}, {\"col\": \"EnteroCount\", \"idx\": 1216274400000, \"val\": 17.0}, {\"col\": \"EnteroCount\", \"idx\": 1216274400000, \"val\": 12.0}, {\"col\": \"EnteroCount\", \"idx\": 1216274400000, \"val\": 15.0}, {\"col\": \"EnteroCount\", \"idx\": 1216274400000, \"val\": 21.0}, {\"col\": \"EnteroCount\", \"idx\": 1216274400000, \"val\": 6.0}, {\"col\": \"EnteroCount\", \"idx\": 1216274400000, \"val\": 17.0}, {\"col\": \"EnteroCount\", \"idx\": 1216274400000, \"val\": 7.0}, {\"col\": \"EnteroCount\", \"idx\": 1216274400000, \"val\": 6.0}, {\"col\": \"EnteroCount\", \"idx\": 1216274400000, \"val\": 16.0}, {\"col\": \"EnteroCount\", \"idx\": 1216274400000, \"val\": 9.0}, {\"col\": \"EnteroCount\", \"idx\": 1216274400000, \"val\": 12.0}, {\"col\": \"EnteroCount\", \"idx\": 1216533600000, \"val\": 80.0}, {\"col\": \"EnteroCount\", \"idx\": 1216533600000, \"val\": 60.0}, {\"col\": \"EnteroCount\", \"idx\": 1216792800000, \"val\": 8160.0}, {\"col\": \"EnteroCount\", \"idx\": 1216792800000, \"val\": 5790.0}, {\"col\": \"EnteroCount\", \"idx\": 1216792800000, \"val\": 250.0}, {\"col\": \"EnteroCount\", \"idx\": 1216792800000, \"val\": 1110.0}, {\"col\": \"EnteroCount\", \"idx\": 1216792800000, \"val\": 140.0}, {\"col\": \"EnteroCount\", \"idx\": 1216965600000, \"val\": 11.0}, {\"col\": \"EnteroCount\", \"idx\": 1216965600000, \"val\": 298.0}, {\"col\": \"EnteroCount\", \"idx\": 1217484000000, \"val\": 13.0}, {\"col\": \"EnteroCount\", \"idx\": 1217484000000, \"val\": 60.0}, {\"col\": \"EnteroCount\", \"idx\": 1218002400000, \"val\": 3.0}, {\"col\": \"EnteroCount\", \"idx\": 1218002400000, \"val\": 38.0}, {\"col\": \"EnteroCount\", \"idx\": 1218002400000, \"val\": 1.0}, {\"col\": \"EnteroCount\", \"idx\": 1218002400000, \"val\": 3.0}, {\"col\": \"EnteroCount\", \"idx\": 1218002400000, \"val\": 27.0}, {\"col\": \"EnteroCount\", \"idx\": 1218002400000, \"val\": 1.0}, {\"col\": \"EnteroCount\", \"idx\": 1218002400000, \"val\": 2.0}, {\"col\": \"EnteroCount\", \"idx\": 1218002400000, \"val\": 3.0}, {\"col\": \"EnteroCount\", \"idx\": 1218002400000, \"val\": 30.0}, {\"col\": \"EnteroCount\", \"idx\": 1218002400000, \"val\": 3873.0}, {\"col\": \"EnteroCount\", \"idx\": 1218002400000, \"val\": 4.0}, {\"col\": \"EnteroCount\", \"idx\": 1218002400000, \"val\": 1.0}, {\"col\": \"EnteroCount\", \"idx\": 1218002400000, \"val\": 934.0}, {\"col\": \"EnteroCount\", \"idx\": 1218088800000, \"val\": 435.0}, {\"col\": \"EnteroCount\", \"idx\": 1218088800000, \"val\": 3.0}, {\"col\": \"EnteroCount\", \"idx\": 1218088800000, \"val\": 44.0}, {\"col\": \"EnteroCount\", \"idx\": 1218088800000, \"val\": 25.0}, {\"col\": \"EnteroCount\", \"idx\": 1218088800000, \"val\": 50.0}, {\"col\": \"EnteroCount\", \"idx\": 1218088800000, \"val\": 1.0}, {\"col\": \"EnteroCount\", \"idx\": 1218175200000, \"val\": 5.0}, {\"col\": \"EnteroCount\", \"idx\": 1218175200000, \"val\": 6.0}, {\"col\": \"EnteroCount\", \"idx\": 1218175200000, \"val\": 21.0}, {\"col\": \"EnteroCount\", \"idx\": 1218175200000, \"val\": 34.0}, {\"col\": \"EnteroCount\", \"idx\": 1218175200000, \"val\": 9.0}, {\"col\": \"EnteroCount\", \"idx\": 1218175200000, \"val\": 31.0}, {\"col\": \"EnteroCount\", \"idx\": 1218175200000, \"val\": 5.0}, {\"col\": \"EnteroCount\", \"idx\": 1218175200000, \"val\": 17.0}, {\"col\": \"EnteroCount\", \"idx\": 1218175200000, \"val\": 88.0}, {\"col\": \"EnteroCount\", \"idx\": 1218261600000, \"val\": 41.0}, {\"col\": \"EnteroCount\", \"idx\": 1218261600000, \"val\": 23.0}, {\"col\": \"EnteroCount\", \"idx\": 1218261600000, \"val\": 194.0}, {\"col\": \"EnteroCount\", \"idx\": 1218261600000, \"val\": 42.0}, {\"col\": \"EnteroCount\", \"idx\": 1218261600000, \"val\": 613.0}, {\"col\": \"EnteroCount\", \"idx\": 1218261600000, \"val\": 517.0}, {\"col\": \"EnteroCount\", \"idx\": 1218261600000, \"val\": 65.0}, {\"col\": \"EnteroCount\", \"idx\": 1218261600000, \"val\": 70.0}, {\"col\": \"EnteroCount\", \"idx\": 1218261600000, \"val\": 613.0}, {\"col\": \"EnteroCount\", \"idx\": 1218261600000, \"val\": 45.0}, {\"col\": \"EnteroCount\", \"idx\": 1218261600000, \"val\": 435.0}, {\"col\": \"EnteroCount\", \"idx\": 1218261600000, \"val\": 26.0}, {\"col\": \"EnteroCount\", \"idx\": 1218261600000, \"val\": 197.0}, {\"col\": \"EnteroCount\", \"idx\": 1218261600000, \"val\": 12.0}, {\"col\": \"EnteroCount\", \"idx\": 1218261600000, \"val\": 40.0}, {\"col\": \"EnteroCount\", \"idx\": 1218261600000, \"val\": 20.0}, {\"col\": \"EnteroCount\", \"idx\": 1218261600000, \"val\": 26.0}, {\"col\": \"EnteroCount\", \"idx\": 1218348000000, \"val\": 70.0}, {\"col\": \"EnteroCount\", \"idx\": 1218348000000, \"val\": 3.0}, {\"col\": \"EnteroCount\", \"idx\": 1218348000000, \"val\": 10.0}, {\"col\": \"EnteroCount\", \"idx\": 1218348000000, \"val\": 19.0}, {\"col\": \"EnteroCount\", \"idx\": 1218348000000, \"val\": 19.0}, {\"col\": \"EnteroCount\", \"idx\": 1218348000000, \"val\": 1553.0}, {\"col\": \"EnteroCount\", \"idx\": 1218866400000, \"val\": 15530.0}, {\"col\": \"EnteroCount\", \"idx\": 1218866400000, \"val\": 12030.0}, {\"col\": \"EnteroCount\", \"idx\": 1219125600000, \"val\": 10.0}, {\"col\": \"EnteroCount\", \"idx\": 1219125600000, \"val\": 10.0}, {\"col\": \"EnteroCount\", \"idx\": 1219125600000, \"val\": 20.0}, {\"col\": \"EnteroCount\", \"idx\": 1219125600000, \"val\": 10.0}, {\"col\": \"EnteroCount\", \"idx\": 1219125600000, \"val\": 223.0}, {\"col\": \"EnteroCount\", \"idx\": 1219125600000, \"val\": 20.0}, {\"col\": \"EnteroCount\", \"idx\": 1219125600000, \"val\": 10.0}, {\"col\": \"EnteroCount\", \"idx\": 1219298400000, \"val\": 74.0}, {\"col\": \"EnteroCount\", \"idx\": 1219298400000, \"val\": 10.0}, {\"col\": \"EnteroCount\", \"idx\": 1219298400000, \"val\": 30.0}, {\"col\": \"EnteroCount\", \"idx\": 1219384800000, \"val\": 20.0}, {\"col\": \"EnteroCount\", \"idx\": 1219384800000, \"val\": 99.0}, {\"col\": \"EnteroCount\", \"idx\": 1219903200000, \"val\": 20.0}, {\"col\": \"EnteroCount\", \"idx\": 1219903200000, \"val\": 40.0}, {\"col\": \"EnteroCount\", \"idx\": 1220594400000, \"val\": 240.0}, {\"col\": \"EnteroCount\", \"idx\": 1220680800000, \"val\": 1620.0}, {\"col\": \"EnteroCount\", \"idx\": 1220767200000, \"val\": 130.0}, {\"col\": \"EnteroCount\", \"idx\": 1220767200000, \"val\": 627.0}, {\"col\": \"EnteroCount\", \"idx\": 1220767200000, \"val\": 120.0}, {\"col\": \"EnteroCount\", \"idx\": 1220767200000, \"val\": 30.0}, {\"col\": \"EnteroCount\", \"idx\": 1220767200000, \"val\": 1240.0}, {\"col\": \"EnteroCount\", \"idx\": 1220853600000, \"val\": 130.0}, {\"col\": \"EnteroCount\", \"idx\": 1220853600000, \"val\": 50.0}, {\"col\": \"EnteroCount\", \"idx\": 1220940000000, \"val\": 213.0}, {\"col\": \"EnteroCount\", \"idx\": 1221026400000, \"val\": 300.0}, {\"col\": \"EnteroCount\", \"idx\": 1221026400000, \"val\": 40.0}, {\"col\": \"EnteroCount\", \"idx\": 1221458400000, \"val\": 3.0}, {\"col\": \"EnteroCount\", \"idx\": 1221458400000, \"val\": 17.0}, {\"col\": \"EnteroCount\", \"idx\": 1221458400000, \"val\": 42.0}, {\"col\": \"EnteroCount\", \"idx\": 1221458400000, \"val\": 19.0}, {\"col\": \"EnteroCount\", \"idx\": 1221458400000, \"val\": 13.0}, {\"col\": \"EnteroCount\", \"idx\": 1221458400000, \"val\": 2.0}, {\"col\": \"EnteroCount\", \"idx\": 1221544800000, \"val\": 4.0}, {\"col\": \"EnteroCount\", \"idx\": 1221544800000, \"val\": 3.0}, {\"col\": \"EnteroCount\", \"idx\": 1221544800000, \"val\": 1.0}, {\"col\": \"EnteroCount\", \"idx\": 1221544800000, \"val\": 2.0}, {\"col\": \"EnteroCount\", \"idx\": 1221544800000, \"val\": 4.0}, {\"col\": \"EnteroCount\", \"idx\": 1221544800000, \"val\": 2.0}, {\"col\": \"EnteroCount\", \"idx\": 1221544800000, \"val\": 3.0}, {\"col\": \"EnteroCount\", \"idx\": 1221544800000, \"val\": 1.0}, {\"col\": \"EnteroCount\", \"idx\": 1221544800000, \"val\": 4.0}, {\"col\": \"EnteroCount\", \"idx\": 1221631200000, \"val\": 9.0}, {\"col\": \"EnteroCount\", \"idx\": 1221631200000, \"val\": 11.0}, {\"col\": \"EnteroCount\", \"idx\": 1221631200000, \"val\": 10.0}, {\"col\": \"EnteroCount\", \"idx\": 1221631200000, \"val\": 8.0}, {\"col\": \"EnteroCount\", \"idx\": 1221631200000, \"val\": 4.0}, {\"col\": \"EnteroCount\", \"idx\": 1221631200000, \"val\": 11.0}, {\"col\": \"EnteroCount\", \"idx\": 1221717600000, \"val\": 50.0}, {\"col\": \"EnteroCount\", \"idx\": 1221717600000, \"val\": 8.0}, {\"col\": \"EnteroCount\", \"idx\": 1221717600000, \"val\": 100.0}, {\"col\": \"EnteroCount\", \"idx\": 1221717600000, \"val\": 47.0}, {\"col\": \"EnteroCount\", \"idx\": 1221717600000, \"val\": 43.0}, {\"col\": \"EnteroCount\", \"idx\": 1221717600000, \"val\": 6.0}, {\"col\": \"EnteroCount\", \"idx\": 1221717600000, \"val\": 11.0}, {\"col\": \"EnteroCount\", \"idx\": 1221717600000, \"val\": 201.0}, {\"col\": \"EnteroCount\", \"idx\": 1221804000000, \"val\": 85.0}, {\"col\": \"EnteroCount\", \"idx\": 1221890400000, \"val\": 3.0}, {\"col\": \"EnteroCount\", \"idx\": 1221890400000, \"val\": 3.0}, {\"col\": \"EnteroCount\", \"idx\": 1221890400000, \"val\": 2.0}, {\"col\": \"EnteroCount\", \"idx\": 1221890400000, \"val\": 4.0}, {\"col\": \"EnteroCount\", \"idx\": 1221890400000, \"val\": 2.0}, {\"col\": \"EnteroCount\", \"idx\": 1221890400000, \"val\": 2.0}, {\"col\": \"EnteroCount\", \"idx\": 1221890400000, \"val\": 2.0}, {\"col\": \"EnteroCount\", \"idx\": 1221890400000, \"val\": 1.0}, {\"col\": \"EnteroCount\", \"idx\": 1222149600000, \"val\": 10.0}, {\"col\": \"EnteroCount\", \"idx\": 1222149600000, \"val\": 31.0}, {\"col\": \"EnteroCount\", \"idx\": 1222149600000, \"val\": 10.0}, {\"col\": \"EnteroCount\", \"idx\": 1222149600000, \"val\": 63.0}, {\"col\": \"EnteroCount\", \"idx\": 1222236000000, \"val\": 10.0}, {\"col\": \"EnteroCount\", \"idx\": 1222236000000, \"val\": 10.0}, {\"col\": \"EnteroCount\", \"idx\": 1222408800000, \"val\": 1892.0}, {\"col\": \"EnteroCount\", \"idx\": 1222408800000, \"val\": 2220.0}, {\"col\": \"EnteroCount\", \"idx\": 1222408800000, \"val\": 80.0}, {\"col\": \"EnteroCount\", \"idx\": 1222495200000, \"val\": 74.0}, {\"col\": \"EnteroCount\", \"idx\": 1222495200000, \"val\": 301.0}, {\"col\": \"EnteroCount\", \"idx\": 1222495200000, \"val\": 1095.0}, {\"col\": \"EnteroCount\", \"idx\": 1222581600000, \"val\": 226.0}, {\"col\": \"EnteroCount\", \"idx\": 1222581600000, \"val\": 860.0}, {\"col\": \"EnteroCount\", \"idx\": 1224050400000, \"val\": 20.0}, {\"col\": \"EnteroCount\", \"idx\": 1224396000000, \"val\": 10.0}, {\"col\": \"EnteroCount\", \"idx\": 1224396000000, \"val\": 10.0}, {\"col\": \"EnteroCount\", \"idx\": 1224396000000, \"val\": 20.0}, {\"col\": \"EnteroCount\", \"idx\": 1224482400000, \"val\": 10.0}, {\"col\": \"EnteroCount\", \"idx\": 1224482400000, \"val\": 10.0}, {\"col\": \"EnteroCount\", \"idx\": 1224482400000, \"val\": 10.0}, {\"col\": \"EnteroCount\", \"idx\": 1224482400000, \"val\": 10.0}, {\"col\": \"EnteroCount\", \"idx\": 1224482400000, \"val\": 10.0}, {\"col\": \"EnteroCount\", \"idx\": 1224482400000, \"val\": 10.0}, {\"col\": \"EnteroCount\", \"idx\": 1224482400000, \"val\": 20.0}, {\"col\": \"EnteroCount\", \"idx\": 1224482400000, \"val\": 40.0}, {\"col\": \"EnteroCount\", \"idx\": 1224482400000, \"val\": 10.0}, {\"col\": \"EnteroCount\", \"idx\": 1224482400000, \"val\": 10.0}, {\"col\": \"EnteroCount\", \"idx\": 1224482400000, \"val\": 20.0}, {\"col\": \"EnteroCount\", \"idx\": 1224482400000, \"val\": 10.0}, {\"col\": \"EnteroCount\", \"idx\": 1224568800000, \"val\": 10.0}, {\"col\": \"EnteroCount\", \"idx\": 1224568800000, \"val\": 41.0}, {\"col\": \"EnteroCount\", \"idx\": 1224568800000, \"val\": 10.0}, {\"col\": \"EnteroCount\", \"idx\": 1224568800000, \"val\": 10.0}, {\"col\": \"EnteroCount\", \"idx\": 1224568800000, \"val\": 41.0}, {\"col\": \"EnteroCount\", \"idx\": 1224568800000, \"val\": 20.0}, {\"col\": \"EnteroCount\", \"idx\": 1224568800000, \"val\": 10.0}, {\"col\": \"EnteroCount\", \"idx\": 1224568800000, \"val\": 10.0}, {\"col\": \"EnteroCount\", \"idx\": 1224568800000, \"val\": 10.0}, {\"col\": \"EnteroCount\", \"idx\": 1224568800000, \"val\": 432.0}, {\"col\": \"EnteroCount\", \"idx\": 1224568800000, \"val\": 10112.0}, {\"col\": \"EnteroCount\", \"idx\": 1224655200000, \"val\": 225.0}, {\"col\": \"EnteroCount\", \"idx\": 1224655200000, \"val\": 5.0}, {\"col\": \"EnteroCount\", \"idx\": 1224655200000, \"val\": 9.0}, {\"col\": \"EnteroCount\", \"idx\": 1224655200000, \"val\": 7.0}, {\"col\": \"EnteroCount\", \"idx\": 1224655200000, \"val\": 22.0}, {\"col\": \"EnteroCount\", \"idx\": 1224655200000, \"val\": 3.0}, {\"col\": \"EnteroCount\", \"idx\": 1224655200000, \"val\": 5.0}, {\"col\": \"EnteroCount\", \"idx\": 1224655200000, \"val\": 32.0}, {\"col\": \"EnteroCount\", \"idx\": 1224655200000, \"val\": 3.0}, {\"col\": \"EnteroCount\", \"idx\": 1224655200000, \"val\": 2.0}, {\"col\": \"EnteroCount\", \"idx\": 1224655200000, \"val\": 19.0}, {\"col\": \"EnteroCount\", \"idx\": 1224655200000, \"val\": 6.0}, {\"col\": \"EnteroCount\", \"idx\": 1224655200000, \"val\": 2.0}, {\"col\": \"EnteroCount\", \"idx\": 1224655200000, \"val\": 6.0}, {\"col\": \"EnteroCount\", \"idx\": 1224655200000, \"val\": 7.0}, {\"col\": \"EnteroCount\", \"idx\": 1224655200000, \"val\": 3.0}, {\"col\": \"EnteroCount\", \"idx\": 1224655200000, \"val\": 14.0}, {\"col\": \"EnteroCount\", \"idx\": 1224655200000, \"val\": 19.0}, {\"col\": \"EnteroCount\", \"idx\": 1224655200000, \"val\": 2.0}, {\"col\": \"EnteroCount\", \"idx\": 1224655200000, \"val\": 4.0}, {\"col\": \"EnteroCount\", \"idx\": 1224741600000, \"val\": 4.0}, {\"col\": \"EnteroCount\", \"idx\": 1224741600000, \"val\": 2.0}, {\"col\": \"EnteroCount\", \"idx\": 1224741600000, \"val\": 12.0}, {\"col\": \"EnteroCount\", \"idx\": 1224741600000, \"val\": 10.0}, {\"col\": \"EnteroCount\", \"idx\": 1224741600000, \"val\": 4.0}, {\"col\": \"EnteroCount\", \"idx\": 1224741600000, \"val\": 2.0}, {\"col\": \"EnteroCount\", \"idx\": 1224741600000, \"val\": 30.0}, {\"col\": \"EnteroCount\", \"idx\": 1224741600000, \"val\": 4.0}, {\"col\": \"EnteroCount\", \"idx\": 1224741600000, \"val\": 7.0}, {\"col\": \"EnteroCount\", \"idx\": 1224741600000, \"val\": 4.0}, {\"col\": \"EnteroCount\", \"idx\": 1224741600000, \"val\": 10.0}, {\"col\": \"EnteroCount\", \"idx\": 1224741600000, \"val\": 5.0}, {\"col\": \"EnteroCount\", \"idx\": 1224741600000, \"val\": 3.0}, {\"col\": \"EnteroCount\", \"idx\": 1224741600000, \"val\": 10.0}, {\"col\": \"EnteroCount\", \"idx\": 1224741600000, \"val\": 8.0}, {\"col\": \"EnteroCount\", \"idx\": 1224741600000, \"val\": 10.0}, {\"col\": \"EnteroCount\", \"idx\": 1224741600000, \"val\": 11.0}, {\"col\": \"EnteroCount\", \"idx\": 1224741600000, \"val\": 3.0}, {\"col\": \"EnteroCount\", \"idx\": 1233039600000, \"val\": 987.0}, {\"col\": \"EnteroCount\", \"idx\": 1233039600000, \"val\": 17.0}, {\"col\": \"EnteroCount\", \"idx\": 1233817200000, \"val\": 75.0}, {\"col\": \"EnteroCount\", \"idx\": 1233817200000, \"val\": 3.0}, {\"col\": \"EnteroCount\", \"idx\": 1233903600000, \"val\": 290.0}, {\"col\": \"EnteroCount\", \"idx\": 1234335600000, \"val\": 19.0}, {\"col\": \"EnteroCount\", \"idx\": 1234335600000, \"val\": 930.0}, {\"col\": \"EnteroCount\", \"idx\": 1234767600000, \"val\": 7.0}, {\"col\": \"EnteroCount\", \"idx\": 1234767600000, \"val\": 340.0}, {\"col\": \"EnteroCount\", \"idx\": 1235631600000, \"val\": 210.0}, {\"col\": \"EnteroCount\", \"idx\": 1235631600000, \"val\": 10.0}, {\"col\": \"EnteroCount\", \"idx\": 1236236400000, \"val\": 9.0}, {\"col\": \"EnteroCount\", \"idx\": 1236236400000, \"val\": 341.0}, {\"col\": \"EnteroCount\", \"idx\": 1236664800000, \"val\": 12.0}, {\"col\": \"EnteroCount\", \"idx\": 1236664800000, \"val\": 213.0}, {\"col\": \"EnteroCount\", \"idx\": 1237269600000, \"val\": 50.0}, {\"col\": \"EnteroCount\", \"idx\": 1237269600000, \"val\": 253.0}, {\"col\": \"EnteroCount\", \"idx\": 1237960800000, \"val\": 280.0}, {\"col\": \"EnteroCount\", \"idx\": 1237960800000, \"val\": 7.0}, {\"col\": \"EnteroCount\", \"idx\": 1238479200000, \"val\": 336.0}, {\"col\": \"EnteroCount\", \"idx\": 1238479200000, \"val\": 12.0}, {\"col\": \"EnteroCount\", \"idx\": 1239170400000, \"val\": 364.0}, {\"col\": \"EnteroCount\", \"idx\": 1239170400000, \"val\": 11.0}, {\"col\": \"EnteroCount\", \"idx\": 1239602400000, \"val\": 12.0}, {\"col\": \"EnteroCount\", \"idx\": 1239602400000, \"val\": 473.0}, {\"col\": \"EnteroCount\", \"idx\": 1240380000000, \"val\": 649.0}, {\"col\": \"EnteroCount\", \"idx\": 1240380000000, \"val\": 203.0}, {\"col\": \"EnteroCount\", \"idx\": 1240984800000, \"val\": 48.0}, {\"col\": \"EnteroCount\", \"idx\": 1240984800000, \"val\": 108.0}, {\"col\": \"EnteroCount\", \"idx\": 1241503200000, \"val\": 219.0}, {\"col\": \"EnteroCount\", \"idx\": 1241503200000, \"val\": 183.0}, {\"col\": \"EnteroCount\", \"idx\": 1242108000000, \"val\": 10.0}, {\"col\": \"EnteroCount\", \"idx\": 1242108000000, \"val\": 20.0}, {\"col\": \"EnteroCount\", \"idx\": 1242108000000, \"val\": 10.0}, {\"col\": \"EnteroCount\", \"idx\": 1242108000000, \"val\": 10.0}, {\"col\": \"EnteroCount\", \"idx\": 1242108000000, \"val\": 52.0}, {\"col\": \"EnteroCount\", \"idx\": 1242108000000, \"val\": 20.0}, {\"col\": \"EnteroCount\", \"idx\": 1242108000000, \"val\": 52.0}, {\"col\": \"EnteroCount\", \"idx\": 1242108000000, \"val\": 20.0}, {\"col\": \"EnteroCount\", \"idx\": 1242108000000, \"val\": 20.0}, {\"col\": \"EnteroCount\", \"idx\": 1242108000000, \"val\": 10.0}, {\"col\": \"EnteroCount\", \"idx\": 1242108000000, \"val\": 10.0}, {\"col\": \"EnteroCount\", \"idx\": 1242194400000, \"val\": 2.0}, {\"col\": \"EnteroCount\", \"idx\": 1242194400000, \"val\": 246.0}, {\"col\": \"EnteroCount\", \"idx\": 1242194400000, \"val\": 10.0}, {\"col\": \"EnteroCount\", \"idx\": 1242194400000, \"val\": 57.0}, {\"col\": \"EnteroCount\", \"idx\": 1242194400000, \"val\": 10.0}, {\"col\": \"EnteroCount\", \"idx\": 1242194400000, \"val\": 8.0}, {\"col\": \"EnteroCount\", \"idx\": 1242194400000, \"val\": 1396.0}, {\"col\": \"EnteroCount\", \"idx\": 1242194400000, \"val\": 6.0}, {\"col\": \"EnteroCount\", \"idx\": 1242194400000, \"val\": 75.0}, {\"col\": \"EnteroCount\", \"idx\": 1242194400000, \"val\": 5.0}, {\"col\": \"EnteroCount\", \"idx\": 1242194400000, \"val\": 5.0}, {\"col\": \"EnteroCount\", \"idx\": 1242194400000, \"val\": 6.0}, {\"col\": \"EnteroCount\", \"idx\": 1242194400000, \"val\": 10.0}, {\"col\": \"EnteroCount\", \"idx\": 1242280800000, \"val\": 40.0}, {\"col\": \"EnteroCount\", \"idx\": 1242280800000, \"val\": 4.0}, {\"col\": \"EnteroCount\", \"idx\": 1242280800000, \"val\": 2.0}, {\"col\": \"EnteroCount\", \"idx\": 1242280800000, \"val\": 2.0}, {\"col\": \"EnteroCount\", \"idx\": 1242280800000, \"val\": 2.0}, {\"col\": \"EnteroCount\", \"idx\": 1242280800000, \"val\": 8.0}, {\"col\": \"EnteroCount\", \"idx\": 1242280800000, \"val\": 2.0}, {\"col\": \"EnteroCount\", \"idx\": 1242280800000, \"val\": 11.0}, {\"col\": \"EnteroCount\", \"idx\": 1242280800000, \"val\": 3.0}, {\"col\": \"EnteroCount\", \"idx\": 1242280800000, \"val\": 6.0}, {\"col\": \"EnteroCount\", \"idx\": 1242280800000, \"val\": 22.0}, {\"col\": \"EnteroCount\", \"idx\": 1242280800000, \"val\": 31.0}, {\"col\": \"EnteroCount\", \"idx\": 1242280800000, \"val\": 6.0}, {\"col\": \"EnteroCount\", \"idx\": 1242280800000, \"val\": 6.0}, {\"col\": \"EnteroCount\", \"idx\": 1242280800000, \"val\": 3.0}, {\"col\": \"EnteroCount\", \"idx\": 1242280800000, \"val\": 3.0}, {\"col\": \"EnteroCount\", \"idx\": 1242280800000, \"val\": 1.0}, {\"col\": \"EnteroCount\", \"idx\": 1242280800000, \"val\": 10.0}, {\"col\": \"EnteroCount\", \"idx\": 1242280800000, \"val\": 152.0}, {\"col\": \"EnteroCount\", \"idx\": 1242280800000, \"val\": 77.0}, {\"col\": \"EnteroCount\", \"idx\": 1242280800000, \"val\": 6.0}, {\"col\": \"EnteroCount\", \"idx\": 1242367200000, \"val\": 48.0}, {\"col\": \"EnteroCount\", \"idx\": 1242367200000, \"val\": 4.0}, {\"col\": \"EnteroCount\", \"idx\": 1242367200000, \"val\": 9.0}, {\"col\": \"EnteroCount\", \"idx\": 1242367200000, \"val\": 26.0}, {\"col\": \"EnteroCount\", \"idx\": 1242367200000, \"val\": 1.0}, {\"col\": \"EnteroCount\", \"idx\": 1242367200000, \"val\": 7.0}, {\"col\": \"EnteroCount\", \"idx\": 1242367200000, \"val\": 291.0}, {\"col\": \"EnteroCount\", \"idx\": 1242367200000, \"val\": 54.0}, {\"col\": \"EnteroCount\", \"idx\": 1242367200000, \"val\": 7.0}, {\"col\": \"EnteroCount\", \"idx\": 1242367200000, \"val\": 35.0}, {\"col\": \"EnteroCount\", \"idx\": 1242367200000, \"val\": 179.0}, {\"col\": \"EnteroCount\", \"idx\": 1242367200000, \"val\": 3.0}, {\"col\": \"EnteroCount\", \"idx\": 1242367200000, \"val\": 88.0}, {\"col\": \"EnteroCount\", \"idx\": 1242367200000, \"val\": 7.0}, {\"col\": \"EnteroCount\", \"idx\": 1242367200000, \"val\": 8.0}, {\"col\": \"EnteroCount\", \"idx\": 1242367200000, \"val\": 5.0}, {\"col\": \"EnteroCount\", \"idx\": 1242367200000, \"val\": 88.0}, {\"col\": \"EnteroCount\", \"idx\": 1242367200000, \"val\": 6.0}, {\"col\": \"EnteroCount\", \"idx\": 1242367200000, \"val\": 68.0}, {\"col\": \"EnteroCount\", \"idx\": 1242453600000, \"val\": 6.0}, {\"col\": \"EnteroCount\", \"idx\": 1242453600000, \"val\": 1.0}, {\"col\": \"EnteroCount\", \"idx\": 1242453600000, \"val\": 18.0}, {\"col\": \"EnteroCount\", \"idx\": 1242453600000, \"val\": 84.0}, {\"col\": \"EnteroCount\", \"idx\": 1242453600000, \"val\": 26.0}, {\"col\": \"EnteroCount\", \"idx\": 1242453600000, \"val\": 3.0}, {\"col\": \"EnteroCount\", \"idx\": 1242540000000, \"val\": 222.0}, {\"col\": \"EnteroCount\", \"idx\": 1242540000000, \"val\": 20.0}, {\"col\": \"EnteroCount\", \"idx\": 1242540000000, \"val\": 1986.0}, {\"col\": \"EnteroCount\", \"idx\": 1242540000000, \"val\": 4.0}, {\"col\": \"EnteroCount\", \"idx\": 1242540000000, \"val\": 9.0}, {\"col\": \"EnteroCount\", \"idx\": 1242540000000, \"val\": 5.0}, {\"col\": \"EnteroCount\", \"idx\": 1242540000000, \"val\": 121.0}, {\"col\": \"EnteroCount\", \"idx\": 1242712800000, \"val\": 73.0}, {\"col\": \"EnteroCount\", \"idx\": 1243404000000, \"val\": 159.0}, {\"col\": \"EnteroCount\", \"idx\": 1243404000000, \"val\": 20.0}, {\"col\": \"EnteroCount\", \"idx\": 1243576800000, \"val\": 17329.0}, {\"col\": \"EnteroCount\", \"idx\": 1244095200000, \"val\": 14.0}, {\"col\": \"EnteroCount\", \"idx\": 1244181600000, \"val\": 31.0}, {\"col\": \"EnteroCount\", \"idx\": 1244181600000, \"val\": 10.0}, {\"col\": \"EnteroCount\", \"idx\": 1244181600000, \"val\": 977.0}, {\"col\": \"EnteroCount\", \"idx\": 1244181600000, \"val\": 86.0}, {\"col\": \"EnteroCount\", \"idx\": 1244181600000, \"val\": 512.0}, {\"col\": \"EnteroCount\", \"idx\": 1244268000000, \"val\": 10.0}, {\"col\": \"EnteroCount\", \"idx\": 1244268000000, \"val\": 63.0}, {\"col\": \"EnteroCount\", \"idx\": 1244268000000, \"val\": 20.0}, {\"col\": \"EnteroCount\", \"idx\": 1244268000000, \"val\": 10.0}, {\"col\": \"EnteroCount\", \"idx\": 1244268000000, \"val\": 20.0}, {\"col\": \"EnteroCount\", \"idx\": 1244268000000, \"val\": 20.0}, {\"col\": \"EnteroCount\", \"idx\": 1244268000000, \"val\": 84.0}, {\"col\": \"EnteroCount\", \"idx\": 1244268000000, \"val\": 10.0}, {\"col\": \"EnteroCount\", \"idx\": 1244268000000, \"val\": 121.0}, {\"col\": \"EnteroCount\", \"idx\": 1244268000000, \"val\": 52.0}, {\"col\": \"EnteroCount\", \"idx\": 1244440800000, \"val\": 10.0}, {\"col\": \"EnteroCount\", \"idx\": 1244440800000, \"val\": 10.0}, {\"col\": \"EnteroCount\", \"idx\": 1244527200000, \"val\": 91.0}, {\"col\": \"EnteroCount\", \"idx\": 1244527200000, \"val\": 104.0}, {\"col\": \"EnteroCount\", \"idx\": 1244527200000, \"val\": 116.0}, {\"col\": \"EnteroCount\", \"idx\": 1244527200000, \"val\": 13.0}, {\"col\": \"EnteroCount\", \"idx\": 1244527200000, \"val\": 34.0}, {\"col\": \"EnteroCount\", \"idx\": 1244527200000, \"val\": 197.0}, {\"col\": \"EnteroCount\", \"idx\": 1244527200000, \"val\": 78.0}, {\"col\": \"EnteroCount\", \"idx\": 1244527200000, \"val\": 9.0}, {\"col\": \"EnteroCount\", \"idx\": 1244527200000, \"val\": 12030.0}, {\"col\": \"EnteroCount\", \"idx\": 1244527200000, \"val\": 1046.0}, {\"col\": \"EnteroCount\", \"idx\": 1244613600000, \"val\": 26.0}, {\"col\": \"EnteroCount\", \"idx\": 1244613600000, \"val\": 1.0}, {\"col\": \"EnteroCount\", \"idx\": 1244613600000, \"val\": 11.0}, {\"col\": \"EnteroCount\", \"idx\": 1244700000000, \"val\": 272.0}, {\"col\": \"EnteroCount\", \"idx\": 1244700000000, \"val\": 4.0}, {\"col\": \"EnteroCount\", \"idx\": 1244700000000, \"val\": 1.0}, {\"col\": \"EnteroCount\", \"idx\": 1244700000000, \"val\": 12.0}, {\"col\": \"EnteroCount\", \"idx\": 1244700000000, \"val\": 4.0}, {\"col\": \"EnteroCount\", \"idx\": 1244700000000, \"val\": 285.0}, {\"col\": \"EnteroCount\", \"idx\": 1244700000000, \"val\": 12.0}, {\"col\": \"EnteroCount\", \"idx\": 1244700000000, \"val\": 3.0}, {\"col\": \"EnteroCount\", \"idx\": 1244700000000, \"val\": 9.0}, {\"col\": \"EnteroCount\", \"idx\": 1244700000000, \"val\": 12.0}, {\"col\": \"EnteroCount\", \"idx\": 1244786400000, \"val\": 249.0}, {\"col\": \"EnteroCount\", \"idx\": 1244786400000, \"val\": 727.0}, {\"col\": \"EnteroCount\", \"idx\": 1244786400000, \"val\": 10.0}, {\"col\": \"EnteroCount\", \"idx\": 1244786400000, \"val\": 29.0}, {\"col\": \"EnteroCount\", \"idx\": 1244786400000, \"val\": 20.0}, {\"col\": \"EnteroCount\", \"idx\": 1244786400000, \"val\": 87.0}, {\"col\": \"EnteroCount\", \"idx\": 1244786400000, \"val\": 6.0}, {\"col\": \"EnteroCount\", \"idx\": 1244786400000, \"val\": 387.0}, {\"col\": \"EnteroCount\", \"idx\": 1244872800000, \"val\": 126.0}, {\"col\": \"EnteroCount\", \"idx\": 1244872800000, \"val\": 46.0}, {\"col\": \"EnteroCount\", \"idx\": 1244872800000, \"val\": 42.0}, {\"col\": \"EnteroCount\", \"idx\": 1244872800000, \"val\": 272.0}, {\"col\": \"EnteroCount\", \"idx\": 1244872800000, \"val\": 727.0}, {\"col\": \"EnteroCount\", \"idx\": 1244872800000, \"val\": 32.0}, {\"col\": \"EnteroCount\", \"idx\": 1244872800000, \"val\": 85.0}, {\"col\": \"EnteroCount\", \"idx\": 1245132000000, \"val\": 528.0}, {\"col\": \"EnteroCount\", \"idx\": 1245132000000, \"val\": 20.0}, {\"col\": \"EnteroCount\", \"idx\": 1245304800000, \"val\": 107.0}, {\"col\": \"EnteroCount\", \"idx\": 1245391200000, \"val\": 160.0}, {\"col\": \"EnteroCount\", \"idx\": 1245650400000, \"val\": 880.0}, {\"col\": \"EnteroCount\", \"idx\": 1245650400000, \"val\": 52.0}, {\"col\": \"EnteroCount\", \"idx\": 1245650400000, \"val\": 193.0}, {\"col\": \"EnteroCount\", \"idx\": 1245650400000, \"val\": 31.0}, {\"col\": \"EnteroCount\", \"idx\": 1245650400000, \"val\": 41.0}, {\"col\": \"EnteroCount\", \"idx\": 1245650400000, \"val\": 31.0}, {\"col\": \"EnteroCount\", \"idx\": 1245650400000, \"val\": 20.0}, {\"col\": \"EnteroCount\", \"idx\": 1245650400000, \"val\": 41.0}, {\"col\": \"EnteroCount\", \"idx\": 1245650400000, \"val\": 85.0}, {\"col\": \"EnteroCount\", \"idx\": 1245650400000, \"val\": 41.0}, {\"col\": \"EnteroCount\", \"idx\": 1245650400000, \"val\": 31.0}, {\"col\": \"EnteroCount\", \"idx\": 1245736800000, \"val\": 10.0}, {\"col\": \"EnteroCount\", \"idx\": 1245736800000, \"val\": 75.0}, {\"col\": \"EnteroCount\", \"idx\": 1245736800000, \"val\": 10.0}, {\"col\": \"EnteroCount\", \"idx\": 1245736800000, \"val\": 31.0}, {\"col\": \"EnteroCount\", \"idx\": 1245736800000, \"val\": 20.0}, {\"col\": \"EnteroCount\", \"idx\": 1245736800000, \"val\": 31.0}, {\"col\": \"EnteroCount\", \"idx\": 1245736800000, \"val\": 10.0}, {\"col\": \"EnteroCount\", \"idx\": 1245736800000, \"val\": 20.0}, {\"col\": \"EnteroCount\", \"idx\": 1245736800000, \"val\": 86.0}, {\"col\": \"EnteroCount\", \"idx\": 1245736800000, \"val\": 20.0}, {\"col\": \"EnteroCount\", \"idx\": 1246255200000, \"val\": 197.0}, {\"col\": \"EnteroCount\", \"idx\": 1246860000000, \"val\": 52.0}, {\"col\": \"EnteroCount\", \"idx\": 1247464800000, \"val\": 10.0}, {\"col\": \"EnteroCount\", \"idx\": 1247464800000, \"val\": 261.0}, {\"col\": \"EnteroCount\", \"idx\": 1247983200000, \"val\": 78.0}, {\"col\": \"EnteroCount\", \"idx\": 1248501600000, \"val\": 10.0}, {\"col\": \"EnteroCount\", \"idx\": 1248760800000, \"val\": 20.0}, {\"col\": \"EnteroCount\", \"idx\": 1248760800000, \"val\": 63.0}, {\"col\": \"EnteroCount\", \"idx\": 1248760800000, \"val\": 52.0}, {\"col\": \"EnteroCount\", \"idx\": 1248760800000, \"val\": 10.0}, {\"col\": \"EnteroCount\", \"idx\": 1248760800000, \"val\": 52.0}, {\"col\": \"EnteroCount\", \"idx\": 1248760800000, \"val\": 31.0}, {\"col\": \"EnteroCount\", \"idx\": 1248760800000, \"val\": 20.0}, {\"col\": \"EnteroCount\", \"idx\": 1248760800000, \"val\": 63.0}, {\"col\": \"EnteroCount\", \"idx\": 1248760800000, \"val\": 10.0}, {\"col\": \"EnteroCount\", \"idx\": 1248760800000, \"val\": 399.0}, {\"col\": \"EnteroCount\", \"idx\": 1248847200000, \"val\": 10.0}, {\"col\": \"EnteroCount\", \"idx\": 1248847200000, \"val\": 216.0}, {\"col\": \"EnteroCount\", \"idx\": 1248847200000, \"val\": 10.0}, {\"col\": \"EnteroCount\", \"idx\": 1248847200000, \"val\": 86.0}, {\"col\": \"EnteroCount\", \"idx\": 1248847200000, \"val\": 10.0}, {\"col\": \"EnteroCount\", \"idx\": 1248847200000, \"val\": 31.0}, {\"col\": \"EnteroCount\", \"idx\": 1248933600000, \"val\": 1733.0}, {\"col\": \"EnteroCount\", \"idx\": 1248933600000, \"val\": 4.0}, {\"col\": \"EnteroCount\", \"idx\": 1248933600000, \"val\": 12.0}, {\"col\": \"EnteroCount\", \"idx\": 1248933600000, \"val\": 16.0}, {\"col\": \"EnteroCount\", \"idx\": 1248933600000, \"val\": 122.0}, {\"col\": \"EnteroCount\", \"idx\": 1248933600000, \"val\": 77.0}, {\"col\": \"EnteroCount\", \"idx\": 1248933600000, \"val\": 64.0}, {\"col\": \"EnteroCount\", \"idx\": 1248933600000, \"val\": 12.0}, {\"col\": \"EnteroCount\", \"idx\": 1248933600000, \"val\": 225.0}, {\"col\": \"EnteroCount\", \"idx\": 1248933600000, \"val\": 29.0}, {\"col\": \"EnteroCount\", \"idx\": 1248933600000, \"val\": 5.0}, {\"col\": \"EnteroCount\", \"idx\": 1248933600000, \"val\": 15.0}, {\"col\": \"EnteroCount\", \"idx\": 1248933600000, \"val\": 12.0}, {\"col\": \"EnteroCount\", \"idx\": 1248933600000, \"val\": 1203.0}, {\"col\": \"EnteroCount\", \"idx\": 1249020000000, \"val\": 2420.0}, {\"col\": \"EnteroCount\", \"idx\": 1249020000000, \"val\": 261.0}, {\"col\": \"EnteroCount\", \"idx\": 1249020000000, \"val\": 1986.0}, {\"col\": \"EnteroCount\", \"idx\": 1249020000000, \"val\": 1986.0}, {\"col\": \"EnteroCount\", \"idx\": 1249020000000, \"val\": 1120.0}, {\"col\": \"EnteroCount\", \"idx\": 1249020000000, \"val\": 2420.0}, {\"col\": \"EnteroCount\", \"idx\": 1249020000000, \"val\": 1203.0}, {\"col\": \"EnteroCount\", \"idx\": 1249020000000, \"val\": 345.0}, {\"col\": \"EnteroCount\", \"idx\": 1249020000000, \"val\": 1986.0}, {\"col\": \"EnteroCount\", \"idx\": 1249020000000, \"val\": 770.0}, {\"col\": \"EnteroCount\", \"idx\": 1249020000000, \"val\": 1986.0}, {\"col\": \"EnteroCount\", \"idx\": 1249020000000, \"val\": 1986.0}, {\"col\": \"EnteroCount\", \"idx\": 1249279200000, \"val\": 23.0}, {\"col\": \"EnteroCount\", \"idx\": 1249279200000, \"val\": 68.0}, {\"col\": \"EnteroCount\", \"idx\": 1249279200000, \"val\": 13.0}, {\"col\": \"EnteroCount\", \"idx\": 1249279200000, \"val\": 8.0}, {\"col\": \"EnteroCount\", \"idx\": 1249279200000, \"val\": 115.0}, {\"col\": \"EnteroCount\", \"idx\": 1250748000000, \"val\": 10.0}, {\"col\": \"EnteroCount\", \"idx\": 1250748000000, \"val\": 30.0}, {\"col\": \"EnteroCount\", \"idx\": 1250748000000, \"val\": 98.0}, {\"col\": \"EnteroCount\", \"idx\": 1250748000000, \"val\": 10.0}, {\"col\": \"EnteroCount\", \"idx\": 1250748000000, \"val\": 10.0}, {\"col\": \"EnteroCount\", \"idx\": 1250748000000, \"val\": 20.0}, {\"col\": \"EnteroCount\", \"idx\": 1250834400000, \"val\": 41.0}, {\"col\": \"EnteroCount\", \"idx\": 1250834400000, \"val\": 85.0}, {\"col\": \"EnteroCount\", \"idx\": 1250834400000, \"val\": 10.0}, {\"col\": \"EnteroCount\", \"idx\": 1250834400000, \"val\": 10.0}, {\"col\": \"EnteroCount\", \"idx\": 1250834400000, \"val\": 10.0}, {\"col\": \"EnteroCount\", \"idx\": 1250834400000, \"val\": 10.0}, {\"col\": \"EnteroCount\", \"idx\": 1250834400000, \"val\": 10.0}, {\"col\": \"EnteroCount\", \"idx\": 1250920800000, \"val\": 10.0}, {\"col\": \"EnteroCount\", \"idx\": 1250920800000, \"val\": 144.0}, {\"col\": \"EnteroCount\", \"idx\": 1250920800000, \"val\": 20.0}, {\"col\": \"EnteroCount\", \"idx\": 1250920800000, \"val\": 16.0}, {\"col\": \"EnteroCount\", \"idx\": 1250920800000, \"val\": 687.0}, {\"col\": \"EnteroCount\", \"idx\": 1250920800000, \"val\": 2310.0}, {\"col\": \"EnteroCount\", \"idx\": 1250920800000, \"val\": 383.0}, {\"col\": \"EnteroCount\", \"idx\": 1250920800000, \"val\": 8.0}, {\"col\": \"EnteroCount\", \"idx\": 1250920800000, \"val\": 12.0}, {\"col\": \"EnteroCount\", \"idx\": 1250920800000, \"val\": 8664.0}, {\"col\": \"EnteroCount\", \"idx\": 1250920800000, \"val\": 12.0}, {\"col\": \"EnteroCount\", \"idx\": 1251007200000, \"val\": 27.0}, {\"col\": \"EnteroCount\", \"idx\": 1251007200000, \"val\": 28.0}, {\"col\": \"EnteroCount\", \"idx\": 1251007200000, \"val\": 6.0}, {\"col\": \"EnteroCount\", \"idx\": 1251007200000, \"val\": 11.0}, {\"col\": \"EnteroCount\", \"idx\": 1251007200000, \"val\": 16.0}, {\"col\": \"EnteroCount\", \"idx\": 1251007200000, \"val\": 10.0}, {\"col\": \"EnteroCount\", \"idx\": 1251007200000, \"val\": 19.0}, {\"col\": \"EnteroCount\", \"idx\": 1251007200000, \"val\": 1986.0}, {\"col\": \"EnteroCount\", \"idx\": 1251007200000, \"val\": 921.0}, {\"col\": \"EnteroCount\", \"idx\": 1251007200000, \"val\": 147.0}, {\"col\": \"EnteroCount\", \"idx\": 1251007200000, \"val\": 517.0}, {\"col\": \"EnteroCount\", \"idx\": 1251007200000, \"val\": 23.0}, {\"col\": \"EnteroCount\", \"idx\": 1251007200000, \"val\": 248.0}, {\"col\": \"EnteroCount\", \"idx\": 1251093600000, \"val\": 57.0}, {\"col\": \"EnteroCount\", \"idx\": 1251093600000, \"val\": 190.0}, {\"col\": \"EnteroCount\", \"idx\": 1251093600000, \"val\": 770.0}, {\"col\": \"EnteroCount\", \"idx\": 1251093600000, \"val\": 488.0}, {\"col\": \"EnteroCount\", \"idx\": 1251093600000, \"val\": 1733.0}, {\"col\": \"EnteroCount\", \"idx\": 1251093600000, \"val\": 687.0}, {\"col\": \"EnteroCount\", \"idx\": 1251093600000, \"val\": 76.0}, {\"col\": \"EnteroCount\", \"idx\": 1251093600000, \"val\": 276.0}, {\"col\": \"EnteroCount\", \"idx\": 1251093600000, \"val\": 2420.0}, {\"col\": \"EnteroCount\", \"idx\": 1251093600000, \"val\": 260.0}, {\"col\": \"EnteroCount\", \"idx\": 1251093600000, \"val\": 1733.0}, {\"col\": \"EnteroCount\", \"idx\": 1251093600000, \"val\": 2420.0}, {\"col\": \"EnteroCount\", \"idx\": 1251093600000, \"val\": 163.0}, {\"col\": \"EnteroCount\", \"idx\": 1251093600000, \"val\": 1986.0}, {\"col\": \"EnteroCount\", \"idx\": 1251093600000, \"val\": 161.0}, {\"col\": \"EnteroCount\", \"idx\": 1251093600000, \"val\": 727.0}, {\"col\": \"EnteroCount\", \"idx\": 1251871200000, \"val\": 30.0}, {\"col\": \"EnteroCount\", \"idx\": 1252389600000, \"val\": 76.0}, {\"col\": \"EnteroCount\", \"idx\": 1252908000000, \"val\": 10.0}, {\"col\": \"EnteroCount\", \"idx\": 1252908000000, \"val\": 20.0}, {\"col\": \"EnteroCount\", \"idx\": 1252908000000, \"val\": 20.0}, {\"col\": \"EnteroCount\", \"idx\": 1252908000000, \"val\": 10.0}, {\"col\": \"EnteroCount\", \"idx\": 1252994400000, \"val\": 10.0}, {\"col\": \"EnteroCount\", \"idx\": 1252994400000, \"val\": 81.0}, {\"col\": \"EnteroCount\", \"idx\": 1253080800000, \"val\": 2.0}, {\"col\": \"EnteroCount\", \"idx\": 1253080800000, \"val\": 21.0}, {\"col\": \"EnteroCount\", \"idx\": 1253080800000, \"val\": 17.0}, {\"col\": \"EnteroCount\", \"idx\": 1253080800000, \"val\": 36.0}, {\"col\": \"EnteroCount\", \"idx\": 1253080800000, \"val\": 17.0}, {\"col\": \"EnteroCount\", \"idx\": 1253080800000, \"val\": 11.0}, {\"col\": \"EnteroCount\", \"idx\": 1253080800000, \"val\": 6.0}, {\"col\": \"EnteroCount\", \"idx\": 1253080800000, \"val\": 17.0}, {\"col\": \"EnteroCount\", \"idx\": 1253080800000, \"val\": 2.0}, {\"col\": \"EnteroCount\", \"idx\": 1253080800000, \"val\": 3.0}, {\"col\": \"EnteroCount\", \"idx\": 1253080800000, \"val\": 2.0}, {\"col\": \"EnteroCount\", \"idx\": 1253080800000, \"val\": 4.0}, {\"col\": \"EnteroCount\", \"idx\": 1253080800000, \"val\": 25.0}, {\"col\": \"EnteroCount\", \"idx\": 1253080800000, \"val\": 1203.0}, {\"col\": \"EnteroCount\", \"idx\": 1253080800000, \"val\": 1.0}, {\"col\": \"EnteroCount\", \"idx\": 1253080800000, \"val\": 23.0}, {\"col\": \"EnteroCount\", \"idx\": 1253080800000, \"val\": 3.0}, {\"col\": \"EnteroCount\", \"idx\": 1253167200000, \"val\": 39.0}, {\"col\": \"EnteroCount\", \"idx\": 1253167200000, \"val\": 16.0}, {\"col\": \"EnteroCount\", \"idx\": 1253167200000, \"val\": 14.0}, {\"col\": \"EnteroCount\", \"idx\": 1253167200000, \"val\": 98.0}, {\"col\": \"EnteroCount\", \"idx\": 1253167200000, \"val\": 96.0}, {\"col\": \"EnteroCount\", \"idx\": 1253167200000, \"val\": 12.0}, {\"col\": \"EnteroCount\", \"idx\": 1253167200000, \"val\": 46.0}, {\"col\": \"EnteroCount\", \"idx\": 1253167200000, \"val\": 13.0}, {\"col\": \"EnteroCount\", \"idx\": 1253167200000, \"val\": 99.0}, {\"col\": \"EnteroCount\", \"idx\": 1253167200000, \"val\": 21.0}, {\"col\": \"EnteroCount\", \"idx\": 1253167200000, \"val\": 416.0}, {\"col\": \"EnteroCount\", \"idx\": 1253167200000, \"val\": 43.0}, {\"col\": \"EnteroCount\", \"idx\": 1253167200000, \"val\": 34.0}, {\"col\": \"EnteroCount\", \"idx\": 1253167200000, \"val\": 20.0}, {\"col\": \"EnteroCount\", \"idx\": 1253167200000, \"val\": 82.0}, {\"col\": \"EnteroCount\", \"idx\": 1253167200000, \"val\": 18.0}, {\"col\": \"EnteroCount\", \"idx\": 1253167200000, \"val\": 14.0}, {\"col\": \"EnteroCount\", \"idx\": 1253167200000, \"val\": 12.0}, {\"col\": \"EnteroCount\", \"idx\": 1253167200000, \"val\": 28.0}, {\"col\": \"EnteroCount\", \"idx\": 1253167200000, \"val\": 12.0}, {\"col\": \"EnteroCount\", \"idx\": 1253167200000, \"val\": 21.0}, {\"col\": \"EnteroCount\", \"idx\": 1253167200000, \"val\": 16.0}, {\"col\": \"EnteroCount\", \"idx\": 1253167200000, \"val\": 16.0}, {\"col\": \"EnteroCount\", \"idx\": 1253599200000, \"val\": 649.0}, {\"col\": \"EnteroCount\", \"idx\": 1253599200000, \"val\": 31.0}, {\"col\": \"EnteroCount\", \"idx\": 1254204000000, \"val\": 20.0}, {\"col\": \"EnteroCount\", \"idx\": 1254808800000, \"val\": 31.0}, {\"col\": \"EnteroCount\", \"idx\": 1254808800000, \"val\": 1300.0}, {\"col\": \"EnteroCount\", \"idx\": 1255068000000, \"val\": 20.0}, {\"col\": \"EnteroCount\", \"idx\": 1255068000000, \"val\": 10.0}, {\"col\": \"EnteroCount\", \"idx\": 1255413600000, \"val\": 517.0}, {\"col\": \"EnteroCount\", \"idx\": 1255413600000, \"val\": 41.0}, {\"col\": \"EnteroCount\", \"idx\": 1255932000000, \"val\": 10.0}, {\"col\": \"EnteroCount\", \"idx\": 1255932000000, \"val\": 20.0}, {\"col\": \"EnteroCount\", \"idx\": 1255932000000, \"val\": 148.0}, {\"col\": \"EnteroCount\", \"idx\": 1255932000000, \"val\": 52.0}, {\"col\": \"EnteroCount\", \"idx\": 1255932000000, \"val\": 31.0}, {\"col\": \"EnteroCount\", \"idx\": 1255932000000, \"val\": 10.0}, {\"col\": \"EnteroCount\", \"idx\": 1255932000000, \"val\": 10.0}, {\"col\": \"EnteroCount\", \"idx\": 1255932000000, \"val\": 10.0}, {\"col\": \"EnteroCount\", \"idx\": 1255932000000, \"val\": 41.0}, {\"col\": \"EnteroCount\", \"idx\": 1255932000000, \"val\": 20.0}, {\"col\": \"EnteroCount\", \"idx\": 1255932000000, \"val\": 10.0}, {\"col\": \"EnteroCount\", \"idx\": 1255932000000, \"val\": 10.0}, {\"col\": \"EnteroCount\", \"idx\": 1255932000000, \"val\": 10.0}, {\"col\": \"EnteroCount\", \"idx\": 1255932000000, \"val\": 933.0}, {\"col\": \"EnteroCount\", \"idx\": 1255932000000, \"val\": 20.0}, {\"col\": \"EnteroCount\", \"idx\": 1256018400000, \"val\": 10.0}, {\"col\": \"EnteroCount\", \"idx\": 1256018400000, \"val\": 364.0}, {\"col\": \"EnteroCount\", \"idx\": 1256018400000, \"val\": 10.0}, {\"col\": \"EnteroCount\", \"idx\": 1256018400000, \"val\": 10.0}, {\"col\": \"EnteroCount\", \"idx\": 1256018400000, \"val\": 1553.0}, {\"col\": \"EnteroCount\", \"idx\": 1256018400000, \"val\": 31.0}, {\"col\": \"EnteroCount\", \"idx\": 1256018400000, \"val\": 10.0}, {\"col\": \"EnteroCount\", \"idx\": 1256018400000, \"val\": 10.0}, {\"col\": \"EnteroCount\", \"idx\": 1256018400000, \"val\": 31.0}, {\"col\": \"EnteroCount\", \"idx\": 1256018400000, \"val\": 10.0}, {\"col\": \"EnteroCount\", \"idx\": 1256018400000, \"val\": 10.0}, {\"col\": \"EnteroCount\", \"idx\": 1256104800000, \"val\": 5.0}, {\"col\": \"EnteroCount\", \"idx\": 1256104800000, \"val\": 11.0}, {\"col\": \"EnteroCount\", \"idx\": 1256104800000, \"val\": 22.0}, {\"col\": \"EnteroCount\", \"idx\": 1256104800000, \"val\": 5.0}, {\"col\": \"EnteroCount\", \"idx\": 1256104800000, \"val\": 184.0}, {\"col\": \"EnteroCount\", \"idx\": 1256104800000, \"val\": 9.0}, {\"col\": \"EnteroCount\", \"idx\": 1256104800000, \"val\": 107.0}, {\"col\": \"EnteroCount\", \"idx\": 1256104800000, \"val\": 16.0}, {\"col\": \"EnteroCount\", \"idx\": 1256191200000, \"val\": 9.0}, {\"col\": \"EnteroCount\", \"idx\": 1256191200000, \"val\": 5.0}, {\"col\": \"EnteroCount\", \"idx\": 1256191200000, \"val\": 2.0}, {\"col\": \"EnteroCount\", \"idx\": 1256191200000, \"val\": 6.0}, {\"col\": \"EnteroCount\", \"idx\": 1256191200000, \"val\": 10.0}, {\"col\": \"EnteroCount\", \"idx\": 1256191200000, \"val\": 9.0}, {\"col\": \"EnteroCount\", \"idx\": 1256191200000, \"val\": 13.0}, {\"col\": \"EnteroCount\", \"idx\": 1256191200000, \"val\": 2.0}, {\"col\": \"EnteroCount\", \"idx\": 1256191200000, \"val\": 7.0}, {\"col\": \"EnteroCount\", \"idx\": 1256191200000, \"val\": 10.0}, {\"col\": \"EnteroCount\", \"idx\": 1256191200000, \"val\": 5.0}, {\"col\": \"EnteroCount\", \"idx\": 1256191200000, \"val\": 12.0}, {\"col\": \"EnteroCount\", \"idx\": 1256191200000, \"val\": 8.0}, {\"col\": \"EnteroCount\", \"idx\": 1256277600000, \"val\": 4.0}, {\"col\": \"EnteroCount\", \"idx\": 1256277600000, \"val\": 9.0}, {\"col\": \"EnteroCount\", \"idx\": 1256277600000, \"val\": 25.0}, {\"col\": \"EnteroCount\", \"idx\": 1256277600000, \"val\": 30.0}, {\"col\": \"EnteroCount\", \"idx\": 1256277600000, \"val\": 12.0}, {\"col\": \"EnteroCount\", \"idx\": 1256277600000, \"val\": 49.0}, {\"col\": \"EnteroCount\", \"idx\": 1256277600000, \"val\": 6.0}, {\"col\": \"EnteroCount\", \"idx\": 1256277600000, \"val\": 6.0}, {\"col\": \"EnteroCount\", \"idx\": 1256277600000, \"val\": 20.0}, {\"col\": \"EnteroCount\", \"idx\": 1256277600000, \"val\": 22.0}, {\"col\": \"EnteroCount\", \"idx\": 1256277600000, \"val\": 8.0}, {\"col\": \"EnteroCount\", \"idx\": 1256277600000, \"val\": 23.0}, {\"col\": \"EnteroCount\", \"idx\": 1256277600000, \"val\": 3.0}, {\"col\": \"EnteroCount\", \"idx\": 1256277600000, \"val\": 4.0}, {\"col\": \"EnteroCount\", \"idx\": 1256277600000, \"val\": 26.0}, {\"col\": \"EnteroCount\", \"idx\": 1256277600000, \"val\": 32.0}, {\"col\": \"EnteroCount\", \"idx\": 1256277600000, \"val\": 5.0}, {\"col\": \"EnteroCount\", \"idx\": 1256623200000, \"val\": 161.0}, {\"col\": \"EnteroCount\", \"idx\": 1256623200000, \"val\": 1203.0}, {\"col\": \"EnteroCount\", \"idx\": 1256796000000, \"val\": 20.0}, {\"col\": \"EnteroCount\", \"idx\": 1256796000000, \"val\": 315.0}, {\"col\": \"EnteroCount\", \"idx\": 1257318000000, \"val\": 1904.0}, {\"col\": \"EnteroCount\", \"idx\": 1257318000000, \"val\": 154.0}, {\"col\": \"EnteroCount\", \"idx\": 1257836400000, \"val\": 908.0}, {\"col\": \"EnteroCount\", \"idx\": 1257836400000, \"val\": 326.0}, {\"col\": \"EnteroCount\", \"idx\": 1258441200000, \"val\": 624.0}, {\"col\": \"EnteroCount\", \"idx\": 1258441200000, \"val\": 126.0}, {\"col\": \"EnteroCount\", \"idx\": 1258959600000, \"val\": 260.0}, {\"col\": \"EnteroCount\", \"idx\": 1258959600000, \"val\": 292.0}, {\"col\": \"EnteroCount\", \"idx\": 1259650800000, \"val\": 1300.0}, {\"col\": \"EnteroCount\", \"idx\": 1259650800000, \"val\": 1234.0}, {\"col\": \"EnteroCount\", \"idx\": 1260255600000, \"val\": 1106.0}, {\"col\": \"EnteroCount\", \"idx\": 1260255600000, \"val\": 435.0}, {\"col\": \"EnteroCount\", \"idx\": 1260860400000, \"val\": 512.0}, {\"col\": \"EnteroCount\", \"idx\": 1260860400000, \"val\": 770.0}, {\"col\": \"EnteroCount\", \"idx\": 1261378800000, \"val\": 411.0}, {\"col\": \"EnteroCount\", \"idx\": 1261378800000, \"val\": 1723.0}, {\"col\": \"EnteroCount\", \"idx\": 1261983600000, \"val\": 959.0}, {\"col\": \"EnteroCount\", \"idx\": 1261983600000, \"val\": 1986.0}, {\"col\": \"EnteroCount\", \"idx\": 1261983600000, \"val\": 384.0}, {\"col\": \"EnteroCount\", \"idx\": 1262674800000, \"val\": 1986.0}, {\"col\": \"EnteroCount\", \"idx\": 1262674800000, \"val\": 794.0}, {\"col\": \"EnteroCount\", \"idx\": 1263279600000, \"val\": 266.0}, {\"col\": \"EnteroCount\", \"idx\": 1263279600000, \"val\": 161.0}, {\"col\": \"EnteroCount\", \"idx\": 1263884400000, \"val\": 517.0}, {\"col\": \"EnteroCount\", \"idx\": 1263884400000, \"val\": 598.0}, {\"col\": \"EnteroCount\", \"idx\": 1264489200000, \"val\": 573.0}, {\"col\": \"EnteroCount\", \"idx\": 1264489200000, \"val\": 85.0}, {\"col\": \"EnteroCount\", \"idx\": 1264489200000, \"val\": 1120.0}, {\"col\": \"EnteroCount\", \"idx\": 1265094000000, \"val\": 605.0}, {\"col\": \"EnteroCount\", \"idx\": 1265094000000, \"val\": 48.0}, {\"col\": \"EnteroCount\", \"idx\": 1265612400000, \"val\": 111.0}, {\"col\": \"EnteroCount\", \"idx\": 1265612400000, \"val\": 473.0}, {\"col\": \"EnteroCount\", \"idx\": 1266217200000, \"val\": 591.0}, {\"col\": \"EnteroCount\", \"idx\": 1266217200000, \"val\": 88.0}, {\"col\": \"EnteroCount\", \"idx\": 1266822000000, \"val\": 1720.0}, {\"col\": \"EnteroCount\", \"idx\": 1266822000000, \"val\": 261.0}, {\"col\": \"EnteroCount\", \"idx\": 1267426800000, \"val\": 583.0}, {\"col\": \"EnteroCount\", \"idx\": 1267426800000, \"val\": 138.0}, {\"col\": \"EnteroCount\", \"idx\": 1268031600000, \"val\": 44.0}, {\"col\": \"EnteroCount\", \"idx\": 1268031600000, \"val\": 20.0}, {\"col\": \"EnteroCount\", \"idx\": 1268031600000, \"val\": 441.0}, {\"col\": \"EnteroCount\", \"idx\": 1268805600000, \"val\": 88.0}, {\"col\": \"EnteroCount\", \"idx\": 1268805600000, \"val\": 762.0}, {\"col\": \"EnteroCount\", \"idx\": 1269237600000, \"val\": 144.0}, {\"col\": \"EnteroCount\", \"idx\": 1269237600000, \"val\": 1333.0}, {\"col\": \"EnteroCount\", \"idx\": 1269842400000, \"val\": 1553.0}, {\"col\": \"EnteroCount\", \"idx\": 1269842400000, \"val\": 3255.0}, {\"col\": \"EnteroCount\", \"idx\": 1270533600000, \"val\": 591.0}, {\"col\": \"EnteroCount\", \"idx\": 1270533600000, \"val\": 185.0}, {\"col\": \"EnteroCount\", \"idx\": 1270533600000, \"val\": 74.0}, {\"col\": \"EnteroCount\", \"idx\": 1271052000000, \"val\": 79.0}, {\"col\": \"EnteroCount\", \"idx\": 1271052000000, \"val\": 816.0}, {\"col\": \"EnteroCount\", \"idx\": 1271656800000, \"val\": 345.0}, {\"col\": \"EnteroCount\", \"idx\": 1271656800000, \"val\": 236.0}, {\"col\": \"EnteroCount\", \"idx\": 1272261600000, \"val\": 243.0}, {\"col\": \"EnteroCount\", \"idx\": 1272866400000, \"val\": 241.0}, {\"col\": \"EnteroCount\", \"idx\": 1273471200000, \"val\": 75.0}, {\"col\": \"EnteroCount\", \"idx\": 1273471200000, \"val\": 1300.0}, {\"col\": \"EnteroCount\", \"idx\": 1273471200000, \"val\": 161.0}, {\"col\": \"EnteroCount\", \"idx\": 1274076000000, \"val\": 411.0}, {\"col\": \"EnteroCount\", \"idx\": 1274421600000, \"val\": 10.0}, {\"col\": \"EnteroCount\", \"idx\": 1274421600000, \"val\": 93.0}, {\"col\": \"EnteroCount\", \"idx\": 1274421600000, \"val\": 10.0}, {\"col\": \"EnteroCount\", \"idx\": 1274421600000, \"val\": 10.0}, {\"col\": \"EnteroCount\", \"idx\": 1274421600000, \"val\": 20.0}, {\"col\": \"EnteroCount\", \"idx\": 1274421600000, \"val\": 41.0}, {\"col\": \"EnteroCount\", \"idx\": 1274421600000, \"val\": 10.0}, {\"col\": \"EnteroCount\", \"idx\": 1274508000000, \"val\": 20.0}, {\"col\": \"EnteroCount\", \"idx\": 1274508000000, \"val\": 30.0}, {\"col\": \"EnteroCount\", \"idx\": 1274508000000, \"val\": 41.0}, {\"col\": \"EnteroCount\", \"idx\": 1274508000000, \"val\": 10.0}, {\"col\": \"EnteroCount\", \"idx\": 1274508000000, \"val\": 10.0}, {\"col\": \"EnteroCount\", \"idx\": 1274508000000, \"val\": 10.0}, {\"col\": \"EnteroCount\", \"idx\": 1274508000000, \"val\": 41.0}, {\"col\": \"EnteroCount\", \"idx\": 1274508000000, \"val\": 10.0}, {\"col\": \"EnteroCount\", \"idx\": 1274594400000, \"val\": 41.0}, {\"col\": \"EnteroCount\", \"idx\": 1274594400000, \"val\": 12.0}, {\"col\": \"EnteroCount\", \"idx\": 1274594400000, \"val\": 4.0}, {\"col\": \"EnteroCount\", \"idx\": 1274594400000, \"val\": 36.0}, {\"col\": \"EnteroCount\", \"idx\": 1274594400000, \"val\": 7.0}, {\"col\": \"EnteroCount\", \"idx\": 1274680800000, \"val\": 9.0}, {\"col\": \"EnteroCount\", \"idx\": 1274680800000, \"val\": 1.0}, {\"col\": \"EnteroCount\", \"idx\": 1274680800000, \"val\": 1.0}, {\"col\": \"EnteroCount\", \"idx\": 1274680800000, \"val\": 3.0}, {\"col\": \"EnteroCount\", \"idx\": 1274680800000, \"val\": 5.0}, {\"col\": \"EnteroCount\", \"idx\": 1274680800000, \"val\": 488.0}, {\"col\": \"EnteroCount\", \"idx\": 1274680800000, \"val\": 17.0}, {\"col\": \"EnteroCount\", \"idx\": 1274680800000, \"val\": 20.0}, {\"col\": \"EnteroCount\", \"idx\": 1274680800000, \"val\": 99.0}, {\"col\": \"EnteroCount\", \"idx\": 1274680800000, \"val\": 21.0}, {\"col\": \"EnteroCount\", \"idx\": 1274680800000, \"val\": 1.0}, {\"col\": \"EnteroCount\", \"idx\": 1274680800000, \"val\": 5.0}, {\"col\": \"EnteroCount\", \"idx\": 1274680800000, \"val\": 1.0}, {\"col\": \"EnteroCount\", \"idx\": 1274680800000, \"val\": 4.0}, {\"col\": \"EnteroCount\", \"idx\": 1274680800000, \"val\": 23.0}, {\"col\": \"EnteroCount\", \"idx\": 1274680800000, \"val\": 41.0}, {\"col\": \"EnteroCount\", \"idx\": 1274767200000, \"val\": 4.0}, {\"col\": \"EnteroCount\", \"idx\": 1274767200000, \"val\": 19.0}, {\"col\": \"EnteroCount\", \"idx\": 1274767200000, \"val\": 6.0}, {\"col\": \"EnteroCount\", \"idx\": 1274767200000, \"val\": 13.0}, {\"col\": \"EnteroCount\", \"idx\": 1274767200000, \"val\": 117.0}, {\"col\": \"EnteroCount\", \"idx\": 1274767200000, \"val\": 8.0}, {\"col\": \"EnteroCount\", \"idx\": 1274767200000, \"val\": 30.0}, {\"col\": \"EnteroCount\", \"idx\": 1274767200000, \"val\": 980.0}, {\"col\": \"EnteroCount\", \"idx\": 1274767200000, \"val\": 28.0}, {\"col\": \"EnteroCount\", \"idx\": 1274767200000, \"val\": 4.0}, {\"col\": \"EnteroCount\", \"idx\": 1274767200000, \"val\": 4.0}, {\"col\": \"EnteroCount\", \"idx\": 1274767200000, \"val\": 1.0}, {\"col\": \"EnteroCount\", \"idx\": 1274767200000, \"val\": 2.0}, {\"col\": \"EnteroCount\", \"idx\": 1274767200000, \"val\": 7.0}, {\"col\": \"EnteroCount\", \"idx\": 1274767200000, \"val\": 4.0}, {\"col\": \"EnteroCount\", \"idx\": 1274767200000, \"val\": 1.0}, {\"col\": \"EnteroCount\", \"idx\": 1275372000000, \"val\": 1553.0}, {\"col\": \"EnteroCount\", \"idx\": 1275372000000, \"val\": 63.0}, {\"col\": \"EnteroCount\", \"idx\": 1275976800000, \"val\": 10.0}, {\"col\": \"EnteroCount\", \"idx\": 1276149600000, \"val\": 882.0}, {\"col\": \"EnteroCount\", \"idx\": 1276581600000, \"val\": 10.0}, {\"col\": \"EnteroCount\", \"idx\": 1276581600000, \"val\": 10.0}, {\"col\": \"EnteroCount\", \"idx\": 1276581600000, \"val\": 20.0}, {\"col\": \"EnteroCount\", \"idx\": 1276581600000, \"val\": 20.0}, {\"col\": \"EnteroCount\", \"idx\": 1276581600000, \"val\": 10.0}, {\"col\": \"EnteroCount\", \"idx\": 1276581600000, \"val\": 10.0}, {\"col\": \"EnteroCount\", \"idx\": 1276581600000, \"val\": 86.0}, {\"col\": \"EnteroCount\", \"idx\": 1276581600000, \"val\": 20.0}, {\"col\": \"EnteroCount\", \"idx\": 1276668000000, \"val\": 10.0}, {\"col\": \"EnteroCount\", \"idx\": 1276668000000, \"val\": 10.0}, {\"col\": \"EnteroCount\", \"idx\": 1276668000000, \"val\": 10.0}, {\"col\": \"EnteroCount\", \"idx\": 1276668000000, \"val\": 30.0}, {\"col\": \"EnteroCount\", \"idx\": 1276668000000, \"val\": 51.0}, {\"col\": \"EnteroCount\", \"idx\": 1276668000000, \"val\": 20.0}, {\"col\": \"EnteroCount\", \"idx\": 1276668000000, \"val\": 20.0}, {\"col\": \"EnteroCount\", \"idx\": 1276668000000, \"val\": 10.0}, {\"col\": \"EnteroCount\", \"idx\": 1276668000000, \"val\": 10.0}, {\"col\": \"EnteroCount\", \"idx\": 1276668000000, \"val\": 10.0}, {\"col\": \"EnteroCount\", \"idx\": 1276668000000, \"val\": 134.0}, {\"col\": \"EnteroCount\", \"idx\": 1276754400000, \"val\": 24.0}, {\"col\": \"EnteroCount\", \"idx\": 1276754400000, \"val\": 16.0}, {\"col\": \"EnteroCount\", \"idx\": 1276754400000, \"val\": 225.0}, {\"col\": \"EnteroCount\", \"idx\": 1276754400000, \"val\": 43.0}, {\"col\": \"EnteroCount\", \"idx\": 1276754400000, \"val\": 15.0}, {\"col\": \"EnteroCount\", \"idx\": 1276754400000, \"val\": 13.0}, {\"col\": \"EnteroCount\", \"idx\": 1276754400000, \"val\": 26.0}, {\"col\": \"EnteroCount\", \"idx\": 1276754400000, \"val\": 31.0}, {\"col\": \"EnteroCount\", \"idx\": 1276754400000, \"val\": 50.0}, {\"col\": \"EnteroCount\", \"idx\": 1276754400000, \"val\": 12.0}, {\"col\": \"EnteroCount\", \"idx\": 1276754400000, \"val\": 5.0}, {\"col\": \"EnteroCount\", \"idx\": 1276754400000, \"val\": 2.0}, {\"col\": \"EnteroCount\", \"idx\": 1276754400000, \"val\": 32.0}, {\"col\": \"EnteroCount\", \"idx\": 1276754400000, \"val\": 6.0}, {\"col\": \"EnteroCount\", \"idx\": 1276754400000, \"val\": 1.0}, {\"col\": \"EnteroCount\", \"idx\": 1276754400000, \"val\": 6.0}, {\"col\": \"EnteroCount\", \"idx\": 1276840800000, \"val\": 65.0}, {\"col\": \"EnteroCount\", \"idx\": 1276840800000, \"val\": 387.0}, {\"col\": \"EnteroCount\", \"idx\": 1276840800000, \"val\": 479.0}, {\"col\": \"EnteroCount\", \"idx\": 1276840800000, \"val\": 36.0}, {\"col\": \"EnteroCount\", \"idx\": 1276840800000, \"val\": 23.0}, {\"col\": \"EnteroCount\", \"idx\": 1276840800000, \"val\": 602.0}, {\"col\": \"EnteroCount\", \"idx\": 1276840800000, \"val\": 76.0}, {\"col\": \"EnteroCount\", \"idx\": 1276840800000, \"val\": 33.0}, {\"col\": \"EnteroCount\", \"idx\": 1276840800000, \"val\": 6.0}, {\"col\": \"EnteroCount\", \"idx\": 1276840800000, \"val\": 261.0}, {\"col\": \"EnteroCount\", \"idx\": 1276840800000, \"val\": 14.0}, {\"col\": \"EnteroCount\", \"idx\": 1276840800000, \"val\": 12.0}, {\"col\": \"EnteroCount\", \"idx\": 1276840800000, \"val\": 11.0}, {\"col\": \"EnteroCount\", \"idx\": 1276840800000, \"val\": 139.0}, {\"col\": \"EnteroCount\", \"idx\": 1276840800000, \"val\": 64.0}, {\"col\": \"EnteroCount\", \"idx\": 1276840800000, \"val\": 16.0}, {\"col\": \"EnteroCount\", \"idx\": 1276840800000, \"val\": 91.0}, {\"col\": \"EnteroCount\", \"idx\": 1276840800000, \"val\": 7.0}, {\"col\": \"EnteroCount\", \"idx\": 1276840800000, \"val\": 29.0}, {\"col\": \"EnteroCount\", \"idx\": 1276840800000, \"val\": 137.0}, {\"col\": \"EnteroCount\", \"idx\": 1276840800000, \"val\": 5.0}, {\"col\": \"EnteroCount\", \"idx\": 1276840800000, \"val\": 10.0}, {\"col\": \"EnteroCount\", \"idx\": 1276840800000, \"val\": 23.0}, {\"col\": \"EnteroCount\", \"idx\": 1276840800000, \"val\": 11.0}, {\"col\": \"EnteroCount\", \"idx\": 1276840800000, \"val\": 135.0}, {\"col\": \"EnteroCount\", \"idx\": 1277100000000, \"val\": 1046.0}, {\"col\": \"EnteroCount\", \"idx\": 1277100000000, \"val\": 10.0}, {\"col\": \"EnteroCount\", \"idx\": 1277704800000, \"val\": 73.0}, {\"col\": \"EnteroCount\", \"idx\": 1277704800000, \"val\": 84.0}, {\"col\": \"EnteroCount\", \"idx\": 1277704800000, \"val\": 1414.0}, {\"col\": \"EnteroCount\", \"idx\": 1278396000000, \"val\": 1733.0}, {\"col\": \"EnteroCount\", \"idx\": 1278396000000, \"val\": 10.0}, {\"col\": \"EnteroCount\", \"idx\": 1279519200000, \"val\": 6.0}, {\"col\": \"EnteroCount\", \"idx\": 1279519200000, \"val\": 5.0}, {\"col\": \"EnteroCount\", \"idx\": 1279519200000, \"val\": 5.0}, {\"col\": \"EnteroCount\", \"idx\": 1279519200000, \"val\": 179.0}, {\"col\": \"EnteroCount\", \"idx\": 1279519200000, \"val\": 32.0}, {\"col\": \"EnteroCount\", \"idx\": 1279519200000, \"val\": 3.0}, {\"col\": \"EnteroCount\", \"idx\": 1279519200000, \"val\": 5.0}, {\"col\": \"EnteroCount\", \"idx\": 1279519200000, \"val\": 122.0}, {\"col\": \"EnteroCount\", \"idx\": 1279519200000, \"val\": 51.0}, {\"col\": \"EnteroCount\", \"idx\": 1279519200000, \"val\": 2.0}, {\"col\": \"EnteroCount\", \"idx\": 1279519200000, \"val\": 31.0}, {\"col\": \"EnteroCount\", \"idx\": 1279519200000, \"val\": 3.0}, {\"col\": \"EnteroCount\", \"idx\": 1279519200000, \"val\": 1.0}, {\"col\": \"EnteroCount\", \"idx\": 1279519200000, \"val\": 5.0}, {\"col\": \"EnteroCount\", \"idx\": 1279519200000, \"val\": 4.0}, {\"col\": \"EnteroCount\", \"idx\": 1279519200000, \"val\": 2.0}, {\"col\": \"EnteroCount\", \"idx\": 1279519200000, \"val\": 2.0}, {\"col\": \"EnteroCount\", \"idx\": 1279519200000, \"val\": 11.0}, {\"col\": \"EnteroCount\", \"idx\": 1279519200000, \"val\": 20.0}, {\"col\": \"EnteroCount\", \"idx\": 1279519200000, \"val\": 10.0}, {\"col\": \"EnteroCount\", \"idx\": 1279519200000, \"val\": 42.0}, {\"col\": \"EnteroCount\", \"idx\": 1279519200000, \"val\": 579.0}, {\"col\": \"EnteroCount\", \"idx\": 1279519200000, \"val\": 50.0}, {\"col\": \"EnteroCount\", \"idx\": 1279605600000, \"val\": 28.0}, {\"col\": \"EnteroCount\", \"idx\": 1279605600000, \"val\": 91.0}, {\"col\": \"EnteroCount\", \"idx\": 1279605600000, \"val\": 43.0}, {\"col\": \"EnteroCount\", \"idx\": 1279605600000, \"val\": 184.0}, {\"col\": \"EnteroCount\", \"idx\": 1279605600000, \"val\": 288.0}, {\"col\": \"EnteroCount\", \"idx\": 1279605600000, \"val\": 15.0}, {\"col\": \"EnteroCount\", \"idx\": 1279605600000, \"val\": 4.0}, {\"col\": \"EnteroCount\", \"idx\": 1279605600000, \"val\": 15.0}, {\"col\": \"EnteroCount\", \"idx\": 1279605600000, \"val\": 14.0}, {\"col\": \"EnteroCount\", \"idx\": 1279605600000, \"val\": 99.0}, {\"col\": \"EnteroCount\", \"idx\": 1279605600000, \"val\": 1.0}, {\"col\": \"EnteroCount\", \"idx\": 1279605600000, \"val\": 22.0}, {\"col\": \"EnteroCount\", \"idx\": 1279605600000, \"val\": 1300.0}, {\"col\": \"EnteroCount\", \"idx\": 1279605600000, \"val\": 99.0}, {\"col\": \"EnteroCount\", \"idx\": 1279605600000, \"val\": 16.0}, {\"col\": \"EnteroCount\", \"idx\": 1279692000000, \"val\": 10.0}, {\"col\": \"EnteroCount\", \"idx\": 1279692000000, \"val\": 30.0}, {\"col\": \"EnteroCount\", \"idx\": 1279692000000, \"val\": 10.0}, {\"col\": \"EnteroCount\", \"idx\": 1279778400000, \"val\": 74.0}, {\"col\": \"EnteroCount\", \"idx\": 1279778400000, \"val\": 939.0}, {\"col\": \"EnteroCount\", \"idx\": 1279778400000, \"val\": 73.0}, {\"col\": \"EnteroCount\", \"idx\": 1279778400000, \"val\": 275.0}, {\"col\": \"EnteroCount\", \"idx\": 1279778400000, \"val\": 1274.0}, {\"col\": \"EnteroCount\", \"idx\": 1279778400000, \"val\": 41.0}, {\"col\": \"EnteroCount\", \"idx\": 1279778400000, \"val\": 10.0}, {\"col\": \"EnteroCount\", \"idx\": 1279778400000, \"val\": 563.0}, {\"col\": \"EnteroCount\", \"idx\": 1279778400000, \"val\": 3654.0}, {\"col\": \"EnteroCount\", \"idx\": 1279778400000, \"val\": 132.0}, {\"col\": \"EnteroCount\", \"idx\": 1279778400000, \"val\": 120.0}, {\"col\": \"EnteroCount\", \"idx\": 1279778400000, \"val\": 10.0}, {\"col\": \"EnteroCount\", \"idx\": 1279778400000, \"val\": 31.0}, {\"col\": \"EnteroCount\", \"idx\": 1279778400000, \"val\": 20.0}, {\"col\": \"EnteroCount\", \"idx\": 1279778400000, \"val\": 441.0}, {\"col\": \"EnteroCount\", \"idx\": 1280124000000, \"val\": 1479.0}, {\"col\": \"EnteroCount\", \"idx\": 1280815200000, \"val\": 1553.0}, {\"col\": \"EnteroCount\", \"idx\": 1280815200000, \"val\": 30.0}, {\"col\": \"EnteroCount\", \"idx\": 1281333600000, \"val\": 63.0}, {\"col\": \"EnteroCount\", \"idx\": 1281420000000, \"val\": 41.0}, {\"col\": \"EnteroCount\", \"idx\": 1281420000000, \"val\": 1553.0}, {\"col\": \"EnteroCount\", \"idx\": 1281420000000, \"val\": 84.0}, {\"col\": \"EnteroCount\", \"idx\": 1282024800000, \"val\": 63.0}, {\"col\": \"EnteroCount\", \"idx\": 1282024800000, \"val\": 41.0}, {\"col\": \"EnteroCount\", \"idx\": 1282024800000, \"val\": 41.0}, {\"col\": \"EnteroCount\", \"idx\": 1282024800000, \"val\": 31.0}, {\"col\": \"EnteroCount\", \"idx\": 1282024800000, \"val\": 4884.0}, {\"col\": \"EnteroCount\", \"idx\": 1282024800000, \"val\": 3448.0}, {\"col\": \"EnteroCount\", \"idx\": 1282024800000, \"val\": 3873.0}, {\"col\": \"EnteroCount\", \"idx\": 1282024800000, \"val\": 10.0}, {\"col\": \"EnteroCount\", \"idx\": 1282024800000, \"val\": 63.0}, {\"col\": \"EnteroCount\", \"idx\": 1282111200000, \"val\": 97.0}, {\"col\": \"EnteroCount\", \"idx\": 1282111200000, \"val\": 52.0}, {\"col\": \"EnteroCount\", \"idx\": 1282111200000, \"val\": 10.0}, {\"col\": \"EnteroCount\", \"idx\": 1282111200000, \"val\": 10.0}, {\"col\": \"EnteroCount\", \"idx\": 1282111200000, \"val\": 41.0}, {\"col\": \"EnteroCount\", \"idx\": 1282111200000, \"val\": 10.0}, {\"col\": \"EnteroCount\", \"idx\": 1282111200000, \"val\": 10.0}, {\"col\": \"EnteroCount\", \"idx\": 1282111200000, \"val\": 85.0}, {\"col\": \"EnteroCount\", \"idx\": 1282197600000, \"val\": 328.0}, {\"col\": \"EnteroCount\", \"idx\": 1282197600000, \"val\": 6.0}, {\"col\": \"EnteroCount\", \"idx\": 1282197600000, \"val\": 48.0}, {\"col\": \"EnteroCount\", \"idx\": 1282197600000, \"val\": 4.0}, {\"col\": \"EnteroCount\", \"idx\": 1282197600000, \"val\": 1.0}, {\"col\": \"EnteroCount\", \"idx\": 1282197600000, \"val\": 2.0}, {\"col\": \"EnteroCount\", \"idx\": 1282284000000, \"val\": 46.0}, {\"col\": \"EnteroCount\", \"idx\": 1282284000000, \"val\": 50.0}, {\"col\": \"EnteroCount\", \"idx\": 1282284000000, \"val\": 7.0}, {\"col\": \"EnteroCount\", \"idx\": 1282284000000, \"val\": 1.0}, {\"col\": \"EnteroCount\", \"idx\": 1282284000000, \"val\": 16.0}, {\"col\": \"EnteroCount\", \"idx\": 1282284000000, \"val\": 20.0}, {\"col\": \"EnteroCount\", \"idx\": 1282284000000, \"val\": 12.0}, {\"col\": \"EnteroCount\", \"idx\": 1282284000000, \"val\": 20.0}, {\"col\": \"EnteroCount\", \"idx\": 1282284000000, \"val\": 7.0}, {\"col\": \"EnteroCount\", \"idx\": 1282284000000, \"val\": 3.0}, {\"col\": \"EnteroCount\", \"idx\": 1282284000000, \"val\": 6.0}, {\"col\": \"EnteroCount\", \"idx\": 1282284000000, \"val\": 5.0}, {\"col\": \"EnteroCount\", \"idx\": 1282284000000, \"val\": 12.0}, {\"col\": \"EnteroCount\", \"idx\": 1282284000000, \"val\": 84.0}, {\"col\": \"EnteroCount\", \"idx\": 1282284000000, \"val\": 326.0}, {\"col\": \"EnteroCount\", \"idx\": 1282284000000, \"val\": 38.0}, {\"col\": \"EnteroCount\", \"idx\": 1282370400000, \"val\": 8.0}, {\"col\": \"EnteroCount\", \"idx\": 1282370400000, \"val\": 25.0}, {\"col\": \"EnteroCount\", \"idx\": 1282370400000, \"val\": 67.0}, {\"col\": \"EnteroCount\", \"idx\": 1282370400000, \"val\": 31.0}, {\"col\": \"EnteroCount\", \"idx\": 1282370400000, \"val\": 12.0}, {\"col\": \"EnteroCount\", \"idx\": 1282370400000, \"val\": 21.0}, {\"col\": \"EnteroCount\", \"idx\": 1282370400000, \"val\": 84.0}, {\"col\": \"EnteroCount\", \"idx\": 1282370400000, \"val\": 5.0}, {\"col\": \"EnteroCount\", \"idx\": 1282370400000, \"val\": 3.0}, {\"col\": \"EnteroCount\", \"idx\": 1282370400000, \"val\": 8.0}, {\"col\": \"EnteroCount\", \"idx\": 1282370400000, \"val\": 20.0}, {\"col\": \"EnteroCount\", \"idx\": 1282370400000, \"val\": 25.0}, {\"col\": \"EnteroCount\", \"idx\": 1282370400000, \"val\": 1.0}, {\"col\": \"EnteroCount\", \"idx\": 1282370400000, \"val\": 2.0}, {\"col\": \"EnteroCount\", \"idx\": 1282370400000, \"val\": 26.0}, {\"col\": \"EnteroCount\", \"idx\": 1282370400000, \"val\": 8.0}, {\"col\": \"EnteroCount\", \"idx\": 1282370400000, \"val\": 51.0}, {\"col\": \"EnteroCount\", \"idx\": 1282543200000, \"val\": 24.0}, {\"col\": \"EnteroCount\", \"idx\": 1282543200000, \"val\": 10.0}, {\"col\": \"EnteroCount\", \"idx\": 1282543200000, \"val\": 345.0}, {\"col\": \"EnteroCount\", \"idx\": 1282543200000, \"val\": 488.0}, {\"col\": \"EnteroCount\", \"idx\": 1282543200000, \"val\": 727.0}, {\"col\": \"EnteroCount\", \"idx\": 1282543200000, \"val\": 435.0}, {\"col\": \"EnteroCount\", \"idx\": 1282629600000, \"val\": 860.0}, {\"col\": \"EnteroCount\", \"idx\": 1283061600000, \"val\": 1733.0}, {\"col\": \"EnteroCount\", \"idx\": 1283061600000, \"val\": 481.0}, {\"col\": \"EnteroCount\", \"idx\": 1283752800000, \"val\": 980.0}, {\"col\": \"EnteroCount\", \"idx\": 1283752800000, \"val\": 62.0}, {\"col\": \"EnteroCount\", \"idx\": 1284184800000, \"val\": 10.0}, {\"col\": \"EnteroCount\", \"idx\": 1284184800000, \"val\": 10.0}, {\"col\": \"EnteroCount\", \"idx\": 1284184800000, \"val\": 10.0}, {\"col\": \"EnteroCount\", \"idx\": 1284184800000, \"val\": 20.0}, {\"col\": \"EnteroCount\", \"idx\": 1284184800000, \"val\": 10.0}, {\"col\": \"EnteroCount\", \"idx\": 1284184800000, \"val\": 30.0}, {\"col\": \"EnteroCount\", \"idx\": 1284184800000, \"val\": 10.0}, {\"col\": \"EnteroCount\", \"idx\": 1284271200000, \"val\": 10.0}, {\"col\": \"EnteroCount\", \"idx\": 1284271200000, \"val\": 228.0}, {\"col\": \"EnteroCount\", \"idx\": 1284271200000, \"val\": 10.0}, {\"col\": \"EnteroCount\", \"idx\": 1284271200000, \"val\": 51.0}, {\"col\": \"EnteroCount\", \"idx\": 1284271200000, \"val\": 10.0}, {\"col\": \"EnteroCount\", \"idx\": 1284271200000, \"val\": 86.0}, {\"col\": \"EnteroCount\", \"idx\": 1284271200000, \"val\": 10.0}, {\"col\": \"EnteroCount\", \"idx\": 1284271200000, \"val\": 10.0}, {\"col\": \"EnteroCount\", \"idx\": 1284271200000, \"val\": 20.0}, {\"col\": \"EnteroCount\", \"idx\": 1284271200000, \"val\": 30.0}, {\"col\": \"EnteroCount\", \"idx\": 1284271200000, \"val\": 10.0}, {\"col\": \"EnteroCount\", \"idx\": 1284271200000, \"val\": 20.0}, {\"col\": \"EnteroCount\", \"idx\": 1284357600000, \"val\": 59.0}, {\"col\": \"EnteroCount\", \"idx\": 1284357600000, \"val\": 20.0}, {\"col\": \"EnteroCount\", \"idx\": 1284357600000, \"val\": 4.0}, {\"col\": \"EnteroCount\", \"idx\": 1284357600000, \"val\": 166.0}, {\"col\": \"EnteroCount\", \"idx\": 1284357600000, \"val\": 291.0}, {\"col\": \"EnteroCount\", \"idx\": 1284357600000, \"val\": 47.0}, {\"col\": \"EnteroCount\", \"idx\": 1284357600000, \"val\": 49.0}, {\"col\": \"EnteroCount\", \"idx\": 1284357600000, \"val\": 13.0}, {\"col\": \"EnteroCount\", \"idx\": 1284357600000, \"val\": 5.0}, {\"col\": \"EnteroCount\", \"idx\": 1284357600000, \"val\": 17.0}, {\"col\": \"EnteroCount\", \"idx\": 1284357600000, \"val\": 133.0}, {\"col\": \"EnteroCount\", \"idx\": 1284357600000, \"val\": 7.0}, {\"col\": \"EnteroCount\", \"idx\": 1284357600000, \"val\": 17.0}, {\"col\": \"EnteroCount\", \"idx\": 1284357600000, \"val\": 13.0}, {\"col\": \"EnteroCount\", \"idx\": 1284357600000, \"val\": 15.0}, {\"col\": \"EnteroCount\", \"idx\": 1284357600000, \"val\": 3.0}, {\"col\": \"EnteroCount\", \"idx\": 1284357600000, \"val\": 23.0}, {\"col\": \"EnteroCount\", \"idx\": 1284444000000, \"val\": 31.0}, {\"col\": \"EnteroCount\", \"idx\": 1284444000000, \"val\": 88.0}, {\"col\": \"EnteroCount\", \"idx\": 1284444000000, \"val\": 9.0}, {\"col\": \"EnteroCount\", \"idx\": 1284444000000, \"val\": 31.0}, {\"col\": \"EnteroCount\", \"idx\": 1284444000000, \"val\": 31.0}, {\"col\": \"EnteroCount\", \"idx\": 1284444000000, \"val\": 44.0}, {\"col\": \"EnteroCount\", \"idx\": 1284444000000, \"val\": 26.0}, {\"col\": \"EnteroCount\", \"idx\": 1284444000000, \"val\": 11.0}, {\"col\": \"EnteroCount\", \"idx\": 1284444000000, \"val\": 15.0}, {\"col\": \"EnteroCount\", \"idx\": 1284444000000, \"val\": 22.0}, {\"col\": \"EnteroCount\", \"idx\": 1284444000000, \"val\": 82.0}, {\"col\": \"EnteroCount\", \"idx\": 1284444000000, \"val\": 38.0}, {\"col\": \"EnteroCount\", \"idx\": 1284444000000, \"val\": 21.0}, {\"col\": \"EnteroCount\", \"idx\": 1284444000000, \"val\": 42.0}, {\"col\": \"EnteroCount\", \"idx\": 1284444000000, \"val\": 104.0}, {\"col\": \"EnteroCount\", \"idx\": 1284444000000, \"val\": 8.0}, {\"col\": \"EnteroCount\", \"idx\": 1284444000000, \"val\": 19.0}, {\"col\": \"EnteroCount\", \"idx\": 1284444000000, \"val\": 32.0}, {\"col\": \"EnteroCount\", \"idx\": 1284444000000, \"val\": 22.0}, {\"col\": \"EnteroCount\", \"idx\": 1284444000000, \"val\": 11.0}, {\"col\": \"EnteroCount\", \"idx\": 1284444000000, \"val\": 32.0}, {\"col\": \"EnteroCount\", \"idx\": 1284444000000, \"val\": 27.0}, {\"col\": \"EnteroCount\", \"idx\": 1284962400000, \"val\": 61.0}, {\"col\": \"EnteroCount\", \"idx\": 1285567200000, \"val\": 20.0}, {\"col\": \"EnteroCount\", \"idx\": 1286172000000, \"val\": 171.0}, {\"col\": \"EnteroCount\", \"idx\": 1286172000000, \"val\": 763.0}, {\"col\": \"EnteroCount\", \"idx\": 1286863200000, \"val\": 134.0}, {\"col\": \"EnteroCount\", \"idx\": 1286863200000, \"val\": 816.0}, {\"col\": \"EnteroCount\", \"idx\": 1286863200000, \"val\": 231.0}, {\"col\": \"EnteroCount\", \"idx\": 1286863200000, \"val\": 110.0}, {\"col\": \"EnteroCount\", \"idx\": 1286863200000, \"val\": 399.0}, {\"col\": \"EnteroCount\", \"idx\": 1286863200000, \"val\": 275.0}, {\"col\": \"EnteroCount\", \"idx\": 1286863200000, \"val\": 110.0}, {\"col\": \"EnteroCount\", \"idx\": 1286863200000, \"val\": 487.0}, {\"col\": \"EnteroCount\", \"idx\": 1286863200000, \"val\": 331.0}, {\"col\": \"EnteroCount\", \"idx\": 1286863200000, \"val\": 161.0}, {\"col\": \"EnteroCount\", \"idx\": 1286863200000, \"val\": 41.0}, {\"col\": \"EnteroCount\", \"idx\": 1286863200000, \"val\": 63.0}, {\"col\": \"EnteroCount\", \"idx\": 1286949600000, \"val\": 10.0}, {\"col\": \"EnteroCount\", \"idx\": 1286949600000, \"val\": 816.0}, {\"col\": \"EnteroCount\", \"idx\": 1286949600000, \"val\": 10.0}, {\"col\": \"EnteroCount\", \"idx\": 1286949600000, \"val\": 31.0}, {\"col\": \"EnteroCount\", \"idx\": 1286949600000, \"val\": 20.0}, {\"col\": \"EnteroCount\", \"idx\": 1286949600000, \"val\": 10.0}, {\"col\": \"EnteroCount\", \"idx\": 1286949600000, \"val\": 31.0}, {\"col\": \"EnteroCount\", \"idx\": 1286949600000, \"val\": 10.0}, {\"col\": \"EnteroCount\", \"idx\": 1286949600000, \"val\": 10.0}, {\"col\": \"EnteroCount\", \"idx\": 1286949600000, \"val\": 73.0}, {\"col\": \"EnteroCount\", \"idx\": 1287036000000, \"val\": 26.0}, {\"col\": \"EnteroCount\", \"idx\": 1287036000000, \"val\": 25.0}, {\"col\": \"EnteroCount\", \"idx\": 1287036000000, \"val\": 24.0}, {\"col\": \"EnteroCount\", \"idx\": 1287036000000, \"val\": 33.0}, {\"col\": \"EnteroCount\", \"idx\": 1287036000000, \"val\": 67.0}, {\"col\": \"EnteroCount\", \"idx\": 1287036000000, \"val\": 326.0}, {\"col\": \"EnteroCount\", \"idx\": 1287036000000, \"val\": 56.0}, {\"col\": \"EnteroCount\", \"idx\": 1287036000000, \"val\": 56.0}, {\"col\": \"EnteroCount\", \"idx\": 1287122400000, \"val\": 35.0}, {\"col\": \"EnteroCount\", \"idx\": 1287122400000, \"val\": 7.0}, {\"col\": \"EnteroCount\", \"idx\": 1287122400000, \"val\": 78.0}, {\"col\": \"EnteroCount\", \"idx\": 1287122400000, \"val\": 22.0}, {\"col\": \"EnteroCount\", \"idx\": 1287122400000, \"val\": 20.0}, {\"col\": \"EnteroCount\", \"idx\": 1287122400000, \"val\": 411.0}, {\"col\": \"EnteroCount\", \"idx\": 1287122400000, \"val\": 17.0}, {\"col\": \"EnteroCount\", \"idx\": 1287122400000, \"val\": 17.0}, {\"col\": \"EnteroCount\", \"idx\": 1287122400000, \"val\": 2420.0}, {\"col\": \"EnteroCount\", \"idx\": 1287122400000, \"val\": 816.0}, {\"col\": \"EnteroCount\", \"idx\": 1287122400000, \"val\": 35.0}, {\"col\": \"EnteroCount\", \"idx\": 1287122400000, \"val\": 84.0}, {\"col\": \"EnteroCount\", \"idx\": 1287122400000, \"val\": 345.0}, {\"col\": \"EnteroCount\", \"idx\": 1287122400000, \"val\": 119.0}, {\"col\": \"EnteroCount\", \"idx\": 1287122400000, \"val\": 31.0}, {\"col\": \"EnteroCount\", \"idx\": 1287122400000, \"val\": 41.0}, {\"col\": \"EnteroCount\", \"idx\": 1287122400000, \"val\": 126.0}, {\"col\": \"EnteroCount\", \"idx\": 1287122400000, \"val\": 184.0}, {\"col\": \"EnteroCount\", \"idx\": 1287208800000, \"val\": 921.0}, {\"col\": \"EnteroCount\", \"idx\": 1287208800000, \"val\": 96.0}, {\"col\": \"EnteroCount\", \"idx\": 1287208800000, \"val\": 1986.0}, {\"col\": \"EnteroCount\", \"idx\": 1287208800000, \"val\": 128.0}, {\"col\": \"EnteroCount\", \"idx\": 1287208800000, \"val\": 125.0}, {\"col\": \"EnteroCount\", \"idx\": 1287208800000, \"val\": 1986.0}, {\"col\": \"EnteroCount\", \"idx\": 1287208800000, \"val\": 488.0}, {\"col\": \"EnteroCount\", \"idx\": 1287208800000, \"val\": 649.0}, {\"col\": \"EnteroCount\", \"idx\": 1287208800000, \"val\": 649.0}, {\"col\": \"EnteroCount\", \"idx\": 1287208800000, \"val\": 525.0}, {\"col\": \"EnteroCount\", \"idx\": 1287208800000, \"val\": 116.0}, {\"col\": \"EnteroCount\", \"idx\": 1287208800000, \"val\": 1986.0}, {\"col\": \"EnteroCount\", \"idx\": 1287208800000, \"val\": 192.0}, {\"col\": \"EnteroCount\", \"idx\": 1287208800000, \"val\": 65.0}, {\"col\": \"EnteroCount\", \"idx\": 1287208800000, \"val\": 921.0}, {\"col\": \"EnteroCount\", \"idx\": 1287381600000, \"val\": 379.0}, {\"col\": \"EnteroCount\", \"idx\": 1287381600000, \"val\": 1733.0}, {\"col\": \"EnteroCount\", \"idx\": 1287986400000, \"val\": 365.0}, {\"col\": \"EnteroCount\", \"idx\": 1287986400000, \"val\": 1616.0}, {\"col\": \"EnteroCount\", \"idx\": 1288591200000, \"val\": 249.0}, {\"col\": \"EnteroCount\", \"idx\": 1288591200000, \"val\": 2755.0}, {\"col\": \"EnteroCount\", \"idx\": 1289199600000, \"val\": 411.0}, {\"col\": \"EnteroCount\", \"idx\": 1289199600000, \"val\": 4106.0}, {\"col\": \"EnteroCount\", \"idx\": 1289199600000, \"val\": 63.0}, {\"col\": \"EnteroCount\", \"idx\": 1289890800000, \"val\": 933.0}, {\"col\": \"EnteroCount\", \"idx\": 1289890800000, \"val\": 488.0}, {\"col\": \"EnteroCount\", \"idx\": 1290409200000, \"val\": 1234.0}, {\"col\": \"EnteroCount\", \"idx\": 1290409200000, \"val\": 435.0}, {\"col\": \"EnteroCount\", \"idx\": 1291014000000, \"val\": 326.0}, {\"col\": \"EnteroCount\", \"idx\": 1291014000000, \"val\": 4106.0}, {\"col\": \"EnteroCount\", \"idx\": 1291618800000, \"val\": 461.0}, {\"col\": \"EnteroCount\", \"idx\": 1291618800000, \"val\": 1106.0}, {\"col\": \"EnteroCount\", \"idx\": 1291618800000, \"val\": 122.0}, {\"col\": \"EnteroCount\", \"idx\": 1292223600000, \"val\": 984.0}, {\"col\": \"EnteroCount\", \"idx\": 1292828400000, \"val\": 546.0}, {\"col\": \"EnteroCount\", \"idx\": 1292828400000, \"val\": 194.0}, {\"col\": \"EnteroCount\", \"idx\": 1293606000000, \"val\": 162.0}, {\"col\": \"EnteroCount\", \"idx\": 1293606000000, \"val\": 1333.0}, {\"col\": \"EnteroCount\", \"idx\": 1294038000000, \"val\": 548.0}, {\"col\": \"EnteroCount\", \"idx\": 1294038000000, \"val\": 218.0}, {\"col\": \"EnteroCount\", \"idx\": 1294038000000, \"val\": 1607.0}, {\"col\": \"EnteroCount\", \"idx\": 1294729200000, \"val\": 1541.0}, {\"col\": \"EnteroCount\", \"idx\": 1294729200000, \"val\": 68.0}, {\"col\": \"EnteroCount\", \"idx\": 1297062000000, \"val\": 990.0}, {\"col\": \"EnteroCount\", \"idx\": 1297062000000, \"val\": 238.0}, {\"col\": \"EnteroCount\", \"idx\": 1297062000000, \"val\": 146.0}, {\"col\": \"EnteroCount\", \"idx\": 1299481200000, \"val\": 767.0}, {\"col\": \"EnteroCount\", \"idx\": 1299481200000, \"val\": 2481.0}, {\"col\": \"EnteroCount\", \"idx\": 1301896800000, \"val\": 31.0}, {\"col\": \"EnteroCount\", \"idx\": 1301896800000, \"val\": 327.0}, {\"col\": \"EnteroCount\", \"idx\": 1301896800000, \"val\": 225.0}, {\"col\": \"EnteroCount\", \"idx\": 1304316000000, \"val\": 161.0}, {\"col\": \"EnteroCount\", \"idx\": 1304316000000, \"val\": 20.0}, {\"col\": \"EnteroCount\", \"idx\": 1304316000000, \"val\": 557.0}, {\"col\": \"EnteroCount\", \"idx\": 1305525600000, \"val\": 272.0}, {\"col\": \"EnteroCount\", \"idx\": 1305525600000, \"val\": 97.0}, {\"col\": \"EnteroCount\", \"idx\": 1305525600000, \"val\": 144.0}, {\"col\": \"EnteroCount\", \"idx\": 1305525600000, \"val\": 74.0}, {\"col\": \"EnteroCount\", \"idx\": 1305525600000, \"val\": 448.0}, {\"col\": \"EnteroCount\", \"idx\": 1305525600000, \"val\": 75.0}, {\"col\": \"EnteroCount\", \"idx\": 1305525600000, \"val\": 1063.0}, {\"col\": \"EnteroCount\", \"idx\": 1305525600000, \"val\": 160.0}, {\"col\": \"EnteroCount\", \"idx\": 1305525600000, \"val\": 41.0}, {\"col\": \"EnteroCount\", \"idx\": 1305525600000, \"val\": 323.0}, {\"col\": \"EnteroCount\", \"idx\": 1305525600000, \"val\": 121.0}, {\"col\": \"EnteroCount\", \"idx\": 1305525600000, \"val\": 52.0}, {\"col\": \"EnteroCount\", \"idx\": 1305525600000, \"val\": 218.0}, {\"col\": \"EnteroCount\", \"idx\": 1305525600000, \"val\": 181.0}, {\"col\": \"EnteroCount\", \"idx\": 1305612000000, \"val\": 169.0}, {\"col\": \"EnteroCount\", \"idx\": 1305612000000, \"val\": 31.0}, {\"col\": \"EnteroCount\", \"idx\": 1305612000000, \"val\": 10462.0}, {\"col\": \"EnteroCount\", \"idx\": 1305612000000, \"val\": 189.0}, {\"col\": \"EnteroCount\", \"idx\": 1305612000000, \"val\": 2481.0}, {\"col\": \"EnteroCount\", \"idx\": 1305612000000, \"val\": 20.0}, {\"col\": \"EnteroCount\", \"idx\": 1305612000000, \"val\": 20.0}, {\"col\": \"EnteroCount\", \"idx\": 1305612000000, \"val\": 3654.0}, {\"col\": \"EnteroCount\", \"idx\": 1305612000000, \"val\": 52.0}, {\"col\": \"EnteroCount\", \"idx\": 1305612000000, \"val\": 958.0}, {\"col\": \"EnteroCount\", \"idx\": 1305612000000, \"val\": 120.0}, {\"col\": \"EnteroCount\", \"idx\": 1305612000000, \"val\": 4611.0}, {\"col\": \"EnteroCount\", \"idx\": 1305612000000, \"val\": 538.0}, {\"col\": \"EnteroCount\", \"idx\": 1305612000000, \"val\": 2014.0}, {\"col\": \"EnteroCount\", \"idx\": 1305612000000, \"val\": 663.0}, {\"col\": \"EnteroCount\", \"idx\": 1305612000000, \"val\": 31.0}, {\"col\": \"EnteroCount\", \"idx\": 1305698400000, \"val\": 32.0}, {\"col\": \"EnteroCount\", \"idx\": 1305698400000, \"val\": 147.0}, {\"col\": \"EnteroCount\", \"idx\": 1305698400000, \"val\": 23.0}, {\"col\": \"EnteroCount\", \"idx\": 1305698400000, \"val\": 54.0}, {\"col\": \"EnteroCount\", \"idx\": 1305698400000, \"val\": 921.0}, {\"col\": \"EnteroCount\", \"idx\": 1305698400000, \"val\": 199.0}, {\"col\": \"EnteroCount\", \"idx\": 1305698400000, \"val\": 26.0}, {\"col\": \"EnteroCount\", \"idx\": 1305698400000, \"val\": 119.0}, {\"col\": \"EnteroCount\", \"idx\": 1305698400000, \"val\": 21.0}, {\"col\": \"EnteroCount\", \"idx\": 1305698400000, \"val\": 411.0}, {\"col\": \"EnteroCount\", \"idx\": 1305698400000, \"val\": 219.0}, {\"col\": \"EnteroCount\", \"idx\": 1305698400000, \"val\": 99.0}, {\"col\": \"EnteroCount\", \"idx\": 1305784800000, \"val\": 411.0}, {\"col\": \"EnteroCount\", \"idx\": 1305784800000, \"val\": 687.0}, {\"col\": \"EnteroCount\", \"idx\": 1305784800000, \"val\": 770.0}, {\"col\": \"EnteroCount\", \"idx\": 1305784800000, \"val\": 81.0}, {\"col\": \"EnteroCount\", \"idx\": 1305784800000, \"val\": 727.0}, {\"col\": \"EnteroCount\", \"idx\": 1305784800000, \"val\": 1733.0}, {\"col\": \"EnteroCount\", \"idx\": 1305784800000, \"val\": 147.0}, {\"col\": \"EnteroCount\", \"idx\": 1305784800000, \"val\": 1733.0}, {\"col\": \"EnteroCount\", \"idx\": 1305784800000, \"val\": 161.0}, {\"col\": \"EnteroCount\", \"idx\": 1305784800000, \"val\": 238.0}, {\"col\": \"EnteroCount\", \"idx\": 1305784800000, \"val\": 96.0}, {\"col\": \"EnteroCount\", \"idx\": 1305784800000, \"val\": 166.0}, {\"col\": \"EnteroCount\", \"idx\": 1305784800000, \"val\": 727.0}, {\"col\": \"EnteroCount\", \"idx\": 1305784800000, \"val\": 260.0}, {\"col\": \"EnteroCount\", \"idx\": 1305784800000, \"val\": 326.0}, {\"col\": \"EnteroCount\", \"idx\": 1305784800000, \"val\": 1414.0}, {\"col\": \"EnteroCount\", \"idx\": 1305784800000, \"val\": 2420.0}, {\"col\": \"EnteroCount\", \"idx\": 1305784800000, \"val\": 328.0}, {\"col\": \"EnteroCount\", \"idx\": 1305784800000, \"val\": 1046.0}, {\"col\": \"EnteroCount\", \"idx\": 1305784800000, \"val\": 378.0}, {\"col\": \"EnteroCount\", \"idx\": 1305784800000, \"val\": 96.0}, {\"col\": \"EnteroCount\", \"idx\": 1305784800000, \"val\": 488.0}, {\"col\": \"EnteroCount\", \"idx\": 1305784800000, \"val\": 91.0}, {\"col\": \"EnteroCount\", \"idx\": 1305784800000, \"val\": 816.0}, {\"col\": \"EnteroCount\", \"idx\": 1305784800000, \"val\": 119.0}, {\"col\": \"EnteroCount\", \"idx\": 1305784800000, \"val\": 249.0}, {\"col\": \"EnteroCount\", \"idx\": 1306994400000, \"val\": 921.0}, {\"col\": \"EnteroCount\", \"idx\": 1306994400000, \"val\": 30.0}, {\"col\": \"EnteroCount\", \"idx\": 1306994400000, \"val\": 10.0}, {\"col\": \"EnteroCount\", \"idx\": 1309154400000, \"val\": 262.0}, {\"col\": \"EnteroCount\", \"idx\": 1309154400000, \"val\": 10.0}, {\"col\": \"EnteroCount\", \"idx\": 1309154400000, \"val\": 30.0}, {\"col\": \"EnteroCount\", \"idx\": 1309154400000, \"val\": 10.0}, {\"col\": \"EnteroCount\", \"idx\": 1309154400000, \"val\": 10.0}, {\"col\": \"EnteroCount\", \"idx\": 1309240800000, \"val\": 959.0}, {\"col\": \"EnteroCount\", \"idx\": 1309240800000, \"val\": 31.0}, {\"col\": \"EnteroCount\", \"idx\": 1309240800000, \"val\": 63.0}, {\"col\": \"EnteroCount\", \"idx\": 1309240800000, \"val\": 41.0}, {\"col\": \"EnteroCount\", \"idx\": 1309240800000, \"val\": 10.0}, {\"col\": \"EnteroCount\", \"idx\": 1309240800000, \"val\": 20.0}, {\"col\": \"EnteroCount\", \"idx\": 1309240800000, \"val\": 10.0}, {\"col\": \"EnteroCount\", \"idx\": 1309240800000, \"val\": 10.0}, {\"col\": \"EnteroCount\", \"idx\": 1309240800000, \"val\": 10.0}, {\"col\": \"EnteroCount\", \"idx\": 1309240800000, \"val\": 20.0}, {\"col\": \"EnteroCount\", \"idx\": 1309240800000, \"val\": 31.0}, {\"col\": \"EnteroCount\", \"idx\": 1309240800000, \"val\": 171.0}, {\"col\": \"EnteroCount\", \"idx\": 1309327200000, \"val\": 727.0}, {\"col\": \"EnteroCount\", \"idx\": 1309327200000, \"val\": 11.0}, {\"col\": \"EnteroCount\", \"idx\": 1309327200000, \"val\": 47.0}, {\"col\": \"EnteroCount\", \"idx\": 1309327200000, \"val\": 21.0}, {\"col\": \"EnteroCount\", \"idx\": 1309327200000, \"val\": 69.0}, {\"col\": \"EnteroCount\", \"idx\": 1309327200000, \"val\": 6.0}, {\"col\": \"EnteroCount\", \"idx\": 1309413600000, \"val\": 66.0}, {\"col\": \"EnteroCount\", \"idx\": 1309413600000, \"val\": 12.0}, {\"col\": \"EnteroCount\", \"idx\": 1309413600000, \"val\": 36.0}, {\"col\": \"EnteroCount\", \"idx\": 1309413600000, \"val\": 6.0}, {\"col\": \"EnteroCount\", \"idx\": 1309413600000, \"val\": 10.0}, {\"col\": \"EnteroCount\", \"idx\": 1309413600000, \"val\": 184.0}, {\"col\": \"EnteroCount\", \"idx\": 1309413600000, \"val\": 12.0}, {\"col\": \"EnteroCount\", \"idx\": 1309413600000, \"val\": 70.0}, {\"col\": \"EnteroCount\", \"idx\": 1309413600000, \"val\": 20.0}, {\"col\": \"EnteroCount\", \"idx\": 1309413600000, \"val\": 345.0}, {\"col\": \"EnteroCount\", \"idx\": 1309413600000, \"val\": 86.0}, {\"col\": \"EnteroCount\", \"idx\": 1309500000000, \"val\": 2.0}, {\"col\": \"EnteroCount\", \"idx\": 1309500000000, \"val\": 19.0}, {\"col\": \"EnteroCount\", \"idx\": 1309500000000, \"val\": 59.0}, {\"col\": \"EnteroCount\", \"idx\": 1309500000000, \"val\": 15.0}, {\"col\": \"EnteroCount\", \"idx\": 1309500000000, \"val\": 4.0}, {\"col\": \"EnteroCount\", \"idx\": 1309500000000, \"val\": 4.0}, {\"col\": \"EnteroCount\", \"idx\": 1309500000000, \"val\": 8.0}, {\"col\": \"EnteroCount\", \"idx\": 1309500000000, \"val\": 17.0}, {\"col\": \"EnteroCount\", \"idx\": 1309500000000, \"val\": 5.0}, {\"col\": \"EnteroCount\", \"idx\": 1309586400000, \"val\": 16.0}, {\"col\": \"EnteroCount\", \"idx\": 1309586400000, \"val\": 67.0}, {\"col\": \"EnteroCount\", \"idx\": 1309586400000, \"val\": 4.0}, {\"col\": \"EnteroCount\", \"idx\": 1309586400000, \"val\": 63.0}, {\"col\": \"EnteroCount\", \"idx\": 1309586400000, \"val\": 47.0}, {\"col\": \"EnteroCount\", \"idx\": 1309586400000, \"val\": 15.0}, {\"col\": \"EnteroCount\", \"idx\": 1309586400000, \"val\": 17.0}, {\"col\": \"EnteroCount\", \"idx\": 1309586400000, \"val\": 18.0}, {\"col\": \"EnteroCount\", \"idx\": 1309586400000, \"val\": 25.0}, {\"col\": \"EnteroCount\", \"idx\": 1309586400000, \"val\": 84.0}, {\"col\": \"EnteroCount\", \"idx\": 1309586400000, \"val\": 31.0}, {\"col\": \"EnteroCount\", \"idx\": 1309586400000, \"val\": 11.0}, {\"col\": \"EnteroCount\", \"idx\": 1309586400000, \"val\": 74.0}, {\"col\": \"EnteroCount\", \"idx\": 1309586400000, \"val\": 37.0}, {\"col\": \"EnteroCount\", \"idx\": 1310623200000, \"val\": 108.0}, {\"col\": \"EnteroCount\", \"idx\": 1310623200000, \"val\": 219.0}, {\"col\": \"EnteroCount\", \"idx\": 1310623200000, \"val\": 2.0}, {\"col\": \"EnteroCount\", \"idx\": 1310623200000, \"val\": 6.0}, {\"col\": \"EnteroCount\", \"idx\": 1310623200000, \"val\": 13.0}, {\"col\": \"EnteroCount\", \"idx\": 1310623200000, \"val\": 4.0}, {\"col\": \"EnteroCount\", \"idx\": 1310623200000, \"val\": 76.0}, {\"col\": \"EnteroCount\", \"idx\": 1310623200000, \"val\": 11.0}, {\"col\": \"EnteroCount\", \"idx\": 1310623200000, \"val\": 30.0}, {\"col\": \"EnteroCount\", \"idx\": 1310623200000, \"val\": 33.0}, {\"col\": \"EnteroCount\", \"idx\": 1310623200000, \"val\": 10.0}, {\"col\": \"EnteroCount\", \"idx\": 1310623200000, \"val\": 6.0}, {\"col\": \"EnteroCount\", \"idx\": 1310623200000, \"val\": 82.0}, {\"col\": \"EnteroCount\", \"idx\": 1310623200000, \"val\": 24.0}, {\"col\": \"EnteroCount\", \"idx\": 1310709600000, \"val\": 24.0}, {\"col\": \"EnteroCount\", \"idx\": 1310709600000, \"val\": 16.0}, {\"col\": \"EnteroCount\", \"idx\": 1310709600000, \"val\": 3.0}, {\"col\": \"EnteroCount\", \"idx\": 1310709600000, \"val\": 21.0}, {\"col\": \"EnteroCount\", \"idx\": 1310709600000, \"val\": 7.0}, {\"col\": \"EnteroCount\", \"idx\": 1310709600000, \"val\": 4.0}, {\"col\": \"EnteroCount\", \"idx\": 1310709600000, \"val\": 1.0}, {\"col\": \"EnteroCount\", \"idx\": 1310796000000, \"val\": 3.0}, {\"col\": \"EnteroCount\", \"idx\": 1310796000000, \"val\": 3.0}, {\"col\": \"EnteroCount\", \"idx\": 1310796000000, \"val\": 2.0}, {\"col\": \"EnteroCount\", \"idx\": 1310796000000, \"val\": 1.0}, {\"col\": \"EnteroCount\", \"idx\": 1310796000000, \"val\": 10.0}, {\"col\": \"EnteroCount\", \"idx\": 1310796000000, \"val\": 5.0}, {\"col\": \"EnteroCount\", \"idx\": 1310796000000, \"val\": 1.0}, {\"col\": \"EnteroCount\", \"idx\": 1310796000000, \"val\": 2.0}, {\"col\": \"EnteroCount\", \"idx\": 1310882400000, \"val\": 1.0}, {\"col\": \"EnteroCount\", \"idx\": 1310882400000, \"val\": 2.0}, {\"col\": \"EnteroCount\", \"idx\": 1310882400000, \"val\": 2.0}, {\"col\": \"EnteroCount\", \"idx\": 1310882400000, \"val\": 10.0}, {\"col\": \"EnteroCount\", \"idx\": 1310882400000, \"val\": 12.0}, {\"col\": \"EnteroCount\", \"idx\": 1310882400000, \"val\": 3.0}, {\"col\": \"EnteroCount\", \"idx\": 1310968800000, \"val\": 20.0}, {\"col\": \"EnteroCount\", \"idx\": 1310968800000, \"val\": 10.0}, {\"col\": \"EnteroCount\", \"idx\": 1310968800000, \"val\": 10.0}, {\"col\": \"EnteroCount\", \"idx\": 1311055200000, \"val\": 30.0}, {\"col\": \"EnteroCount\", \"idx\": 1311055200000, \"val\": 31.0}, {\"col\": \"EnteroCount\", \"idx\": 1311055200000, \"val\": 10.0}, {\"col\": \"EnteroCount\", \"idx\": 1311055200000, \"val\": 10.0}, {\"col\": \"EnteroCount\", \"idx\": 1311055200000, \"val\": 10.0}, {\"col\": \"EnteroCount\", \"idx\": 1311055200000, \"val\": 121.0}, {\"col\": \"EnteroCount\", \"idx\": 1311055200000, \"val\": 1046.0}, {\"col\": \"EnteroCount\", \"idx\": 1313474400000, \"val\": 2603.0}, {\"col\": \"EnteroCount\", \"idx\": 1313474400000, \"val\": 20.0}, {\"col\": \"EnteroCount\", \"idx\": 1313474400000, \"val\": 62.0}, {\"col\": \"EnteroCount\", \"idx\": 1313474400000, \"val\": 98.0}, {\"col\": \"EnteroCount\", \"idx\": 1313474400000, \"val\": 20.0}, {\"col\": \"EnteroCount\", \"idx\": 1313474400000, \"val\": 109.0}, {\"col\": \"EnteroCount\", \"idx\": 1313474400000, \"val\": 108.0}, {\"col\": \"EnteroCount\", \"idx\": 1313474400000, \"val\": 62.0}, {\"col\": \"EnteroCount\", \"idx\": 1313474400000, \"val\": 2282.0}, {\"col\": \"EnteroCount\", \"idx\": 1313474400000, \"val\": 565.0}, {\"col\": \"EnteroCount\", \"idx\": 1313474400000, \"val\": 613.0}, {\"col\": \"EnteroCount\", \"idx\": 1313474400000, \"val\": 144.0}, {\"col\": \"EnteroCount\", \"idx\": 1313474400000, \"val\": 20.0}, {\"col\": \"EnteroCount\", \"idx\": 1313474400000, \"val\": 201.0}, {\"col\": \"EnteroCount\", \"idx\": 1313474400000, \"val\": 10.0}, {\"col\": \"EnteroCount\", \"idx\": 1313560800000, \"val\": 10.0}, {\"col\": \"EnteroCount\", \"idx\": 1313560800000, \"val\": 10.0}, {\"col\": \"EnteroCount\", \"idx\": 1313560800000, \"val\": 10.0}, {\"col\": \"EnteroCount\", \"idx\": 1313560800000, \"val\": 24196.0}, {\"col\": \"EnteroCount\", \"idx\": 1313560800000, \"val\": 10.0}, {\"col\": \"EnteroCount\", \"idx\": 1313560800000, \"val\": 31.0}, {\"col\": \"EnteroCount\", \"idx\": 1313560800000, \"val\": 10.0}, {\"col\": \"EnteroCount\", \"idx\": 1313560800000, \"val\": 10.0}, {\"col\": \"EnteroCount\", \"idx\": 1313647200000, \"val\": 13.0}, {\"col\": \"EnteroCount\", \"idx\": 1313647200000, \"val\": 921.0}, {\"col\": \"EnteroCount\", \"idx\": 1313647200000, \"val\": 21.0}, {\"col\": \"EnteroCount\", \"idx\": 1313647200000, \"val\": 67.0}, {\"col\": \"EnteroCount\", \"idx\": 1313647200000, \"val\": 27.0}, {\"col\": \"EnteroCount\", \"idx\": 1313647200000, \"val\": 18.0}, {\"col\": \"EnteroCount\", \"idx\": 1313733600000, \"val\": 12.0}, {\"col\": \"EnteroCount\", \"idx\": 1313733600000, \"val\": 35.0}, {\"col\": \"EnteroCount\", \"idx\": 1313733600000, \"val\": 11.0}, {\"col\": \"EnteroCount\", \"idx\": 1313733600000, \"val\": 10.0}, {\"col\": \"EnteroCount\", \"idx\": 1313733600000, \"val\": 19.0}, {\"col\": \"EnteroCount\", \"idx\": 1313733600000, \"val\": 5.0}, {\"col\": \"EnteroCount\", \"idx\": 1313733600000, \"val\": 9.0}, {\"col\": \"EnteroCount\", \"idx\": 1313820000000, \"val\": 10.0}, {\"col\": \"EnteroCount\", \"idx\": 1313820000000, \"val\": 35.0}, {\"col\": \"EnteroCount\", \"idx\": 1313820000000, \"val\": 1.0}, {\"col\": \"EnteroCount\", \"idx\": 1313820000000, \"val\": 12.0}, {\"col\": \"EnteroCount\", \"idx\": 1313820000000, \"val\": 82.0}, {\"col\": \"EnteroCount\", \"idx\": 1313820000000, \"val\": 14.0}, {\"col\": \"EnteroCount\", \"idx\": 1313820000000, \"val\": 4.0}, {\"col\": \"EnteroCount\", \"idx\": 1313820000000, \"val\": 117.0}, {\"col\": \"EnteroCount\", \"idx\": 1313820000000, \"val\": 1.0}, {\"col\": \"EnteroCount\", \"idx\": 1313820000000, \"val\": 4.0}, {\"col\": \"EnteroCount\", \"idx\": 1313820000000, \"val\": 7.0}, {\"col\": \"EnteroCount\", \"idx\": 1313820000000, \"val\": 19.0}, {\"col\": \"EnteroCount\", \"idx\": 1313820000000, \"val\": 6.0}, {\"col\": \"EnteroCount\", \"idx\": 1313906400000, \"val\": 231.0}, {\"col\": \"EnteroCount\", \"idx\": 1313906400000, \"val\": 6.0}, {\"col\": \"EnteroCount\", \"idx\": 1313906400000, \"val\": 142.0}, {\"col\": \"EnteroCount\", \"idx\": 1313906400000, \"val\": 9.0}, {\"col\": \"EnteroCount\", \"idx\": 1313906400000, \"val\": 727.0}, {\"col\": \"EnteroCount\", \"idx\": 1313906400000, \"val\": 435.0}, {\"col\": \"EnteroCount\", \"idx\": 1313906400000, \"val\": 34.0}, {\"col\": \"EnteroCount\", \"idx\": 1313906400000, \"val\": 13.0}, {\"col\": \"EnteroCount\", \"idx\": 1313906400000, \"val\": 12.0}, {\"col\": \"EnteroCount\", \"idx\": 1313906400000, \"val\": 866.0}, {\"col\": \"EnteroCount\", \"idx\": 1313906400000, \"val\": 687.0}, {\"col\": \"EnteroCount\", \"idx\": 1315980000000, \"val\": 31.0}, {\"col\": \"EnteroCount\", \"idx\": 1315980000000, \"val\": 10.0}, {\"col\": \"EnteroCount\", \"idx\": 1315980000000, \"val\": 135.0}, {\"col\": \"EnteroCount\", \"idx\": 1315980000000, \"val\": 52.0}, {\"col\": \"EnteroCount\", \"idx\": 1315980000000, \"val\": 97.0}, {\"col\": \"EnteroCount\", \"idx\": 1315980000000, \"val\": 20.0}, {\"col\": \"EnteroCount\", \"idx\": 1315980000000, \"val\": 31.0}, {\"col\": \"EnteroCount\", \"idx\": 1315980000000, \"val\": 10.0}, {\"col\": \"EnteroCount\", \"idx\": 1315980000000, \"val\": 41.0}, {\"col\": \"EnteroCount\", \"idx\": 1315980000000, \"val\": 41.0}, {\"col\": \"EnteroCount\", \"idx\": 1315980000000, \"val\": 10.0}, {\"col\": \"EnteroCount\", \"idx\": 1315980000000, \"val\": 41.0}, {\"col\": \"EnteroCount\", \"idx\": 1315980000000, \"val\": 30.0}, {\"col\": \"EnteroCount\", \"idx\": 1316066400000, \"val\": 20.0}, {\"col\": \"EnteroCount\", \"idx\": 1316066400000, \"val\": 86.0}, {\"col\": \"EnteroCount\", \"idx\": 1316066400000, \"val\": 72.0}, {\"col\": \"EnteroCount\", \"idx\": 1316066400000, \"val\": 2723.0}, {\"col\": \"EnteroCount\", \"idx\": 1316066400000, \"val\": 41.0}, {\"col\": \"EnteroCount\", \"idx\": 1316066400000, \"val\": 41.0}, {\"col\": \"EnteroCount\", \"idx\": 1316066400000, \"val\": 464.0}, {\"col\": \"EnteroCount\", \"idx\": 1316066400000, \"val\": 86.0}, {\"col\": \"EnteroCount\", \"idx\": 1316066400000, \"val\": 20.0}, {\"col\": \"EnteroCount\", \"idx\": 1316066400000, \"val\": 4352.0}, {\"col\": \"EnteroCount\", \"idx\": 1316066400000, \"val\": 31.0}, {\"col\": \"EnteroCount\", \"idx\": 1316066400000, \"val\": 75.0}, {\"col\": \"EnteroCount\", \"idx\": 1316066400000, \"val\": 20.0}, {\"col\": \"EnteroCount\", \"idx\": 1316066400000, \"val\": 31.0}, {\"col\": \"EnteroCount\", \"idx\": 1316066400000, \"val\": 52.0}, {\"col\": \"EnteroCount\", \"idx\": 1316066400000, \"val\": 578.0}, {\"col\": \"EnteroCount\", \"idx\": 1316066400000, \"val\": 4106.0}, {\"col\": \"EnteroCount\", \"idx\": 1316239200000, \"val\": 40.0}, {\"col\": \"EnteroCount\", \"idx\": 1316239200000, \"val\": 32.0}, {\"col\": \"EnteroCount\", \"idx\": 1316239200000, \"val\": 24.0}, {\"col\": \"EnteroCount\", \"idx\": 1316239200000, \"val\": 41.0}, {\"col\": \"EnteroCount\", \"idx\": 1316239200000, \"val\": 125.0}, {\"col\": \"EnteroCount\", \"idx\": 1316239200000, \"val\": 53.0}, {\"col\": \"EnteroCount\", \"idx\": 1316239200000, \"val\": 31.0}, {\"col\": \"EnteroCount\", \"idx\": 1316239200000, \"val\": 33.0}, {\"col\": \"EnteroCount\", \"idx\": 1316239200000, \"val\": 37.0}, {\"col\": \"EnteroCount\", \"idx\": 1316239200000, \"val\": 61.0}, {\"col\": \"EnteroCount\", \"idx\": 1316239200000, \"val\": 26.0}, {\"col\": \"EnteroCount\", \"idx\": 1316239200000, \"val\": 11.0}, {\"col\": \"EnteroCount\", \"idx\": 1316239200000, \"val\": 17.0}, {\"col\": \"EnteroCount\", \"idx\": 1316325600000, \"val\": 36.0}, {\"col\": \"EnteroCount\", \"idx\": 1316325600000, \"val\": 35.0}, {\"col\": \"EnteroCount\", \"idx\": 1316325600000, \"val\": 16.0}, {\"col\": \"EnteroCount\", \"idx\": 1316325600000, \"val\": 40.0}, {\"col\": \"EnteroCount\", \"idx\": 1316325600000, \"val\": 25.0}, {\"col\": \"EnteroCount\", \"idx\": 1316325600000, \"val\": 435.0}, {\"col\": \"EnteroCount\", \"idx\": 1316325600000, \"val\": 64.0}, {\"col\": \"EnteroCount\", \"idx\": 1316325600000, \"val\": 27.0}, {\"col\": \"EnteroCount\", \"idx\": 1316325600000, \"val\": 19.0}, {\"col\": \"EnteroCount\", \"idx\": 1316325600000, \"val\": 32.0}, {\"col\": \"EnteroCount\", \"idx\": 1316412000000, \"val\": 68.0}, {\"col\": \"EnteroCount\", \"idx\": 1316412000000, \"val\": 63.0}, {\"col\": \"EnteroCount\", \"idx\": 1316412000000, \"val\": 29.0}, {\"col\": \"EnteroCount\", \"idx\": 1316412000000, \"val\": 22.0}, {\"col\": \"EnteroCount\", \"idx\": 1316412000000, \"val\": 687.0}, {\"col\": \"EnteroCount\", \"idx\": 1316412000000, \"val\": 14.0}, {\"col\": \"EnteroCount\", \"idx\": 1316412000000, \"val\": 72.0}, {\"col\": \"EnteroCount\", \"idx\": 1316412000000, \"val\": 50.0}, {\"col\": \"EnteroCount\", \"idx\": 1316412000000, \"val\": 11.0}, {\"col\": \"EnteroCount\", \"idx\": 1316412000000, \"val\": 22.0}, {\"col\": \"EnteroCount\", \"idx\": 1316412000000, \"val\": 38.0}, {\"col\": \"EnteroCount\", \"idx\": 1316412000000, \"val\": 28.0}, {\"col\": \"EnteroCount\", \"idx\": 1316412000000, \"val\": 12.0}, {\"col\": \"EnteroCount\", \"idx\": 1316412000000, \"val\": 93.0}, {\"col\": \"EnteroCount\", \"idx\": 1316412000000, \"val\": 59.0}, {\"col\": \"EnteroCount\", \"idx\": 1316412000000, \"val\": 21.0}, {\"col\": \"EnteroCount\", \"idx\": 1316412000000, \"val\": 11.0}, {\"col\": \"EnteroCount\", \"idx\": 1318744800000, \"val\": 2420.0}, {\"col\": \"EnteroCount\", \"idx\": 1318744800000, \"val\": 1986.0}, {\"col\": \"EnteroCount\", \"idx\": 1318744800000, \"val\": 1553.0}, {\"col\": \"EnteroCount\", \"idx\": 1318744800000, \"val\": 1414.0}, {\"col\": \"EnteroCount\", \"idx\": 1318744800000, \"val\": 2420.0}, {\"col\": \"EnteroCount\", \"idx\": 1318744800000, \"val\": 1553.0}, {\"col\": \"EnteroCount\", \"idx\": 1318744800000, \"val\": 1414.0}, {\"col\": \"EnteroCount\", \"idx\": 1318744800000, \"val\": 2420.0}, {\"col\": \"EnteroCount\", \"idx\": 1318744800000, \"val\": 1986.0}, {\"col\": \"EnteroCount\", \"idx\": 1318744800000, \"val\": 1733.0}, {\"col\": \"EnteroCount\", \"idx\": 1318744800000, \"val\": 159.0}, {\"col\": \"EnteroCount\", \"idx\": 1318744800000, \"val\": 93.0}, {\"col\": \"EnteroCount\", \"idx\": 1318744800000, \"val\": 1733.0}, {\"col\": \"EnteroCount\", \"idx\": 1318744800000, \"val\": 816.0}, {\"col\": \"EnteroCount\", \"idx\": 1318831200000, \"val\": 613.0}, {\"col\": \"EnteroCount\", \"idx\": 1318831200000, \"val\": 60.0}, {\"col\": \"EnteroCount\", \"idx\": 1318831200000, \"val\": 31.0}, {\"col\": \"EnteroCount\", \"idx\": 1318831200000, \"val\": 344.0}, {\"col\": \"EnteroCount\", \"idx\": 1318831200000, \"val\": 190.0}, {\"col\": \"EnteroCount\", \"idx\": 1318831200000, \"val\": 219.0}, {\"col\": \"EnteroCount\", \"idx\": 1318831200000, \"val\": 133.0}, {\"col\": \"EnteroCount\", \"idx\": 1318831200000, \"val\": 58.0}, {\"col\": \"EnteroCount\", \"idx\": 1318831200000, \"val\": 190.0}, {\"col\": \"EnteroCount\", \"idx\": 1318831200000, \"val\": 1414.0}, {\"col\": \"EnteroCount\", \"idx\": 1318917600000, \"val\": 132.0}, {\"col\": \"EnteroCount\", \"idx\": 1318917600000, \"val\": 25.0}, {\"col\": \"EnteroCount\", \"idx\": 1318917600000, \"val\": 106.0}, {\"col\": \"EnteroCount\", \"idx\": 1318917600000, \"val\": 411.0}, {\"col\": \"EnteroCount\", \"idx\": 1318917600000, \"val\": 76.0}, {\"col\": \"EnteroCount\", \"idx\": 1318917600000, \"val\": 62.0}, {\"col\": \"EnteroCount\", \"idx\": 1318917600000, \"val\": 10.0}, {\"col\": \"EnteroCount\", \"idx\": 1318917600000, \"val\": 17.0}, {\"col\": \"EnteroCount\", \"idx\": 1318917600000, \"val\": 16.0}, {\"col\": \"EnteroCount\", \"idx\": 1318917600000, \"val\": 128.0}, {\"col\": \"EnteroCount\", \"idx\": 1318917600000, \"val\": 15.0}, {\"col\": \"EnteroCount\", \"idx\": 1318917600000, \"val\": 16.0}, {\"col\": \"EnteroCount\", \"idx\": 1318917600000, \"val\": 19.0}, {\"col\": \"EnteroCount\", \"idx\": 1319090400000, \"val\": 160.0}, {\"col\": \"EnteroCount\", \"idx\": 1319090400000, \"val\": 86.0}, {\"col\": \"EnteroCount\", \"idx\": 1319090400000, \"val\": 650.0}, {\"col\": \"EnteroCount\", \"idx\": 1319090400000, \"val\": 20.0}, {\"col\": \"EnteroCount\", \"idx\": 1319090400000, \"val\": 275.0}, {\"col\": \"EnteroCount\", \"idx\": 1319090400000, \"val\": 52.0}, {\"col\": \"EnteroCount\", \"idx\": 1319090400000, \"val\": 31.0}, {\"col\": \"EnteroCount\", \"idx\": 1319090400000, \"val\": 121.0}, {\"col\": \"EnteroCount\", \"idx\": 1319090400000, \"val\": 10.0}, {\"col\": \"EnteroCount\", \"idx\": 1319090400000, \"val\": 63.0}, {\"col\": \"EnteroCount\", \"idx\": 1319090400000, \"val\": 393.0}, {\"col\": \"EnteroCount\", \"idx\": 1319090400000, \"val\": 262.0}, {\"col\": \"EnteroCount\", \"idx\": 1319090400000, \"val\": 10.0}, {\"col\": \"EnteroCount\", \"idx\": 1319090400000, \"val\": 20.0}, {\"col\": \"EnteroCount\", \"idx\": 1319176800000, \"val\": 52.0}, {\"col\": \"EnteroCount\", \"idx\": 1319176800000, \"val\": 108.0}, {\"col\": \"EnteroCount\", \"idx\": 1319176800000, \"val\": 74.0}, {\"col\": \"EnteroCount\", \"idx\": 1319176800000, \"val\": 2682.0}, {\"col\": \"EnteroCount\", \"idx\": 1319176800000, \"val\": 52.0}, {\"col\": \"EnteroCount\", \"idx\": 1319176800000, \"val\": 120.0}, {\"col\": \"EnteroCount\", \"idx\": 1319176800000, \"val\": 794.0}, {\"col\": \"EnteroCount\", \"idx\": 1319176800000, \"val\": 96.0}, {\"col\": \"EnteroCount\", \"idx\": 1319176800000, \"val\": 85.0}, {\"col\": \"EnteroCount\", \"idx\": 1319176800000, \"val\": 63.0}, {\"col\": \"EnteroCount\", \"idx\": 1319176800000, \"val\": 51.0}, {\"col\": \"EnteroCount\", \"idx\": 1319176800000, \"val\": 2300.0}, {\"col\": \"EnteroCount\", \"idx\": 1319176800000, \"val\": 97.0}, {\"col\": \"EnteroCount\", \"idx\": 1319176800000, \"val\": 41.0}, {\"col\": \"EnteroCount\", \"idx\": 1319176800000, \"val\": 31.0}, {\"col\": \"EnteroCount\", \"idx\": 1319176800000, \"val\": 74.0}, {\"col\": \"EnteroCount\", \"idx\": 1319176800000, \"val\": 84.0}, {\"col\": \"EnteroCount\", \"idx\": 1320649200000, \"val\": 400.0}, {\"col\": \"EnteroCount\", \"idx\": 1320649200000, \"val\": 262.0}, {\"col\": \"EnteroCount\", \"idx\": 1320649200000, \"val\": 10.0}, {\"col\": \"EnteroCount\", \"idx\": 1323068400000, \"val\": 465.0}, {\"col\": \"EnteroCount\", \"idx\": 1323068400000, \"val\": 179.0}, {\"col\": \"EnteroCount\", \"idx\": 1325574000000, \"val\": 1785.0}, {\"col\": \"EnteroCount\", \"idx\": 1325574000000, \"val\": 613.0}, {\"col\": \"EnteroCount\", \"idx\": 1325574000000, \"val\": 1246.0}, {\"col\": \"EnteroCount\", \"idx\": 1328511600000, \"val\": 19.0}, {\"col\": \"EnteroCount\", \"idx\": 1328511600000, \"val\": 216.0}, {\"col\": \"EnteroCount\", \"idx\": 1328511600000, \"val\": 448.0}, {\"col\": \"EnteroCount\", \"idx\": 1330930800000, \"val\": 9.0}, {\"col\": \"EnteroCount\", \"idx\": 1330930800000, \"val\": 259.0}, {\"col\": \"EnteroCount\", \"idx\": 1330930800000, \"val\": 63.0}, {\"col\": \"EnteroCount\", \"idx\": 1333951200000, \"val\": 657.0}, {\"col\": \"EnteroCount\", \"idx\": 1333951200000, \"val\": 41.0}, {\"col\": \"EnteroCount\", \"idx\": 1333951200000, \"val\": 10.0}, {\"col\": \"EnteroCount\", \"idx\": 1336802400000, \"val\": 770.0}, {\"col\": \"EnteroCount\", \"idx\": 1337061600000, \"val\": 86.0}, {\"col\": \"EnteroCount\", \"idx\": 1337061600000, \"val\": 146.0}, {\"col\": \"EnteroCount\", \"idx\": 1337061600000, \"val\": 108.0}, {\"col\": \"EnteroCount\", \"idx\": 1337061600000, \"val\": 10.0}, {\"col\": \"EnteroCount\", \"idx\": 1337061600000, \"val\": 10.0}, {\"col\": \"EnteroCount\", \"idx\": 1337061600000, \"val\": 20.0}, {\"col\": \"EnteroCount\", \"idx\": 1337061600000, \"val\": 30.0}, {\"col\": \"EnteroCount\", \"idx\": 1337061600000, \"val\": 272.0}, {\"col\": \"EnteroCount\", \"idx\": 1337061600000, \"val\": 20.0}, {\"col\": \"EnteroCount\", \"idx\": 1337061600000, \"val\": 10.0}, {\"col\": \"EnteroCount\", \"idx\": 1337061600000, \"val\": 10.0}, {\"col\": \"EnteroCount\", \"idx\": 1337148000000, \"val\": 10.0}, {\"col\": \"EnteroCount\", \"idx\": 1337148000000, \"val\": 20.0}, {\"col\": \"EnteroCount\", \"idx\": 1337148000000, \"val\": 31.0}, {\"col\": \"EnteroCount\", \"idx\": 1337148000000, \"val\": 41.0}, {\"col\": \"EnteroCount\", \"idx\": 1337148000000, \"val\": 20.0}, {\"col\": \"EnteroCount\", \"idx\": 1337148000000, \"val\": 20.0}, {\"col\": \"EnteroCount\", \"idx\": 1337148000000, \"val\": 10.0}, {\"col\": \"EnteroCount\", \"idx\": 1337148000000, \"val\": 10.0}, {\"col\": \"EnteroCount\", \"idx\": 1337148000000, \"val\": 41.0}, {\"col\": \"EnteroCount\", \"idx\": 1337320800000, \"val\": 2.0}, {\"col\": \"EnteroCount\", \"idx\": 1337320800000, \"val\": 28.0}, {\"col\": \"EnteroCount\", \"idx\": 1337320800000, \"val\": 1.0}, {\"col\": \"EnteroCount\", \"idx\": 1337320800000, \"val\": 12.0}, {\"col\": \"EnteroCount\", \"idx\": 1337320800000, \"val\": 2.0}, {\"col\": \"EnteroCount\", \"idx\": 1337320800000, \"val\": 3.0}, {\"col\": \"EnteroCount\", \"idx\": 1337320800000, \"val\": 5.0}, {\"col\": \"EnteroCount\", \"idx\": 1337320800000, \"val\": 2.0}, {\"col\": \"EnteroCount\", \"idx\": 1337320800000, \"val\": 8.0}, {\"col\": \"EnteroCount\", \"idx\": 1337320800000, \"val\": 7.0}, {\"col\": \"EnteroCount\", \"idx\": 1337407200000, \"val\": 11.0}, {\"col\": \"EnteroCount\", \"idx\": 1337407200000, \"val\": 11.0}, {\"col\": \"EnteroCount\", \"idx\": 1337407200000, \"val\": 9.0}, {\"col\": \"EnteroCount\", \"idx\": 1337407200000, \"val\": 15.0}, {\"col\": \"EnteroCount\", \"idx\": 1337407200000, \"val\": 0.0}, {\"col\": \"EnteroCount\", \"idx\": 1337407200000, \"val\": 26.0}, {\"col\": \"EnteroCount\", \"idx\": 1337407200000, \"val\": 21.0}, {\"col\": \"EnteroCount\", \"idx\": 1337407200000, \"val\": 22.0}, {\"col\": \"EnteroCount\", \"idx\": 1337407200000, \"val\": 57.0}, {\"col\": \"EnteroCount\", \"idx\": 1337407200000, \"val\": 365.0}, {\"col\": \"EnteroCount\", \"idx\": 1337407200000, \"val\": 4.0}, {\"col\": \"EnteroCount\", \"idx\": 1337407200000, \"val\": 5.0}, {\"col\": \"EnteroCount\", \"idx\": 1337407200000, \"val\": 66.0}, {\"col\": \"EnteroCount\", \"idx\": 1337407200000, \"val\": 4.0}, {\"col\": \"EnteroCount\", \"idx\": 1337407200000, \"val\": 2.0}, {\"col\": \"EnteroCount\", \"idx\": 1337493600000, \"val\": 49.0}, {\"col\": \"EnteroCount\", \"idx\": 1337493600000, \"val\": 20.0}, {\"col\": \"EnteroCount\", \"idx\": 1337493600000, \"val\": 238.0}, {\"col\": \"EnteroCount\", \"idx\": 1337493600000, \"val\": 11.0}, {\"col\": \"EnteroCount\", \"idx\": 1337493600000, \"val\": 11.0}, {\"col\": \"EnteroCount\", \"idx\": 1337493600000, \"val\": 187.0}, {\"col\": \"EnteroCount\", \"idx\": 1337493600000, \"val\": 96.0}, {\"col\": \"EnteroCount\", \"idx\": 1337493600000, \"val\": 20.0}, {\"col\": \"EnteroCount\", \"idx\": 1337493600000, \"val\": 21.0}, {\"col\": \"EnteroCount\", \"idx\": 1337493600000, \"val\": 16.0}, {\"col\": \"EnteroCount\", \"idx\": 1337493600000, \"val\": 24.0}, {\"col\": \"EnteroCount\", \"idx\": 1337493600000, \"val\": 19.0}, {\"col\": \"EnteroCount\", \"idx\": 1338012000000, \"val\": 3.0}, {\"col\": \"EnteroCount\", \"idx\": 1338012000000, \"val\": 52.0}, {\"col\": \"EnteroCount\", \"idx\": 1338616800000, \"val\": 97.0}, {\"col\": \"EnteroCount\", \"idx\": 1339394400000, \"val\": 20.0}, {\"col\": \"EnteroCount\", \"idx\": 1339394400000, \"val\": 10.0}, {\"col\": \"EnteroCount\", \"idx\": 1339394400000, \"val\": 10.0}, {\"col\": \"EnteroCount\", \"idx\": 1339394400000, \"val\": 31.0}, {\"col\": \"EnteroCount\", \"idx\": 1339394400000, \"val\": 10.0}, {\"col\": \"EnteroCount\", \"idx\": 1339394400000, \"val\": 231.0}, {\"col\": \"EnteroCount\", \"idx\": 1339394400000, \"val\": 51.0}, {\"col\": \"EnteroCount\", \"idx\": 1339480800000, \"val\": 41.0}, {\"col\": \"EnteroCount\", \"idx\": 1339480800000, \"val\": 20.0}, {\"col\": \"EnteroCount\", \"idx\": 1339480800000, \"val\": 10.0}, {\"col\": \"EnteroCount\", \"idx\": 1339480800000, \"val\": 10.0}, {\"col\": \"EnteroCount\", \"idx\": 1339480800000, \"val\": 10.0}, {\"col\": \"EnteroCount\", \"idx\": 1339480800000, \"val\": 20.0}, {\"col\": \"EnteroCount\", \"idx\": 1339480800000, \"val\": 20.0}, {\"col\": \"EnteroCount\", \"idx\": 1339480800000, \"val\": 63.0}, {\"col\": \"EnteroCount\", \"idx\": 1339480800000, \"val\": 75.0}, {\"col\": \"EnteroCount\", \"idx\": 1339480800000, \"val\": 10.0}, {\"col\": \"EnteroCount\", \"idx\": 1339480800000, \"val\": 98.0}, {\"col\": \"EnteroCount\", \"idx\": 1339480800000, \"val\": 20.0}, {\"col\": \"EnteroCount\", \"idx\": 1339480800000, \"val\": 98.0}, {\"col\": \"EnteroCount\", \"idx\": 1339480800000, \"val\": 10.0}, {\"col\": \"EnteroCount\", \"idx\": 1339480800000, \"val\": 10.0}, {\"col\": \"EnteroCount\", \"idx\": 1339480800000, \"val\": 41.0}, {\"col\": \"EnteroCount\", \"idx\": 1339653600000, \"val\": 17.0}, {\"col\": \"EnteroCount\", \"idx\": 1339653600000, \"val\": 4.0}, {\"col\": \"EnteroCount\", \"idx\": 1339653600000, \"val\": 1.0}, {\"col\": \"EnteroCount\", \"idx\": 1339653600000, \"val\": 37.0}, {\"col\": \"EnteroCount\", \"idx\": 1339653600000, \"val\": 10.0}, {\"col\": \"EnteroCount\", \"idx\": 1339653600000, \"val\": 9.0}, {\"col\": \"EnteroCount\", \"idx\": 1339653600000, \"val\": 7.0}, {\"col\": \"EnteroCount\", \"idx\": 1339653600000, \"val\": 32.0}, {\"col\": \"EnteroCount\", \"idx\": 1339653600000, \"val\": 13.0}, {\"col\": \"EnteroCount\", \"idx\": 1339653600000, \"val\": 2.0}, {\"col\": \"EnteroCount\", \"idx\": 1339653600000, \"val\": 23.0}, {\"col\": \"EnteroCount\", \"idx\": 1339653600000, \"val\": 12.0}, {\"col\": \"EnteroCount\", \"idx\": 1339740000000, \"val\": 3.0}, {\"col\": \"EnteroCount\", \"idx\": 1339740000000, \"val\": 1.0}, {\"col\": \"EnteroCount\", \"idx\": 1339740000000, \"val\": 16.0}, {\"col\": \"EnteroCount\", \"idx\": 1339740000000, \"val\": 2.0}, {\"col\": \"EnteroCount\", \"idx\": 1339740000000, \"val\": 20.0}, {\"col\": \"EnteroCount\", \"idx\": 1339740000000, \"val\": 64.0}, {\"col\": \"EnteroCount\", \"idx\": 1339740000000, \"val\": 2.0}, {\"col\": \"EnteroCount\", \"idx\": 1339740000000, \"val\": 15.0}, {\"col\": \"EnteroCount\", \"idx\": 1339740000000, \"val\": 56.0}, {\"col\": \"EnteroCount\", \"idx\": 1339740000000, \"val\": 8.0}, {\"col\": \"EnteroCount\", \"idx\": 1339740000000, \"val\": 18.0}, {\"col\": \"EnteroCount\", \"idx\": 1339740000000, \"val\": 2.0}, {\"col\": \"EnteroCount\", \"idx\": 1339740000000, \"val\": 3.0}, {\"col\": \"EnteroCount\", \"idx\": 1339826400000, \"val\": 6.0}, {\"col\": \"EnteroCount\", \"idx\": 1339826400000, \"val\": 53.0}, {\"col\": \"EnteroCount\", \"idx\": 1339826400000, \"val\": 16.0}, {\"col\": \"EnteroCount\", \"idx\": 1339826400000, \"val\": 20.0}, {\"col\": \"EnteroCount\", \"idx\": 1339826400000, \"val\": 29.0}, {\"col\": \"EnteroCount\", \"idx\": 1339826400000, \"val\": 4.0}, {\"col\": \"EnteroCount\", \"idx\": 1339826400000, \"val\": 49.0}, {\"col\": \"EnteroCount\", \"idx\": 1339826400000, \"val\": 7.0}, {\"col\": \"EnteroCount\", \"idx\": 1339826400000, \"val\": 1023.0}, {\"col\": \"EnteroCount\", \"idx\": 1339826400000, \"val\": 24.0}, {\"col\": \"EnteroCount\", \"idx\": 1339826400000, \"val\": 4.0}, {\"col\": \"EnteroCount\", \"idx\": 1339826400000, \"val\": 17.0}, {\"col\": \"EnteroCount\", \"idx\": 1339826400000, \"val\": 10.0}, {\"col\": \"EnteroCount\", \"idx\": 1340085600000, \"val\": 6.0}, {\"col\": \"EnteroCount\", \"idx\": 1340085600000, \"val\": 4.0}, {\"col\": \"EnteroCount\", \"idx\": 1341036000000, \"val\": 4.0}, {\"col\": \"EnteroCount\", \"idx\": 1341036000000, \"val\": 2.0}, {\"col\": \"EnteroCount\", \"idx\": 1342245600000, \"val\": 20.0}, {\"col\": \"EnteroCount\", \"idx\": 1342418400000, \"val\": 84.0}, {\"col\": \"EnteroCount\", \"idx\": 1342418400000, \"val\": 52.0}, {\"col\": \"EnteroCount\", \"idx\": 1342418400000, \"val\": 414.0}, {\"col\": \"EnteroCount\", \"idx\": 1342418400000, \"val\": 241.0}, {\"col\": \"EnteroCount\", \"idx\": 1342418400000, \"val\": 30.0}, {\"col\": \"EnteroCount\", \"idx\": 1342418400000, \"val\": 958.0}, {\"col\": \"EnteroCount\", \"idx\": 1342418400000, \"val\": 10.0}, {\"col\": \"EnteroCount\", \"idx\": 1342504800000, \"val\": 10.0}, {\"col\": \"EnteroCount\", \"idx\": 1342504800000, \"val\": 10.0}, {\"col\": \"EnteroCount\", \"idx\": 1342504800000, \"val\": 10.0}, {\"col\": \"EnteroCount\", \"idx\": 1342504800000, \"val\": 10.0}, {\"col\": \"EnteroCount\", \"idx\": 1342504800000, \"val\": 10.0}, {\"col\": \"EnteroCount\", \"idx\": 1342677600000, \"val\": 29.0}, {\"col\": \"EnteroCount\", \"idx\": 1342677600000, \"val\": 33.0}, {\"col\": \"EnteroCount\", \"idx\": 1342677600000, \"val\": 93.0}, {\"col\": \"EnteroCount\", \"idx\": 1342677600000, \"val\": 9.0}, {\"col\": \"EnteroCount\", \"idx\": 1342677600000, \"val\": 8.0}, {\"col\": \"EnteroCount\", \"idx\": 1342677600000, \"val\": 7.0}, {\"col\": \"EnteroCount\", \"idx\": 1342677600000, \"val\": 7.0}, {\"col\": \"EnteroCount\", \"idx\": 1342677600000, \"val\": 4.0}, {\"col\": \"EnteroCount\", \"idx\": 1342677600000, \"val\": 18.0}, {\"col\": \"EnteroCount\", \"idx\": 1342677600000, \"val\": 13.0}, {\"col\": \"EnteroCount\", \"idx\": 1342764000000, \"val\": 32.0}, {\"col\": \"EnteroCount\", \"idx\": 1342764000000, \"val\": 4.0}, {\"col\": \"EnteroCount\", \"idx\": 1342764000000, \"val\": 33.0}, {\"col\": \"EnteroCount\", \"idx\": 1342764000000, \"val\": 11.0}, {\"col\": \"EnteroCount\", \"idx\": 1342764000000, \"val\": 59.0}, {\"col\": \"EnteroCount\", \"idx\": 1342764000000, \"val\": 6.0}, {\"col\": \"EnteroCount\", \"idx\": 1342764000000, \"val\": 9.0}, {\"col\": \"EnteroCount\", \"idx\": 1342764000000, \"val\": 42.0}, {\"col\": \"EnteroCount\", \"idx\": 1342764000000, \"val\": 93.0}, {\"col\": \"EnteroCount\", \"idx\": 1342764000000, \"val\": 2420.0}, {\"col\": \"EnteroCount\", \"idx\": 1342764000000, \"val\": 7.0}, {\"col\": \"EnteroCount\", \"idx\": 1342764000000, \"val\": 15.0}, {\"col\": \"EnteroCount\", \"idx\": 1342764000000, \"val\": 378.0}, {\"col\": \"EnteroCount\", \"idx\": 1342764000000, \"val\": 22.0}, {\"col\": \"EnteroCount\", \"idx\": 1342764000000, \"val\": 13.0}, {\"col\": \"EnteroCount\", \"idx\": 1342850400000, \"val\": 6.0}, {\"col\": \"EnteroCount\", \"idx\": 1342850400000, \"val\": 2.0}, {\"col\": \"EnteroCount\", \"idx\": 1342850400000, \"val\": 3.0}, {\"col\": \"EnteroCount\", \"idx\": 1342850400000, \"val\": 6.0}, {\"col\": \"EnteroCount\", \"idx\": 1342850400000, \"val\": 38.0}, {\"col\": \"EnteroCount\", \"idx\": 1342850400000, \"val\": 6.0}, {\"col\": \"EnteroCount\", \"idx\": 1342850400000, \"val\": 9.0}, {\"col\": \"EnteroCount\", \"idx\": 1342850400000, \"val\": 1.0}, {\"col\": \"EnteroCount\", \"idx\": 1342850400000, \"val\": 11.0}, {\"col\": \"EnteroCount\", \"idx\": 1342850400000, \"val\": 18.0}, {\"col\": \"EnteroCount\", \"idx\": 1342850400000, \"val\": 8.0}, {\"col\": \"EnteroCount\", \"idx\": 1342850400000, \"val\": 5.0}, {\"col\": \"EnteroCount\", \"idx\": 1342850400000, \"val\": 28.0}, {\"col\": \"EnteroCount\", \"idx\": 1343109600000, \"val\": 3.0}, {\"col\": \"EnteroCount\", \"idx\": 1343109600000, \"val\": 1.0}, {\"col\": \"EnteroCount\", \"idx\": 1343109600000, \"val\": 8.0}, {\"col\": \"EnteroCount\", \"idx\": 1343109600000, \"val\": 2.0}, {\"col\": \"EnteroCount\", \"idx\": 1343455200000, \"val\": 579.0}, {\"col\": \"EnteroCount\", \"idx\": 1343455200000, \"val\": 219.0}, {\"col\": \"EnteroCount\", \"idx\": 1344837600000, \"val\": 109.0}, {\"col\": \"EnteroCount\", \"idx\": 1344837600000, \"val\": 368.0}, {\"col\": \"EnteroCount\", \"idx\": 1344837600000, \"val\": 521.0}, {\"col\": \"EnteroCount\", \"idx\": 1344924000000, \"val\": 98.0}, {\"col\": \"EnteroCount\", \"idx\": 1344924000000, \"val\": 10.0}, {\"col\": \"EnteroCount\", \"idx\": 1344924000000, \"val\": 10.0}, {\"col\": \"EnteroCount\", \"idx\": 1344924000000, \"val\": 30.0}, {\"col\": \"EnteroCount\", \"idx\": 1344924000000, \"val\": 10.0}, {\"col\": \"EnteroCount\", \"idx\": 1344924000000, \"val\": 41.0}, {\"col\": \"EnteroCount\", \"idx\": 1344924000000, \"val\": 31.0}, {\"col\": \"EnteroCount\", \"idx\": 1344924000000, \"val\": 10.0}, {\"col\": \"EnteroCount\", \"idx\": 1345010400000, \"val\": 365.0}, {\"col\": \"EnteroCount\", \"idx\": 1345010400000, \"val\": 11.0}, {\"col\": \"EnteroCount\", \"idx\": 1345010400000, \"val\": 15.0}, {\"col\": \"EnteroCount\", \"idx\": 1345010400000, \"val\": 7.0}, {\"col\": \"EnteroCount\", \"idx\": 1345096800000, \"val\": 4.0}, {\"col\": \"EnteroCount\", \"idx\": 1345096800000, \"val\": 5.0}, {\"col\": \"EnteroCount\", \"idx\": 1345096800000, \"val\": 5.0}, {\"col\": \"EnteroCount\", \"idx\": 1345096800000, \"val\": 13.0}, {\"col\": \"EnteroCount\", \"idx\": 1345096800000, \"val\": 1.0}, {\"col\": \"EnteroCount\", \"idx\": 1345096800000, \"val\": 3.0}, {\"col\": \"EnteroCount\", \"idx\": 1345183200000, \"val\": 3.0}, {\"col\": \"EnteroCount\", \"idx\": 1345183200000, \"val\": 37.0}, {\"col\": \"EnteroCount\", \"idx\": 1345183200000, \"val\": 5.0}, {\"col\": \"EnteroCount\", \"idx\": 1345183200000, \"val\": 10.0}, {\"col\": \"EnteroCount\", \"idx\": 1345183200000, \"val\": 3.0}, {\"col\": \"EnteroCount\", \"idx\": 1345183200000, \"val\": 55.0}, {\"col\": \"EnteroCount\", \"idx\": 1345183200000, \"val\": 11.0}, {\"col\": \"EnteroCount\", \"idx\": 1345183200000, \"val\": 5.0}, {\"col\": \"EnteroCount\", \"idx\": 1345183200000, \"val\": 9.0}, {\"col\": \"EnteroCount\", \"idx\": 1345183200000, \"val\": 12.0}, {\"col\": \"EnteroCount\", \"idx\": 1345269600000, \"val\": 16.0}, {\"col\": \"EnteroCount\", \"idx\": 1345269600000, \"val\": 15.0}, {\"col\": \"EnteroCount\", \"idx\": 1345269600000, \"val\": 5.0}, {\"col\": \"EnteroCount\", \"idx\": 1345269600000, \"val\": 22.0}, {\"col\": \"EnteroCount\", \"idx\": 1345269600000, \"val\": 19.0}, {\"col\": \"EnteroCount\", \"idx\": 1345269600000, \"val\": 7.0}, {\"col\": \"EnteroCount\", \"idx\": 1345269600000, \"val\": 17.0}, {\"col\": \"EnteroCount\", \"idx\": 1345269600000, \"val\": 16.0}, {\"col\": \"EnteroCount\", \"idx\": 1345269600000, \"val\": 15.0}, {\"col\": \"EnteroCount\", \"idx\": 1345269600000, \"val\": 2.0}, {\"col\": \"EnteroCount\", \"idx\": 1345269600000, \"val\": 17.0}, {\"col\": \"EnteroCount\", \"idx\": 1345269600000, \"val\": 7.0}, {\"col\": \"EnteroCount\", \"idx\": 1345269600000, \"val\": 33.0}, {\"col\": \"EnteroCount\", \"idx\": 1345269600000, \"val\": 7.0}, {\"col\": \"EnteroCount\", \"idx\": 1345269600000, \"val\": 12.0}, {\"col\": \"EnteroCount\", \"idx\": 1345269600000, \"val\": 461.0}, {\"col\": \"EnteroCount\", \"idx\": 1345269600000, \"val\": 132.0}, {\"col\": \"EnteroCount\", \"idx\": 1345442400000, \"val\": 17.0}, {\"col\": \"EnteroCount\", \"idx\": 1346479200000, \"val\": 1.0}, {\"col\": \"EnteroCount\", \"idx\": 1346479200000, \"val\": 2.0}, {\"col\": \"EnteroCount\", \"idx\": 1347084000000, \"val\": 110.0}, {\"col\": \"EnteroCount\", \"idx\": 1347084000000, \"val\": 20.0}, {\"col\": \"EnteroCount\", \"idx\": 1347256800000, \"val\": 30.0}, {\"col\": \"EnteroCount\", \"idx\": 1347256800000, \"val\": 20.0}, {\"col\": \"EnteroCount\", \"idx\": 1347256800000, \"val\": 10.0}, {\"col\": \"EnteroCount\", \"idx\": 1347256800000, \"val\": 10.0}, {\"col\": \"EnteroCount\", \"idx\": 1347256800000, \"val\": 404.0}, {\"col\": \"EnteroCount\", \"idx\": 1347256800000, \"val\": 63.0}, {\"col\": \"EnteroCount\", \"idx\": 1347256800000, \"val\": 20.0}, {\"col\": \"EnteroCount\", \"idx\": 1347256800000, \"val\": 20.0}, {\"col\": \"EnteroCount\", \"idx\": 1347256800000, \"val\": 10.0}, {\"col\": \"EnteroCount\", \"idx\": 1347256800000, \"val\": 10.0}, {\"col\": \"EnteroCount\", \"idx\": 1347256800000, \"val\": 74.0}, {\"col\": \"EnteroCount\", \"idx\": 1347256800000, \"val\": 10.0}, {\"col\": \"EnteroCount\", \"idx\": 1347256800000, \"val\": 2987.0}, {\"col\": \"EnteroCount\", \"idx\": 1347256800000, \"val\": 10.0}, {\"col\": \"EnteroCount\", \"idx\": 1347343200000, \"val\": 10.0}, {\"col\": \"EnteroCount\", \"idx\": 1347343200000, \"val\": 295.0}, {\"col\": \"EnteroCount\", \"idx\": 1347343200000, \"val\": 20.0}, {\"col\": \"EnteroCount\", \"idx\": 1347343200000, \"val\": 10.0}, {\"col\": \"EnteroCount\", \"idx\": 1347343200000, \"val\": 10.0}, {\"col\": \"EnteroCount\", \"idx\": 1347343200000, \"val\": 31.0}, {\"col\": \"EnteroCount\", \"idx\": 1347343200000, \"val\": 10.0}, {\"col\": \"EnteroCount\", \"idx\": 1347343200000, \"val\": 20.0}, {\"col\": \"EnteroCount\", \"idx\": 1347343200000, \"val\": 10.0}, {\"col\": \"EnteroCount\", \"idx\": 1347516000000, \"val\": 10.0}, {\"col\": \"EnteroCount\", \"idx\": 1347516000000, \"val\": 16.0}, {\"col\": \"EnteroCount\", \"idx\": 1347516000000, \"val\": 56.0}, {\"col\": \"EnteroCount\", \"idx\": 1347516000000, \"val\": 13.0}, {\"col\": \"EnteroCount\", \"idx\": 1347516000000, \"val\": 11.0}, {\"col\": \"EnteroCount\", \"idx\": 1347516000000, \"val\": 18.0}, {\"col\": \"EnteroCount\", \"idx\": 1347516000000, \"val\": 4.0}, {\"col\": \"EnteroCount\", \"idx\": 1347516000000, \"val\": 17.0}, {\"col\": \"EnteroCount\", \"idx\": 1347516000000, \"val\": 8.0}, {\"col\": \"EnteroCount\", \"idx\": 1347516000000, \"val\": 33.0}, {\"col\": \"EnteroCount\", \"idx\": 1347516000000, \"val\": 6.0}, {\"col\": \"EnteroCount\", \"idx\": 1347516000000, \"val\": 3.0}, {\"col\": \"EnteroCount\", \"idx\": 1347602400000, \"val\": 4.0}, {\"col\": \"EnteroCount\", \"idx\": 1347602400000, \"val\": 4.0}, {\"col\": \"EnteroCount\", \"idx\": 1347602400000, \"val\": 4.0}, {\"col\": \"EnteroCount\", \"idx\": 1347602400000, \"val\": 1986.0}, {\"col\": \"EnteroCount\", \"idx\": 1347602400000, \"val\": 5.0}, {\"col\": \"EnteroCount\", \"idx\": 1347602400000, \"val\": 32.0}, {\"col\": \"EnteroCount\", \"idx\": 1347602400000, \"val\": 24.0}, {\"col\": \"EnteroCount\", \"idx\": 1347602400000, \"val\": 16.0}, {\"col\": \"EnteroCount\", \"idx\": 1347602400000, \"val\": 3.0}, {\"col\": \"EnteroCount\", \"idx\": 1347602400000, \"val\": 2.0}, {\"col\": \"EnteroCount\", \"idx\": 1347602400000, \"val\": 9.0}, {\"col\": \"EnteroCount\", \"idx\": 1347602400000, \"val\": 9.0}, {\"col\": \"EnteroCount\", \"idx\": 1347688800000, \"val\": 20.0}, {\"col\": \"EnteroCount\", \"idx\": 1347688800000, \"val\": 8.0}, {\"col\": \"EnteroCount\", \"idx\": 1347688800000, \"val\": 4.0}, {\"col\": \"EnteroCount\", \"idx\": 1347688800000, \"val\": 64.0}, {\"col\": \"EnteroCount\", \"idx\": 1347688800000, \"val\": 211.0}, {\"col\": \"EnteroCount\", \"idx\": 1347688800000, \"val\": 1300.0}, {\"col\": \"EnteroCount\", \"idx\": 1347688800000, \"val\": 61.0}, {\"col\": \"EnteroCount\", \"idx\": 1347688800000, \"val\": 21.0}, {\"col\": \"EnteroCount\", \"idx\": 1347688800000, \"val\": 11.0}, {\"col\": \"EnteroCount\", \"idx\": 1347688800000, \"val\": 13.0}, {\"col\": \"EnteroCount\", \"idx\": 1347688800000, \"val\": 21.0}, {\"col\": \"EnteroCount\", \"idx\": 1347688800000, \"val\": 6.0}, {\"col\": \"EnteroCount\", \"idx\": 1347688800000, \"val\": 11.0}, {\"col\": \"EnteroCount\", \"idx\": 1347688800000, \"val\": 9.0}, {\"col\": \"EnteroCount\", \"idx\": 1347861600000, \"val\": 5.0}, {\"col\": \"EnteroCount\", \"idx\": 1348898400000, \"val\": 359.0}, {\"col\": \"EnteroCount\", \"idx\": 1348898400000, \"val\": 18.0}, {\"col\": \"EnteroCount\", \"idx\": 1349503200000, \"val\": 20.0}, {\"col\": \"EnteroCount\", \"idx\": 1349503200000, \"val\": 41.0}, {\"col\": \"EnteroCount\", \"idx\": 1349848800000, \"val\": 2333.0}, {\"col\": \"EnteroCount\", \"idx\": 1349848800000, \"val\": 2098.0}, {\"col\": \"EnteroCount\", \"idx\": 1349848800000, \"val\": 10.0}, {\"col\": \"EnteroCount\", \"idx\": 1349848800000, \"val\": 41.0}, {\"col\": \"EnteroCount\", \"idx\": 1349848800000, \"val\": 446.0}, {\"col\": \"EnteroCount\", \"idx\": 1349848800000, \"val\": 63.0}, {\"col\": \"EnteroCount\", \"idx\": 1349848800000, \"val\": 20.0}, {\"col\": \"EnteroCount\", \"idx\": 1349848800000, \"val\": 52.0}, {\"col\": \"EnteroCount\", \"idx\": 1349848800000, \"val\": 259.0}, {\"col\": \"EnteroCount\", \"idx\": 1349848800000, \"val\": 31.0}, {\"col\": \"EnteroCount\", \"idx\": 1349848800000, \"val\": 132.0}, {\"col\": \"EnteroCount\", \"idx\": 1349935200000, \"val\": 20.0}, {\"col\": \"EnteroCount\", \"idx\": 1349935200000, \"val\": 10.0}, {\"col\": \"EnteroCount\", \"idx\": 1349935200000, \"val\": 389.0}, {\"col\": \"EnteroCount\", \"idx\": 1349935200000, \"val\": 52.0}, {\"col\": \"EnteroCount\", \"idx\": 1349935200000, \"val\": 10.0}, {\"col\": \"EnteroCount\", \"idx\": 1349935200000, \"val\": 51.0}, {\"col\": \"EnteroCount\", \"idx\": 1349935200000, \"val\": 10.0}, {\"col\": \"EnteroCount\", \"idx\": 1349935200000, \"val\": 31.0}, {\"col\": \"EnteroCount\", \"idx\": 1349935200000, \"val\": 20.0}, {\"col\": \"EnteroCount\", \"idx\": 1349935200000, \"val\": 31.0}, {\"col\": \"EnteroCount\", \"idx\": 1350108000000, \"val\": 7.0}, {\"col\": \"EnteroCount\", \"idx\": 1350108000000, \"val\": 4.0}, {\"col\": \"EnteroCount\", \"idx\": 1350108000000, \"val\": 11.0}, {\"col\": \"EnteroCount\", \"idx\": 1350108000000, \"val\": 8.0}, {\"col\": \"EnteroCount\", \"idx\": 1350194400000, \"val\": 4.0}, {\"col\": \"EnteroCount\", \"idx\": 1350194400000, \"val\": 7.0}, {\"col\": \"EnteroCount\", \"idx\": 1350194400000, \"val\": 14.0}, {\"col\": \"EnteroCount\", \"idx\": 1350194400000, \"val\": 22.0}, {\"col\": \"EnteroCount\", \"idx\": 1350194400000, \"val\": 20.0}, {\"col\": \"EnteroCount\", \"idx\": 1350194400000, \"val\": 33.0}, {\"col\": \"EnteroCount\", \"idx\": 1350194400000, \"val\": 3.0}, {\"col\": \"EnteroCount\", \"idx\": 1350194400000, \"val\": 2.0}, {\"col\": \"EnteroCount\", \"idx\": 1350194400000, \"val\": 33.0}, {\"col\": \"EnteroCount\", \"idx\": 1350194400000, \"val\": 2.0}, {\"col\": \"EnteroCount\", \"idx\": 1350194400000, \"val\": 58.0}, {\"col\": \"EnteroCount\", \"idx\": 1350194400000, \"val\": 30.0}, {\"col\": \"EnteroCount\", \"idx\": 1350194400000, \"val\": 3.0}, {\"col\": \"EnteroCount\", \"idx\": 1350194400000, \"val\": 53.0}, {\"col\": \"EnteroCount\", \"idx\": 1350194400000, \"val\": 2.0}, {\"col\": \"EnteroCount\", \"idx\": 1350194400000, \"val\": 4.0}, {\"col\": \"EnteroCount\", \"idx\": 1350194400000, \"val\": 4.0}, {\"col\": \"EnteroCount\", \"idx\": 1350194400000, \"val\": 24.0}, {\"col\": \"EnteroCount\", \"idx\": 1350194400000, \"val\": 38.0}, {\"col\": \"EnteroCount\", \"idx\": 1350280800000, \"val\": 7.0}, {\"col\": \"EnteroCount\", \"idx\": 1350280800000, \"val\": 31.0}, {\"col\": \"EnteroCount\", \"idx\": 1350280800000, \"val\": 56.0}, {\"col\": \"EnteroCount\", \"idx\": 1350280800000, \"val\": 10.0}, {\"col\": \"EnteroCount\", \"idx\": 1350280800000, \"val\": 65.0}, {\"col\": \"EnteroCount\", \"idx\": 1350280800000, \"val\": 23.0}, {\"col\": \"EnteroCount\", \"idx\": 1350280800000, \"val\": 15.0}, {\"col\": \"EnteroCount\", \"idx\": 1350280800000, \"val\": 411.0}, {\"col\": \"EnteroCount\", \"idx\": 1350280800000, \"val\": 770.0}, {\"col\": \"EnteroCount\", \"idx\": 1350280800000, \"val\": 11.0}, {\"col\": \"EnteroCount\", \"idx\": 1350280800000, \"val\": 81.0}, {\"col\": \"EnteroCount\", \"idx\": 1350280800000, \"val\": 7.0}, {\"col\": \"EnteroCount\", \"idx\": 1350280800000, \"val\": 146.0}, {\"col\": \"EnteroCount\", \"idx\": 1350280800000, \"val\": 24.0}, {\"col\": \"EnteroCount\", \"idx\": 1350280800000, \"val\": 3.0}, {\"col\": \"EnteroCount\", \"idx\": 1350280800000, \"val\": 20.0}, {\"col\": \"EnteroCount\", \"idx\": 1350280800000, \"val\": 30.0}, {\"col\": \"EnteroCount\", \"idx\": 1350453600000, \"val\": 14.0}, {\"col\": \"EnteroCount\", \"idx\": 1350540000000, \"val\": 3.0}, {\"col\": \"EnteroCount\", \"idx\": 1351317600000, \"val\": 76.0}, {\"col\": \"EnteroCount\", \"idx\": 1351317600000, \"val\": 31.0}, {\"col\": \"EnteroCount\", \"idx\": 1352185200000, \"val\": 97.0}, {\"col\": \"EnteroCount\", \"idx\": 1352185200000, \"val\": 41.0}, {\"col\": \"EnteroCount\", \"idx\": 1352185200000, \"val\": 197.0}, {\"col\": \"EnteroCount\", \"idx\": 1352358000000, \"val\": 86.0}, {\"col\": \"EnteroCount\", \"idx\": 1352358000000, \"val\": 226.0}, {\"col\": \"EnteroCount\", \"idx\": 1352358000000, \"val\": 86.0}, {\"col\": \"EnteroCount\", \"idx\": 1352358000000, \"val\": 121.0}, {\"col\": \"EnteroCount\", \"idx\": 1352358000000, \"val\": 41.0}, {\"col\": \"EnteroCount\", \"idx\": 1352358000000, \"val\": 134.0}, {\"col\": \"EnteroCount\", \"idx\": 1352358000000, \"val\": 888.0}, {\"col\": \"EnteroCount\", \"idx\": 1352358000000, \"val\": 1935.0}, {\"col\": \"EnteroCount\", \"idx\": 1352358000000, \"val\": 364.0}, {\"col\": \"EnteroCount\", \"idx\": 1352358000000, \"val\": 395.0}, {\"col\": \"EnteroCount\", \"idx\": 1352358000000, \"val\": 41.0}, {\"col\": \"EnteroCount\", \"idx\": 1352358000000, \"val\": 75.0}, {\"col\": \"EnteroCount\", \"idx\": 1352358000000, \"val\": 228.0}, {\"col\": \"EnteroCount\", \"idx\": 1352358000000, \"val\": 84.0}, {\"col\": \"EnteroCount\", \"idx\": 1352358000000, \"val\": 2400.0}, {\"col\": \"EnteroCount\", \"idx\": 1352358000000, \"val\": 109.0}, {\"col\": \"EnteroCount\", \"idx\": 1352358000000, \"val\": 1095.0}, {\"col\": \"EnteroCount\", \"idx\": 1355122800000, \"val\": 880.0}, {\"col\": \"EnteroCount\", \"idx\": 1355122800000, \"val\": 301.0}, {\"col\": \"EnteroCount\", \"idx\": 1355122800000, \"val\": 2420.0}, {\"col\": \"EnteroCount\", \"idx\": 1369893600000, \"val\": 10.0}, {\"col\": \"EnteroCount\", \"idx\": 1369893600000, \"val\": 10.0}, {\"col\": \"EnteroCount\", \"idx\": 1369893600000, \"val\": 20.0}, {\"col\": \"EnteroCount\", \"idx\": 1369893600000, \"val\": 10.0}, {\"col\": \"EnteroCount\", \"idx\": 1369893600000, \"val\": 10.0}, {\"col\": \"EnteroCount\", \"idx\": 1369893600000, \"val\": 20.0}, {\"col\": \"EnteroCount\", \"idx\": 1369893600000, \"val\": 10.0}, {\"col\": \"EnteroCount\", \"idx\": 1369980000000, \"val\": 109.0}, {\"col\": \"EnteroCount\", \"idx\": 1369980000000, \"val\": 121.0}, {\"col\": \"EnteroCount\", \"idx\": 1369980000000, \"val\": 20.0}, {\"col\": \"EnteroCount\", \"idx\": 1369980000000, \"val\": 10.0}, {\"col\": \"EnteroCount\", \"idx\": 1369980000000, \"val\": 31.0}, {\"col\": \"EnteroCount\", \"idx\": 1369980000000, \"val\": 20.0}, {\"col\": \"EnteroCount\", \"idx\": 1369980000000, \"val\": 20.0}, {\"col\": \"EnteroCount\", \"idx\": 1369980000000, \"val\": 98.0}, {\"col\": \"EnteroCount\", \"idx\": 1369980000000, \"val\": 20.0}, {\"col\": \"EnteroCount\", \"idx\": 1369980000000, \"val\": 20.0}, {\"col\": \"EnteroCount\", \"idx\": 1369980000000, \"val\": 10.0}, {\"col\": \"EnteroCount\", \"idx\": 1370066400000, \"val\": 4.0}, {\"col\": \"EnteroCount\", \"idx\": 1370066400000, \"val\": 8.0}, {\"col\": \"EnteroCount\", \"idx\": 1370066400000, \"val\": 9.0}, {\"col\": \"EnteroCount\", \"idx\": 1370066400000, \"val\": 10.0}, {\"col\": \"EnteroCount\", \"idx\": 1370152800000, \"val\": 5.0}, {\"col\": \"EnteroCount\", \"idx\": 1370152800000, \"val\": 11.0}, {\"col\": \"EnteroCount\", \"idx\": 1370152800000, \"val\": 84.0}, {\"col\": \"EnteroCount\", \"idx\": 1370152800000, \"val\": 2.0}, {\"col\": \"EnteroCount\", \"idx\": 1370152800000, \"val\": 3.0}, {\"col\": \"EnteroCount\", \"idx\": 1370152800000, \"val\": 39.0}, {\"col\": \"EnteroCount\", \"idx\": 1370152800000, \"val\": 11.0}, {\"col\": \"EnteroCount\", \"idx\": 1370152800000, \"val\": 194.0}, {\"col\": \"EnteroCount\", \"idx\": 1370152800000, \"val\": 13.0}, {\"col\": \"EnteroCount\", \"idx\": 1370152800000, \"val\": 8.0}, {\"col\": \"EnteroCount\", \"idx\": 1370152800000, \"val\": 6.0}, {\"col\": \"EnteroCount\", \"idx\": 1370152800000, \"val\": 3.0}, {\"col\": \"EnteroCount\", \"idx\": 1370239200000, \"val\": 89.0}, {\"col\": \"EnteroCount\", \"idx\": 1370239200000, \"val\": 32.0}, {\"col\": \"EnteroCount\", \"idx\": 1370239200000, \"val\": 10.0}, {\"col\": \"EnteroCount\", \"idx\": 1370239200000, \"val\": 74.0}, {\"col\": \"EnteroCount\", \"idx\": 1370239200000, \"val\": 25.0}, {\"col\": \"EnteroCount\", \"idx\": 1370239200000, \"val\": 11.0}, {\"col\": \"EnteroCount\", \"idx\": 1370239200000, \"val\": 10.0}, {\"col\": \"EnteroCount\", \"idx\": 1370239200000, \"val\": 24.0}, {\"col\": \"EnteroCount\", \"idx\": 1370239200000, \"val\": 33.0}, {\"col\": \"EnteroCount\", \"idx\": 1370325600000, \"val\": 1986.0}, {\"col\": \"EnteroCount\", \"idx\": 1370325600000, \"val\": 75.0}, {\"col\": \"EnteroCount\", \"idx\": 1370325600000, \"val\": 238.0}, {\"col\": \"EnteroCount\", \"idx\": 1370325600000, \"val\": 1733.0}, {\"col\": \"EnteroCount\", \"idx\": 1370325600000, \"val\": 1553.0}, {\"col\": \"EnteroCount\", \"idx\": 1370325600000, \"val\": 89.0}, {\"col\": \"EnteroCount\", \"idx\": 1370325600000, \"val\": 1300.0}, {\"col\": \"EnteroCount\", \"idx\": 1370325600000, \"val\": 980.0}, {\"col\": \"EnteroCount\", \"idx\": 1370325600000, \"val\": 1300.0}, {\"col\": \"EnteroCount\", \"idx\": 1370325600000, \"val\": 345.0}, {\"col\": \"EnteroCount\", \"idx\": 1370325600000, \"val\": 37.0}, {\"col\": \"EnteroCount\", \"idx\": 1370325600000, \"val\": 461.0}, {\"col\": \"EnteroCount\", \"idx\": 1370325600000, \"val\": 1046.0}, {\"col\": \"EnteroCount\", \"idx\": 1371621600000, \"val\": 62.0}, {\"col\": \"EnteroCount\", \"idx\": 1371621600000, \"val\": 74.0}, {\"col\": \"EnteroCount\", \"idx\": 1371621600000, \"val\": 41.0}, {\"col\": \"EnteroCount\", \"idx\": 1371621600000, \"val\": 41.0}, {\"col\": \"EnteroCount\", \"idx\": 1371621600000, \"val\": 31.0}, {\"col\": \"EnteroCount\", \"idx\": 1371621600000, \"val\": 41.0}, {\"col\": \"EnteroCount\", \"idx\": 1371621600000, \"val\": 10.0}, {\"col\": \"EnteroCount\", \"idx\": 1371621600000, \"val\": 20.0}, {\"col\": \"EnteroCount\", \"idx\": 1371621600000, \"val\": 20.0}, {\"col\": \"EnteroCount\", \"idx\": 1371621600000, \"val\": 10.0}, {\"col\": \"EnteroCount\", \"idx\": 1371621600000, \"val\": 10.0}, {\"col\": \"EnteroCount\", \"idx\": 1371621600000, \"val\": 41.0}, {\"col\": \"EnteroCount\", \"idx\": 1371621600000, \"val\": 75.0}, {\"col\": \"EnteroCount\", \"idx\": 1371621600000, \"val\": 30.0}, {\"col\": \"EnteroCount\", \"idx\": 1371621600000, \"val\": 20.0}, {\"col\": \"EnteroCount\", \"idx\": 1371621600000, \"val\": 74.0}, {\"col\": \"EnteroCount\", \"idx\": 1371708000000, \"val\": 10.0}, {\"col\": \"EnteroCount\", \"idx\": 1371708000000, \"val\": 41.0}, {\"col\": \"EnteroCount\", \"idx\": 1371708000000, \"val\": 10.0}, {\"col\": \"EnteroCount\", \"idx\": 1371708000000, \"val\": 10.0}, {\"col\": \"EnteroCount\", \"idx\": 1371708000000, \"val\": 52.0}, {\"col\": \"EnteroCount\", \"idx\": 1371708000000, \"val\": 30.0}, {\"col\": \"EnteroCount\", \"idx\": 1371708000000, \"val\": 74.0}, {\"col\": \"EnteroCount\", \"idx\": 1371708000000, \"val\": 63.0}, {\"col\": \"EnteroCount\", \"idx\": 1371708000000, \"val\": 10.0}, {\"col\": \"EnteroCount\", \"idx\": 1371708000000, \"val\": 10.0}, {\"col\": \"EnteroCount\", \"idx\": 1371708000000, \"val\": 10.0}, {\"col\": \"EnteroCount\", \"idx\": 1371794400000, \"val\": 15.0}, {\"col\": \"EnteroCount\", \"idx\": 1371794400000, \"val\": 15.0}, {\"col\": \"EnteroCount\", \"idx\": 1371794400000, \"val\": 28.0}, {\"col\": \"EnteroCount\", \"idx\": 1371794400000, \"val\": 20.0}, {\"col\": \"EnteroCount\", \"idx\": 1371880800000, \"val\": 11.0}, {\"col\": \"EnteroCount\", \"idx\": 1371880800000, \"val\": 18.0}, {\"col\": \"EnteroCount\", \"idx\": 1371880800000, \"val\": 86.0}, {\"col\": \"EnteroCount\", \"idx\": 1371880800000, \"val\": 34.0}, {\"col\": \"EnteroCount\", \"idx\": 1371880800000, \"val\": 49.0}, {\"col\": \"EnteroCount\", \"idx\": 1371880800000, \"val\": 12.0}, {\"col\": \"EnteroCount\", \"idx\": 1371880800000, \"val\": 19.0}, {\"col\": \"EnteroCount\", \"idx\": 1371880800000, \"val\": 26.0}, {\"col\": \"EnteroCount\", \"idx\": 1371880800000, \"val\": 69.0}, {\"col\": \"EnteroCount\", \"idx\": 1371967200000, \"val\": 13.0}, {\"col\": \"EnteroCount\", \"idx\": 1371967200000, \"val\": 31.0}, {\"col\": \"EnteroCount\", \"idx\": 1371967200000, \"val\": 29.0}, {\"col\": \"EnteroCount\", \"idx\": 1371967200000, \"val\": 42.0}, {\"col\": \"EnteroCount\", \"idx\": 1371967200000, \"val\": 16.0}, {\"col\": \"EnteroCount\", \"idx\": 1371967200000, \"val\": 4.0}, {\"col\": \"EnteroCount\", \"idx\": 1371967200000, \"val\": 41.0}, {\"col\": \"EnteroCount\", \"idx\": 1371967200000, \"val\": 4.0}, {\"col\": \"EnteroCount\", \"idx\": 1371967200000, \"val\": 13.0}, {\"col\": \"EnteroCount\", \"idx\": 1371967200000, \"val\": 23.0}, {\"col\": \"EnteroCount\", \"idx\": 1372053600000, \"val\": 40.0}, {\"col\": \"EnteroCount\", \"idx\": 1372053600000, \"val\": 30.0}, {\"col\": \"EnteroCount\", \"idx\": 1372053600000, \"val\": 69.0}, {\"col\": \"EnteroCount\", \"idx\": 1372053600000, \"val\": 8.0}, {\"col\": \"EnteroCount\", \"idx\": 1372053600000, \"val\": 1553.0}, {\"col\": \"EnteroCount\", \"idx\": 1372053600000, \"val\": 75.0}, {\"col\": \"EnteroCount\", \"idx\": 1372053600000, \"val\": 21.0}, {\"col\": \"EnteroCount\", \"idx\": 1372053600000, \"val\": 15.0}, {\"col\": \"EnteroCount\", \"idx\": 1372053600000, \"val\": 34.0}, {\"col\": \"EnteroCount\", \"idx\": 1372053600000, \"val\": 91.0}, {\"col\": \"EnteroCount\", \"idx\": 1372053600000, \"val\": 201.0}, {\"col\": \"EnteroCount\", \"idx\": 1372053600000, \"val\": 411.0}, {\"col\": \"EnteroCount\", \"idx\": 1372053600000, \"val\": 1300.0}, {\"col\": \"EnteroCount\", \"idx\": 1372053600000, \"val\": 67.0}, {\"col\": \"EnteroCount\", \"idx\": 1372053600000, \"val\": 52.0}, {\"col\": \"EnteroCount\", \"idx\": 1372053600000, \"val\": 1203.0}, {\"col\": \"EnteroCount\", \"idx\": 1372053600000, \"val\": 39.0}, {\"col\": \"EnteroCount\", \"idx\": 1374040800000, \"val\": 20.0}, {\"col\": \"EnteroCount\", \"idx\": 1374040800000, \"val\": 10.0}, {\"col\": \"EnteroCount\", \"idx\": 1374040800000, \"val\": 41.0}, {\"col\": \"EnteroCount\", \"idx\": 1374040800000, \"val\": 41.0}, {\"col\": \"EnteroCount\", \"idx\": 1374040800000, \"val\": 30.0}, {\"col\": \"EnteroCount\", \"idx\": 1374040800000, \"val\": 10.0}, {\"col\": \"EnteroCount\", \"idx\": 1374040800000, \"val\": 10.0}, {\"col\": \"EnteroCount\", \"idx\": 1374040800000, \"val\": 723.0}, {\"col\": \"EnteroCount\", \"idx\": 1374040800000, \"val\": 10.0}, {\"col\": \"EnteroCount\", \"idx\": 1374127200000, \"val\": 31.0}, {\"col\": \"EnteroCount\", \"idx\": 1374127200000, \"val\": 10.0}, {\"col\": \"EnteroCount\", \"idx\": 1374127200000, \"val\": 10.0}, {\"col\": \"EnteroCount\", \"idx\": 1374127200000, \"val\": 20.0}, {\"col\": \"EnteroCount\", \"idx\": 1374127200000, \"val\": 20.0}, {\"col\": \"EnteroCount\", \"idx\": 1374127200000, \"val\": 10.0}, {\"col\": \"EnteroCount\", \"idx\": 1374127200000, \"val\": 122.0}, {\"col\": \"EnteroCount\", \"idx\": 1374127200000, \"val\": 10.0}, {\"col\": \"EnteroCount\", \"idx\": 1374127200000, \"val\": 10.0}, {\"col\": \"EnteroCount\", \"idx\": 1374127200000, \"val\": 85.0}, {\"col\": \"EnteroCount\", \"idx\": 1374213600000, \"val\": 5.0}, {\"col\": \"EnteroCount\", \"idx\": 1374213600000, \"val\": 16.0}, {\"col\": \"EnteroCount\", \"idx\": 1374213600000, \"val\": 24.0}, {\"col\": \"EnteroCount\", \"idx\": 1374213600000, \"val\": 84.0}, {\"col\": \"EnteroCount\", \"idx\": 1374213600000, \"val\": 7.0}, {\"col\": \"EnteroCount\", \"idx\": 1374213600000, \"val\": 199.0}, {\"col\": \"EnteroCount\", \"idx\": 1374213600000, \"val\": 10.0}, {\"col\": \"EnteroCount\", \"idx\": 1374213600000, \"val\": 1733.0}, {\"col\": \"EnteroCount\", \"idx\": 1374213600000, \"val\": 15.0}, {\"col\": \"EnteroCount\", \"idx\": 1374213600000, \"val\": 3.0}, {\"col\": \"EnteroCount\", \"idx\": 1374300000000, \"val\": 51.0}, {\"col\": \"EnteroCount\", \"idx\": 1374300000000, \"val\": 2.0}, {\"col\": \"EnteroCount\", \"idx\": 1374300000000, \"val\": 20.0}, {\"col\": \"EnteroCount\", \"idx\": 1374300000000, \"val\": 1.0}, {\"col\": \"EnteroCount\", \"idx\": 1374300000000, \"val\": 5.0}, {\"col\": \"EnteroCount\", \"idx\": 1374300000000, \"val\": 3.0}, {\"col\": \"EnteroCount\", \"idx\": 1374300000000, \"val\": 6.0}, {\"col\": \"EnteroCount\", \"idx\": 1374386400000, \"val\": 64.0}, {\"col\": \"EnteroCount\", \"idx\": 1374386400000, \"val\": 5.0}, {\"col\": \"EnteroCount\", \"idx\": 1374386400000, \"val\": 20.0}, {\"col\": \"EnteroCount\", \"idx\": 1374386400000, \"val\": 10.0}, {\"col\": \"EnteroCount\", \"idx\": 1374386400000, \"val\": 22.0}, {\"col\": \"EnteroCount\", \"idx\": 1374386400000, \"val\": 67.0}, {\"col\": \"EnteroCount\", \"idx\": 1374386400000, \"val\": 34.0}, {\"col\": \"EnteroCount\", \"idx\": 1374386400000, \"val\": 51.0}, {\"col\": \"EnteroCount\", \"idx\": 1374386400000, \"val\": 40.0}, {\"col\": \"EnteroCount\", \"idx\": 1374386400000, \"val\": 36.0}, {\"col\": \"EnteroCount\", \"idx\": 1374386400000, \"val\": 19.0}, {\"col\": \"EnteroCount\", \"idx\": 1374386400000, \"val\": 26.0}, {\"col\": \"EnteroCount\", \"idx\": 1374386400000, \"val\": 31.0}, {\"col\": \"EnteroCount\", \"idx\": 1374386400000, \"val\": 27.0}, {\"col\": \"EnteroCount\", \"idx\": 1374386400000, \"val\": 26.0}, {\"col\": \"EnteroCount\", \"idx\": 1374386400000, \"val\": 20.0}, {\"col\": \"EnteroCount\", \"idx\": 1374386400000, \"val\": 22.0}, {\"col\": \"EnteroCount\", \"idx\": 1374386400000, \"val\": 23.0}, {\"col\": \"EnteroCount\", \"idx\": 1374386400000, \"val\": 38.0}, {\"col\": \"EnteroCount\", \"idx\": 1374386400000, \"val\": 27.0}, {\"col\": \"EnteroCount\", \"idx\": 1374386400000, \"val\": 32.0}, {\"col\": \"EnteroCount\", \"idx\": 1374386400000, \"val\": 4.0}, {\"col\": \"EnteroCount\", \"idx\": 1374386400000, \"val\": 16.0}, {\"col\": \"EnteroCount\", \"idx\": 1376460000000, \"val\": 75.0}, {\"col\": \"EnteroCount\", \"idx\": 1376460000000, \"val\": 173.0}, {\"col\": \"EnteroCount\", \"idx\": 1376460000000, \"val\": 364.0}, {\"col\": \"EnteroCount\", \"idx\": 1376460000000, \"val\": 51.0}, {\"col\": \"EnteroCount\", \"idx\": 1376460000000, \"val\": 51.0}, {\"col\": \"EnteroCount\", \"idx\": 1376460000000, \"val\": 52.0}, {\"col\": \"EnteroCount\", \"idx\": 1376460000000, \"val\": 560.0}, {\"col\": \"EnteroCount\", \"idx\": 1376460000000, \"val\": 10.0}, {\"col\": \"EnteroCount\", \"idx\": 1376460000000, \"val\": 10.0}, {\"col\": \"EnteroCount\", \"idx\": 1376460000000, \"val\": 199.0}, {\"col\": \"EnteroCount\", \"idx\": 1376460000000, \"val\": 1670.0}, {\"col\": \"EnteroCount\", \"idx\": 1376460000000, \"val\": 4352.0}, {\"col\": \"EnteroCount\", \"idx\": 1376460000000, \"val\": 10.0}, {\"col\": \"EnteroCount\", \"idx\": 1376460000000, \"val\": 52.0}, {\"col\": \"EnteroCount\", \"idx\": 1376460000000, \"val\": 31.0}, {\"col\": \"EnteroCount\", \"idx\": 1376460000000, \"val\": 221.0}, {\"col\": \"EnteroCount\", \"idx\": 1376460000000, \"val\": 959.0}, {\"col\": \"EnteroCount\", \"idx\": 1376460000000, \"val\": 10.0}, {\"col\": \"EnteroCount\", \"idx\": 1376546400000, \"val\": 20.0}, {\"col\": \"EnteroCount\", \"idx\": 1376546400000, \"val\": 20.0}, {\"col\": \"EnteroCount\", \"idx\": 1376546400000, \"val\": 73.0}, {\"col\": \"EnteroCount\", \"idx\": 1376546400000, \"val\": 20.0}, {\"col\": \"EnteroCount\", \"idx\": 1376546400000, \"val\": 10.0}, {\"col\": \"EnteroCount\", \"idx\": 1376546400000, \"val\": 10.0}, {\"col\": \"EnteroCount\", \"idx\": 1376546400000, \"val\": 41.0}, {\"col\": \"EnteroCount\", \"idx\": 1376546400000, \"val\": 10.0}, {\"col\": \"EnteroCount\", \"idx\": 1376546400000, \"val\": 2481.0}, {\"col\": \"EnteroCount\", \"idx\": 1376546400000, \"val\": 10.0}, {\"col\": \"EnteroCount\", \"idx\": 1376546400000, \"val\": 30.0}, {\"col\": \"EnteroCount\", \"idx\": 1376546400000, \"val\": 30.0}, {\"col\": \"EnteroCount\", \"idx\": 1376546400000, \"val\": 10.0}, {\"col\": \"EnteroCount\", \"idx\": 1376546400000, \"val\": 30.0}, {\"col\": \"EnteroCount\", \"idx\": 1376719200000, \"val\": 15.0}, {\"col\": \"EnteroCount\", \"idx\": 1376719200000, \"val\": 12.0}, {\"col\": \"EnteroCount\", \"idx\": 1376719200000, \"val\": 7.0}, {\"col\": \"EnteroCount\", \"idx\": 1376719200000, \"val\": 131.0}, {\"col\": \"EnteroCount\", \"idx\": 1376719200000, \"val\": 9.0}, {\"col\": \"EnteroCount\", \"idx\": 1376719200000, \"val\": 8.0}, {\"col\": \"EnteroCount\", \"idx\": 1376719200000, \"val\": 7.0}, {\"col\": \"EnteroCount\", \"idx\": 1376719200000, \"val\": 21.0}, {\"col\": \"EnteroCount\", \"idx\": 1376719200000, \"val\": 11.0}, {\"col\": \"EnteroCount\", \"idx\": 1376719200000, \"val\": 8.0}, {\"col\": \"EnteroCount\", \"idx\": 1376805600000, \"val\": 20.0}, {\"col\": \"EnteroCount\", \"idx\": 1376805600000, \"val\": 3.0}, {\"col\": \"EnteroCount\", \"idx\": 1376805600000, \"val\": 9.0}, {\"col\": \"EnteroCount\", \"idx\": 1376805600000, \"val\": 4.0}, {\"col\": \"EnteroCount\", \"idx\": 1376805600000, \"val\": 21.0}, {\"col\": \"EnteroCount\", \"idx\": 1376805600000, \"val\": 10.0}, {\"col\": \"EnteroCount\", \"idx\": 1376805600000, \"val\": 50.0}, {\"col\": \"EnteroCount\", \"idx\": 1376805600000, \"val\": 31.0}, {\"col\": \"EnteroCount\", \"idx\": 1376805600000, \"val\": 5.0}, {\"col\": \"EnteroCount\", \"idx\": 1376805600000, \"val\": 326.0}, {\"col\": \"EnteroCount\", \"idx\": 1376805600000, \"val\": 3.0}, {\"col\": \"EnteroCount\", \"idx\": 1376805600000, \"val\": 17.0}, {\"col\": \"EnteroCount\", \"idx\": 1376892000000, \"val\": 36.0}, {\"col\": \"EnteroCount\", \"idx\": 1376892000000, \"val\": 7.0}, {\"col\": \"EnteroCount\", \"idx\": 1376892000000, \"val\": 10.0}, {\"col\": \"EnteroCount\", \"idx\": 1376892000000, \"val\": 1733.0}, {\"col\": \"EnteroCount\", \"idx\": 1376892000000, \"val\": 14.0}, {\"col\": \"EnteroCount\", \"idx\": 1376892000000, \"val\": 7.0}, {\"col\": \"EnteroCount\", \"idx\": 1376892000000, \"val\": 22.0}, {\"col\": \"EnteroCount\", \"idx\": 1376892000000, \"val\": 41.0}, {\"col\": \"EnteroCount\", \"idx\": 1376892000000, \"val\": 13.0}, {\"col\": \"EnteroCount\", \"idx\": 1376892000000, \"val\": 108.0}, {\"col\": \"EnteroCount\", \"idx\": 1376892000000, \"val\": 19.0}, {\"col\": \"EnteroCount\", \"idx\": 1376892000000, \"val\": 14.0}, {\"col\": \"EnteroCount\", \"idx\": 1376892000000, \"val\": 6.0}, {\"col\": \"EnteroCount\", \"idx\": 1376892000000, \"val\": 20.0}, {\"col\": \"EnteroCount\", \"idx\": 1376892000000, \"val\": 29.0}, {\"col\": \"EnteroCount\", \"idx\": 1376892000000, \"val\": 6.0}, {\"col\": \"EnteroCount\", \"idx\": 1376892000000, \"val\": 17.0}, {\"col\": \"EnteroCount\", \"idx\": 1379484000000, \"val\": 20.0}, {\"col\": \"EnteroCount\", \"idx\": 1379484000000, \"val\": 63.0}, {\"col\": \"EnteroCount\", \"idx\": 1379484000000, \"val\": 20.0}, {\"col\": \"EnteroCount\", \"idx\": 1379484000000, \"val\": 41.0}, {\"col\": \"EnteroCount\", \"idx\": 1379484000000, \"val\": 10.0}, {\"col\": \"EnteroCount\", \"idx\": 1379484000000, \"val\": 20.0}, {\"col\": \"EnteroCount\", \"idx\": 1379484000000, \"val\": 41.0}, {\"col\": \"EnteroCount\", \"idx\": 1379484000000, \"val\": 41.0}, {\"col\": \"EnteroCount\", \"idx\": 1379484000000, \"val\": 41.0}, {\"col\": \"EnteroCount\", \"idx\": 1379484000000, \"val\": 30.0}, {\"col\": \"EnteroCount\", \"idx\": 1379484000000, \"val\": 20.0}, {\"col\": \"EnteroCount\", \"idx\": 1379484000000, \"val\": 41.0}, {\"col\": \"EnteroCount\", \"idx\": 1379484000000, \"val\": 10.0}, {\"col\": \"EnteroCount\", \"idx\": 1379484000000, \"val\": 10.0}, {\"col\": \"EnteroCount\", \"idx\": 1379570400000, \"val\": 10.0}, {\"col\": \"EnteroCount\", \"idx\": 1379570400000, \"val\": 41.0}, {\"col\": \"EnteroCount\", \"idx\": 1379570400000, \"val\": 30.0}, {\"col\": \"EnteroCount\", \"idx\": 1379570400000, \"val\": 10.0}, {\"col\": \"EnteroCount\", \"idx\": 1379570400000, \"val\": 10.0}, {\"col\": \"EnteroCount\", \"idx\": 1379570400000, \"val\": 10.0}, {\"col\": \"EnteroCount\", \"idx\": 1379570400000, \"val\": 148.0}, {\"col\": \"EnteroCount\", \"idx\": 1379570400000, \"val\": 10.0}, {\"col\": \"EnteroCount\", \"idx\": 1379570400000, \"val\": 31.0}, {\"col\": \"EnteroCount\", \"idx\": 1379570400000, \"val\": 10.0}, {\"col\": \"EnteroCount\", \"idx\": 1379570400000, \"val\": 10.0}, {\"col\": \"EnteroCount\", \"idx\": 1379656800000, \"val\": 2.0}, {\"col\": \"EnteroCount\", \"idx\": 1379656800000, \"val\": 6.0}, {\"col\": \"EnteroCount\", \"idx\": 1379656800000, \"val\": 2.0}, {\"col\": \"EnteroCount\", \"idx\": 1379656800000, \"val\": 1.0}, {\"col\": \"EnteroCount\", \"idx\": 1379656800000, \"val\": 2.0}, {\"col\": \"EnteroCount\", \"idx\": 1379656800000, \"val\": 29.0}, {\"col\": \"EnteroCount\", \"idx\": 1379656800000, \"val\": 7.0}, {\"col\": \"EnteroCount\", \"idx\": 1379656800000, \"val\": 19.0}, {\"col\": \"EnteroCount\", \"idx\": 1379656800000, \"val\": 88.0}, {\"col\": \"EnteroCount\", \"idx\": 1379656800000, \"val\": 7.0}, {\"col\": \"EnteroCount\", \"idx\": 1379656800000, \"val\": 3.0}, {\"col\": \"EnteroCount\", \"idx\": 1379656800000, \"val\": 5.0}, {\"col\": \"EnteroCount\", \"idx\": 1379656800000, \"val\": 3.0}, {\"col\": \"EnteroCount\", \"idx\": 1379656800000, \"val\": 5.0}, {\"col\": \"EnteroCount\", \"idx\": 1379656800000, \"val\": 13.0}, {\"col\": \"EnteroCount\", \"idx\": 1379743200000, \"val\": 2.0}, {\"col\": \"EnteroCount\", \"idx\": 1379743200000, \"val\": 10.0}, {\"col\": \"EnteroCount\", \"idx\": 1379743200000, \"val\": 12.0}, {\"col\": \"EnteroCount\", \"idx\": 1379743200000, \"val\": 22.0}, {\"col\": \"EnteroCount\", \"idx\": 1379743200000, \"val\": 199.0}, {\"col\": \"EnteroCount\", \"idx\": 1379743200000, \"val\": 13.0}, {\"col\": \"EnteroCount\", \"idx\": 1379743200000, \"val\": 13.0}, {\"col\": \"EnteroCount\", \"idx\": 1379743200000, \"val\": 46.0}, {\"col\": \"EnteroCount\", \"idx\": 1379743200000, \"val\": 830.0}, {\"col\": \"EnteroCount\", \"idx\": 1379743200000, \"val\": 5.0}, {\"col\": \"EnteroCount\", \"idx\": 1379743200000, \"val\": 33.0}, {\"col\": \"EnteroCount\", \"idx\": 1379743200000, \"val\": 6.0}, {\"col\": \"EnteroCount\", \"idx\": 1379743200000, \"val\": 40.0}, {\"col\": \"EnteroCount\", \"idx\": 1379743200000, \"val\": 19.0}, {\"col\": \"EnteroCount\", \"idx\": 1379743200000, \"val\": 12.0}, {\"col\": \"EnteroCount\", \"idx\": 1379743200000, \"val\": 19.0}, {\"col\": \"EnteroCount\", \"idx\": 1379743200000, \"val\": 33.0}, {\"col\": \"EnteroCount\", \"idx\": 1379743200000, \"val\": 8.0}, {\"col\": \"EnteroCount\", \"idx\": 1379743200000, \"val\": 16.0}, {\"col\": \"EnteroCount\", \"idx\": 1379743200000, \"val\": 20.0}, {\"col\": \"EnteroCount\", \"idx\": 1379743200000, \"val\": 2.0}, {\"col\": \"EnteroCount\", \"idx\": 1379743200000, \"val\": 17.0}, {\"col\": \"EnteroCount\", \"idx\": 1379743200000, \"val\": 13.0}, {\"col\": \"EnteroCount\", \"idx\": 1379743200000, \"val\": 20.0}, {\"col\": \"EnteroCount\", \"idx\": 1381903200000, \"val\": 10.0}, {\"col\": \"EnteroCount\", \"idx\": 1381903200000, \"val\": 10.0}, {\"col\": \"EnteroCount\", \"idx\": 1381903200000, \"val\": 10.0}, {\"col\": \"EnteroCount\", \"idx\": 1381903200000, \"val\": 201.0}, {\"col\": \"EnteroCount\", \"idx\": 1381903200000, \"val\": 10.0}, {\"col\": \"EnteroCount\", \"idx\": 1381903200000, \"val\": 63.0}, {\"col\": \"EnteroCount\", \"idx\": 1381903200000, \"val\": 74.0}, {\"col\": \"EnteroCount\", \"idx\": 1381903200000, \"val\": 31.0}, {\"col\": \"EnteroCount\", \"idx\": 1381903200000, \"val\": 10.0}, {\"col\": \"EnteroCount\", \"idx\": 1381903200000, \"val\": 10.0}, {\"col\": \"EnteroCount\", \"idx\": 1381903200000, \"val\": 20.0}, {\"col\": \"EnteroCount\", \"idx\": 1381903200000, \"val\": 86.0}, {\"col\": \"EnteroCount\", \"idx\": 1381989600000, \"val\": 63.0}, {\"col\": \"EnteroCount\", \"idx\": 1381989600000, \"val\": 52.0}, {\"col\": \"EnteroCount\", \"idx\": 1381989600000, \"val\": 20.0}, {\"col\": \"EnteroCount\", \"idx\": 1381989600000, \"val\": 20.0}, {\"col\": \"EnteroCount\", \"idx\": 1381989600000, \"val\": 20.0}, {\"col\": \"EnteroCount\", \"idx\": 1381989600000, \"val\": 341.0}, {\"col\": \"EnteroCount\", \"idx\": 1381989600000, \"val\": 20.0}, {\"col\": \"EnteroCount\", \"idx\": 1381989600000, \"val\": 31.0}, {\"col\": \"EnteroCount\", \"idx\": 1381989600000, \"val\": 41.0}, {\"col\": \"EnteroCount\", \"idx\": 1381989600000, \"val\": 10.0}, {\"col\": \"EnteroCount\", \"idx\": 1381989600000, \"val\": 20.0}, {\"col\": \"EnteroCount\", \"idx\": 1382076000000, \"val\": 34.0}, {\"col\": \"EnteroCount\", \"idx\": 1382076000000, \"val\": 22.0}, {\"col\": \"EnteroCount\", \"idx\": 1382076000000, \"val\": 12.0}, {\"col\": \"EnteroCount\", \"idx\": 1382076000000, \"val\": 21.0}, {\"col\": \"EnteroCount\", \"idx\": 1382076000000, \"val\": 13.0}, {\"col\": \"EnteroCount\", \"idx\": 1382076000000, \"val\": 365.0}, {\"col\": \"EnteroCount\", \"idx\": 1382162400000, \"val\": 5.0}, {\"col\": \"EnteroCount\", \"idx\": 1382162400000, \"val\": 9.0}, {\"col\": \"EnteroCount\", \"idx\": 1382162400000, \"val\": 6.0}, {\"col\": \"EnteroCount\", \"idx\": 1382162400000, \"val\": 11.0}, {\"col\": \"EnteroCount\", \"idx\": 1382162400000, \"val\": 1.0}, {\"col\": \"EnteroCount\", \"idx\": 1382162400000, \"val\": 9.0}, {\"col\": \"EnteroCount\", \"idx\": 1382162400000, \"val\": 13.0}, {\"col\": \"EnteroCount\", \"idx\": 1382162400000, \"val\": 11.0}, {\"col\": \"EnteroCount\", \"idx\": 1382162400000, \"val\": 5.0}, {\"col\": \"EnteroCount\", \"idx\": 1382162400000, \"val\": 4.0}, {\"col\": \"EnteroCount\", \"idx\": 1382248800000, \"val\": 8.0}, {\"col\": \"EnteroCount\", \"idx\": 1382248800000, \"val\": 6.0}, {\"col\": \"EnteroCount\", \"idx\": 1382248800000, \"val\": 10.0}, {\"col\": \"EnteroCount\", \"idx\": 1382248800000, \"val\": 1.0}, {\"col\": \"EnteroCount\", \"idx\": 1382248800000, \"val\": 2.0}, {\"col\": \"EnteroCount\", \"idx\": 1382248800000, \"val\": 1.0}, {\"col\": \"EnteroCount\", \"idx\": 1382248800000, \"val\": 3.0}, {\"col\": \"EnteroCount\", \"idx\": 1382248800000, \"val\": 9.0}, {\"col\": \"EnteroCount\", \"idx\": 1382248800000, \"val\": 95.0}, {\"col\": \"EnteroCount\", \"idx\": 1382335200000, \"val\": 11.0}, {\"col\": \"EnteroCount\", \"idx\": 1382335200000, \"val\": 5.0}, {\"col\": \"EnteroCount\", \"idx\": 1382335200000, \"val\": 117.0}, {\"col\": \"EnteroCount\", \"idx\": 1382335200000, \"val\": 13.0}, {\"col\": \"EnteroCount\", \"idx\": 1382335200000, \"val\": 14.0}, {\"col\": \"EnteroCount\", \"idx\": 1382335200000, \"val\": 36.0}, {\"col\": \"EnteroCount\", \"idx\": 1382335200000, \"val\": 134.0}, {\"col\": \"EnteroCount\", \"idx\": 1382335200000, \"val\": 14.0}, {\"col\": \"EnteroCount\", \"idx\": 1382335200000, \"val\": 9.0}, {\"col\": \"EnteroCount\", \"idx\": 1382335200000, \"val\": 39.0}, {\"col\": \"EnteroCount\", \"idx\": 1382335200000, \"val\": 130.0}, {\"col\": \"EnteroCount\", \"idx\": 1382335200000, \"val\": 25.0}, {\"col\": \"EnteroCount\", \"idx\": 1382335200000, \"val\": 4.0}, {\"col\": \"EnteroCount\", \"idx\": 1382335200000, \"val\": 30.0}]}], \"height\": 500, \"legends\": [], \"marks\": [{\"from\": {\"data\": \"table\", \"transform\": [{\"keys\": [\"data.col\"], \"type\": \"facet\"}]}, \"marks\": [{\"properties\": {\"enter\": {\"stroke\": {\"field\": \"data.col\", \"scale\": \"color\"}, \"strokeWidth\": {\"value\": 2}, \"x\": {\"field\": \"data.idx\", \"scale\": \"x\"}, \"y\": {\"field\": \"data.val\", \"scale\": \"y\"}}}, \"type\": \"line\"}], \"type\": \"group\"}], \"padding\": \"auto\", \"scales\": [{\"domain\": {\"data\": \"table\", \"field\": \"data.idx\"}, \"name\": \"x\", \"range\": \"width\", \"type\": \"time\"}, {\"domain\": {\"data\": \"table\", \"field\": \"data.val\"}, \"name\": \"y\", \"nice\": true, \"range\": \"height\"}, {\"domain\": {\"data\": \"table\", \"field\": \"data.col\"}, \"name\": \"color\", \"range\": \"category20\", \"type\": \"ordinal\"}], \"width\": 960}, function(chart) {\n",
        "         chart({el: \"#vis570a4f9c736d4eb49c0555817176f911\"}).update();\n",
        "       });\n",
        "     };\n",
        "     _do_plot();\n",
        "   })();\n",
        "</script>\n",
        "<style>.vega canvas {width: 100%;}</style>\n",
        "        "
       ],
       "metadata": {},
       "output_type": "display_data",
       "text": [
        "<IPython.core.display.HTML at 0xb9a1b70>"
       ]
      }
     ],
     "prompt_number": 10
    },
    {
     "cell_type": "markdown",
     "metadata": {},
     "source": [
      "Looks like the correct cap is >24196. Let's convert these to 24196 so we can convert them to numeric. All the mins will be converted to 0."
     ]
    },
    {
     "cell_type": "code",
     "collapsed": false,
     "input": [
      "river_entero['EnteroCount'].replace(to_replace='[>].*', value = '24196', regex=True, inplace=True)\n",
      "river_entero['EnteroCount'].replace(to_replace='[<].*', value = '0', regex=True, inplace=True)\n",
      "\n",
      "river_entero['EnteroCount'] = river_entero['EnteroCount'].convert_objects(convert_numeric=True)"
     ],
     "language": "python",
     "metadata": {},
     "outputs": [],
     "prompt_number": 11
    },
    {
     "cell_type": "markdown",
     "metadata": {},
     "source": [
      "Let's make sure everything looks right."
     ]
    },
    {
     "cell_type": "code",
     "collapsed": false,
     "input": [
      "river_entero.describe()"
     ],
     "language": "python",
     "metadata": {},
     "outputs": [
      {
       "html": [
        "<div style=\"max-height:1000px;max-width:1500px;overflow:auto;\">\n",
        "<table border=\"1\" class=\"dataframe\">\n",
        "  <thead>\n",
        "    <tr style=\"text-align: right;\">\n",
        "      <th></th>\n",
        "      <th>EnteroCount</th>\n",
        "      <th>FourDayRainTotal</th>\n",
        "      <th>SampleCount</th>\n",
        "    </tr>\n",
        "  </thead>\n",
        "  <tbody>\n",
        "    <tr>\n",
        "      <th>count</th>\n",
        "      <td>  3397.000000</td>\n",
        "      <td> 3397.000000</td>\n",
        "      <td> 3397.000000</td>\n",
        "    </tr>\n",
        "    <tr>\n",
        "      <th>mean</th>\n",
        "      <td>   764.391816</td>\n",
        "      <td>    0.568001</td>\n",
        "      <td>   56.886370</td>\n",
        "    </tr>\n",
        "    <tr>\n",
        "      <th>std</th>\n",
        "      <td>  3717.785705</td>\n",
        "      <td>    1.000387</td>\n",
        "      <td>   41.588476</td>\n",
        "    </tr>\n",
        "    <tr>\n",
        "      <th>min</th>\n",
        "      <td>     0.000000</td>\n",
        "      <td>    0.000000</td>\n",
        "      <td>   27.000000</td>\n",
        "    </tr>\n",
        "    <tr>\n",
        "      <th>25%</th>\n",
        "      <td>     4.000000</td>\n",
        "      <td>    0.000000</td>\n",
        "      <td>   37.000000</td>\n",
        "    </tr>\n",
        "    <tr>\n",
        "      <th>50%</th>\n",
        "      <td>    18.000000</td>\n",
        "      <td>    0.200000</td>\n",
        "      <td>   42.000000</td>\n",
        "    </tr>\n",
        "    <tr>\n",
        "      <th>75%</th>\n",
        "      <td>    85.000000</td>\n",
        "      <td>    0.700000</td>\n",
        "      <td>   50.000000</td>\n",
        "    </tr>\n",
        "    <tr>\n",
        "      <th>max</th>\n",
        "      <td> 24196.000000</td>\n",
        "      <td>    8.500000</td>\n",
        "      <td>  187.000000</td>\n",
        "    </tr>\n",
        "  </tbody>\n",
        "</table>\n",
        "</div>"
       ],
       "metadata": {},
       "output_type": "pyout",
       "prompt_number": 12,
       "text": [
        "        EnteroCount  FourDayRainTotal  SampleCount\n",
        "count   3397.000000       3397.000000  3397.000000\n",
        "mean     764.391816          0.568001    56.886370\n",
        "std     3717.785705          1.000387    41.588476\n",
        "min        0.000000          0.000000    27.000000\n",
        "25%        4.000000          0.000000    37.000000\n",
        "50%       18.000000          0.200000    42.000000\n",
        "75%       85.000000          0.700000    50.000000\n",
        "max    24196.000000          8.500000   187.000000"
       ]
      }
     ],
     "prompt_number": 12
    },
    {
     "cell_type": "heading",
     "level": 2,
     "metadata": {},
     "source": [
      "Create lists and graphs of the best and worst places to swim in the dataset."
     ]
    },
    {
     "cell_type": "code",
     "collapsed": false,
     "input": [
      "by_site = river_entero[['Site', 'EnteroCount']].groupby('Site')"
     ],
     "language": "python",
     "metadata": {},
     "outputs": [],
     "prompt_number": 13
    },
    {
     "cell_type": "code",
     "collapsed": false,
     "input": [
      "# summarize by location\n",
      "worst_places = by_site.mean()\n",
      "worst_places.columns = ['Mean_ent',]\n",
      "worst_places['Median_ent'] = by_site.median()\n",
      "worst_places['Max_ent'] = by_site.max()\n",
      "worst_places['Min_ent'] = by_site.min()\n",
      "worst_places['SD'] = by_site.std()\n",
      "\n",
      "# sort on mean\n",
      "worst_places.sort(columns=['Mean_ent',], ascending=False, inplace=True)\n",
      "sample_count = river_entero[['Site', 'SampleCount']].groupby('Site').sum()\n",
      "worst_places['Samples'] = sample_count"
     ],
     "language": "python",
     "metadata": {},
     "outputs": [],
     "prompt_number": 14
    },
    {
     "cell_type": "code",
     "collapsed": false,
     "input": [
      "best_places = worst_places.tail(5)\n",
      "best_places.head()"
     ],
     "language": "python",
     "metadata": {},
     "outputs": [
      {
       "html": [
        "<div style=\"max-height:1000px;max-width:1500px;overflow:auto;\">\n",
        "<table border=\"1\" class=\"dataframe\">\n",
        "  <thead>\n",
        "    <tr style=\"text-align: right;\">\n",
        "      <th></th>\n",
        "      <th>Mean_ent</th>\n",
        "      <th>Median_ent</th>\n",
        "      <th>Max_ent</th>\n",
        "      <th>Min_ent</th>\n",
        "      <th>SD</th>\n",
        "      <th>Samples</th>\n",
        "    </tr>\n",
        "    <tr>\n",
        "      <th>Site</th>\n",
        "      <th></th>\n",
        "      <th></th>\n",
        "      <th></th>\n",
        "      <th></th>\n",
        "      <th></th>\n",
        "      <th></th>\n",
        "    </tr>\n",
        "  </thead>\n",
        "  <tbody>\n",
        "    <tr>\n",
        "      <th>TZ Bridge mid-channel</th>\n",
        "      <td> 15.473684</td>\n",
        "      <td> 0.0</td>\n",
        "      <td> 252</td>\n",
        "      <td> 0</td>\n",
        "      <td> 45.605884</td>\n",
        "      <td> 3249</td>\n",
        "    </tr>\n",
        "    <tr>\n",
        "      <th>Haverstraw Bay mid-channel</th>\n",
        "      <td> 13.500000</td>\n",
        "      <td> 0.0</td>\n",
        "      <td> 164</td>\n",
        "      <td> 0</td>\n",
        "      <td> 29.709229</td>\n",
        "      <td> 2304</td>\n",
        "    </tr>\n",
        "    <tr>\n",
        "      <th>Stony Point mid-channel</th>\n",
        "      <td> 12.795455</td>\n",
        "      <td> 1.5</td>\n",
        "      <td> 196</td>\n",
        "      <td> 0</td>\n",
        "      <td> 31.993153</td>\n",
        "      <td> 1936</td>\n",
        "    </tr>\n",
        "    <tr>\n",
        "      <th>Croton Point Beach</th>\n",
        "      <td> 10.666667</td>\n",
        "      <td> 2.0</td>\n",
        "      <td> 169</td>\n",
        "      <td> 0</td>\n",
        "      <td> 25.485359</td>\n",
        "      <td> 2304</td>\n",
        "    </tr>\n",
        "    <tr>\n",
        "      <th>Poughkeepsie Drinking Water Intake</th>\n",
        "      <td>  8.210526</td>\n",
        "      <td> 4.5</td>\n",
        "      <td>  76</td>\n",
        "      <td> 0</td>\n",
        "      <td> 13.011757</td>\n",
        "      <td> 1444</td>\n",
        "    </tr>\n",
        "  </tbody>\n",
        "</table>\n",
        "</div>"
       ],
       "metadata": {},
       "output_type": "pyout",
       "prompt_number": 15,
       "text": [
        "                                     Mean_ent  Median_ent  Max_ent  Min_ent  \\\n",
        "Site                                                                          \n",
        "TZ Bridge mid-channel               15.473684         0.0      252        0   \n",
        "Haverstraw Bay mid-channel          13.500000         0.0      164        0   \n",
        "Stony Point mid-channel             12.795455         1.5      196        0   \n",
        "Croton Point Beach                  10.666667         2.0      169        0   \n",
        "Poughkeepsie Drinking Water Intake   8.210526         4.5       76        0   \n",
        "\n",
        "                                           SD  Samples  \n",
        "Site                                                    \n",
        "TZ Bridge mid-channel               45.605884     3249  \n",
        "Haverstraw Bay mid-channel          29.709229     2304  \n",
        "Stony Point mid-channel             31.993153     1936  \n",
        "Croton Point Beach                  25.485359     2304  \n",
        "Poughkeepsie Drinking Water Intake  13.011757     1444  "
       ]
      }
     ],
     "prompt_number": 15
    },
    {
     "cell_type": "code",
     "collapsed": false,
     "input": [
      "worst_places = worst_places.head(5)\n",
      "worst_places.head()"
     ],
     "language": "python",
     "metadata": {},
     "outputs": [
      {
       "html": [
        "<div style=\"max-height:1000px;max-width:1500px;overflow:auto;\">\n",
        "<table border=\"1\" class=\"dataframe\">\n",
        "  <thead>\n",
        "    <tr style=\"text-align: right;\">\n",
        "      <th></th>\n",
        "      <th>Mean_ent</th>\n",
        "      <th>Median_ent</th>\n",
        "      <th>Max_ent</th>\n",
        "      <th>Min_ent</th>\n",
        "      <th>SD</th>\n",
        "      <th>Samples</th>\n",
        "    </tr>\n",
        "    <tr>\n",
        "      <th>Site</th>\n",
        "      <th></th>\n",
        "      <th></th>\n",
        "      <th></th>\n",
        "      <th></th>\n",
        "      <th></th>\n",
        "      <th></th>\n",
        "    </tr>\n",
        "  </thead>\n",
        "  <tbody>\n",
        "    <tr>\n",
        "      <th>Gowanus Canal</th>\n",
        "      <td> 4204.945946</td>\n",
        "      <td>  96</td>\n",
        "      <td> 24196</td>\n",
        "      <td> 0</td>\n",
        "      <td> 8563.134291</td>\n",
        "      <td>  1369</td>\n",
        "    </tr>\n",
        "    <tr>\n",
        "      <th>Upper Sparkill Creek</th>\n",
        "      <td> 3935.587879</td>\n",
        "      <td> 411</td>\n",
        "      <td> 24196</td>\n",
        "      <td> 3</td>\n",
        "      <td> 8143.522629</td>\n",
        "      <td> 27225</td>\n",
        "    </tr>\n",
        "    <tr>\n",
        "      <th>Newtown Creek- Metropolitan Ave. Bridge</th>\n",
        "      <td> 2952.280702</td>\n",
        "      <td>  98</td>\n",
        "      <td> 24196</td>\n",
        "      <td> 0</td>\n",
        "      <td> 7399.631778</td>\n",
        "      <td>  3249</td>\n",
        "    </tr>\n",
        "    <tr>\n",
        "      <th>Island Creek/Normans Kill</th>\n",
        "      <td> 2298.342857</td>\n",
        "      <td>  46</td>\n",
        "      <td> 24196</td>\n",
        "      <td> 2</td>\n",
        "      <td> 6815.557398</td>\n",
        "      <td>  1225</td>\n",
        "    </tr>\n",
        "    <tr>\n",
        "      <th>Tarrytown Marina</th>\n",
        "      <td> 2204.185185</td>\n",
        "      <td>  41</td>\n",
        "      <td> 24196</td>\n",
        "      <td> 0</td>\n",
        "      <td> 6426.040365</td>\n",
        "      <td>   729</td>\n",
        "    </tr>\n",
        "  </tbody>\n",
        "</table>\n",
        "</div>"
       ],
       "metadata": {},
       "output_type": "pyout",
       "prompt_number": 16,
       "text": [
        "                                            Mean_ent  Median_ent  Max_ent  \\\n",
        "Site                                                                        \n",
        "Gowanus Canal                            4204.945946          96    24196   \n",
        "Upper Sparkill Creek                     3935.587879         411    24196   \n",
        "Newtown Creek- Metropolitan Ave. Bridge  2952.280702          98    24196   \n",
        "Island Creek/Normans Kill                2298.342857          46    24196   \n",
        "Tarrytown Marina                         2204.185185          41    24196   \n",
        "\n",
        "                                         Min_ent           SD  Samples  \n",
        "Site                                                                    \n",
        "Gowanus Canal                                  0  8563.134291     1369  \n",
        "Upper Sparkill Creek                           3  8143.522629    27225  \n",
        "Newtown Creek- Metropolitan Ave. Bridge        0  7399.631778     3249  \n",
        "Island Creek/Normans Kill                      2  6815.557398     1225  \n",
        "Tarrytown Marina                               0  6426.040365      729  "
       ]
      }
     ],
     "prompt_number": 16
    },
    {
     "cell_type": "markdown",
     "metadata": {},
     "source": [
      "Places we probably would not want to swim."
     ]
    },
    {
     "cell_type": "code",
     "collapsed": false,
     "input": [
      "# chart worst places\n",
      "bar_groups = vincent.GroupedBar(worst_places[['Mean_ent', 'Median_ent']])\n",
      "bar_groups.axis_titles(x='Location', y='Value')\n",
      "bar_groups.legend(title='Statistics')\n",
      "bar_groups.display()"
     ],
     "language": "python",
     "metadata": {},
     "outputs": [
      {
       "html": [
        "<div id=\"vis00ac7704b4ab471286fdad01e5eefce6\"></div>\n",
        "<script>\n",
        "   ( function() {\n",
        "     var _do_plot = function() {\n",
        "       if (typeof vg === 'undefined') {\n",
        "         window.addEventListener('vincent_libs_loaded', _do_plot)\n",
        "         return;\n",
        "       }\n",
        "       vg.parse.spec({\"axes\": [{\"scale\": \"x\", \"title\": \"Location\", \"type\": \"x\"}, {\"scale\": \"y\", \"title\": \"Value\", \"type\": \"y\"}], \"data\": [{\"name\": \"table\", \"values\": [{\"col\": \"Mean_ent\", \"idx\": \"Gowanus Canal\", \"val\": 4204.945945945946}, {\"col\": \"Median_ent\", \"idx\": \"Gowanus Canal\", \"val\": 96.0}, {\"col\": \"Mean_ent\", \"idx\": \"Upper Sparkill Creek\", \"val\": 3935.5878787878787}, {\"col\": \"Median_ent\", \"idx\": \"Upper Sparkill Creek\", \"val\": 411.0}, {\"col\": \"Mean_ent\", \"idx\": \"Newtown Creek- Metropolitan Ave. Bridge\", \"val\": 2952.280701754386}, {\"col\": \"Median_ent\", \"idx\": \"Newtown Creek- Metropolitan Ave. Bridge\", \"val\": 98.0}, {\"col\": \"Mean_ent\", \"idx\": \"Island Creek/Normans Kill\", \"val\": 2298.342857142857}, {\"col\": \"Median_ent\", \"idx\": \"Island Creek/Normans Kill\", \"val\": 46.0}, {\"col\": \"Mean_ent\", \"idx\": \"Tarrytown Marina\", \"val\": 2204.185185185185}, {\"col\": \"Median_ent\", \"idx\": \"Tarrytown Marina\", \"val\": 41.0}]}], \"height\": 500, \"legends\": [{\"fill\": \"color\", \"offset\": 0, \"properties\": {}, \"title\": \"Statistics\"}], \"marks\": [{\"from\": {\"data\": \"table\", \"transform\": [{\"keys\": [\"data.idx\"], \"type\": \"facet\"}]}, \"marks\": [{\"properties\": {\"enter\": {\"fill\": {\"field\": \"data.col\", \"scale\": \"color\"}, \"width\": {\"band\": true, \"offset\": -1, \"scale\": \"pos\"}, \"x\": {\"field\": \"data.col\", \"scale\": \"pos\"}, \"y\": {\"field\": \"data.val\", \"scale\": \"y\"}, \"y2\": {\"scale\": \"y\", \"value\": 0}}}, \"type\": \"rect\"}], \"properties\": {\"enter\": {\"width\": {\"band\": true, \"scale\": \"x\"}, \"x\": {\"field\": \"key\", \"scale\": \"x\"}}}, \"scales\": [{\"domain\": {\"field\": \"data.col\"}, \"name\": \"pos\", \"range\": \"width\", \"type\": \"ordinal\"}], \"type\": \"group\"}], \"padding\": \"auto\", \"scales\": [{\"domain\": {\"data\": \"table\", \"field\": \"data.idx\"}, \"name\": \"x\", \"padding\": 0.2, \"range\": \"width\", \"type\": \"ordinal\"}, {\"domain\": {\"data\": \"table\", \"field\": \"data.val\"}, \"name\": \"y\", \"nice\": true, \"range\": \"height\"}, {\"domain\": {\"data\": \"table\", \"field\": \"data.col\"}, \"name\": \"color\", \"range\": \"category20\", \"type\": \"ordinal\"}], \"width\": 960}, function(chart) {\n",
        "         chart({el: \"#vis00ac7704b4ab471286fdad01e5eefce6\"}).update();\n",
        "       });\n",
        "     };\n",
        "     _do_plot();\n",
        "   })();\n",
        "</script>\n",
        "<style>.vega canvas {width: 100%;}</style>\n",
        "        "
       ],
       "metadata": {},
       "output_type": "display_data",
       "text": [
        "<IPython.core.display.HTML at 0xbcacac8>"
       ]
      }
     ],
     "prompt_number": 17
    },
    {
     "cell_type": "markdown",
     "metadata": {},
     "source": [
      "Places we probably wouldn't want to swim in, but probably won't get sick if we absolutely had to."
     ]
    },
    {
     "cell_type": "code",
     "collapsed": false,
     "input": [
      "# chart worst places\n",
      "bar_groups = vincent.GroupedBar(best_places[['Mean_ent', 'Median_ent']])\n",
      "bar_groups.axis_titles(x='Location', y='Value')\n",
      "bar_groups.legend(title='Statistics')\n",
      "bar_groups.display()"
     ],
     "language": "python",
     "metadata": {},
     "outputs": [
      {
       "html": [
        "<div id=\"vis0b9749806c6848f38caa2bc6beaf09f9\"></div>\n",
        "<script>\n",
        "   ( function() {\n",
        "     var _do_plot = function() {\n",
        "       if (typeof vg === 'undefined') {\n",
        "         window.addEventListener('vincent_libs_loaded', _do_plot)\n",
        "         return;\n",
        "       }\n",
        "       vg.parse.spec({\"axes\": [{\"scale\": \"x\", \"title\": \"Location\", \"type\": \"x\"}, {\"scale\": \"y\", \"title\": \"Value\", \"type\": \"y\"}], \"data\": [{\"name\": \"table\", \"values\": [{\"col\": \"Mean_ent\", \"idx\": \"TZ Bridge mid-channel\", \"val\": 15.473684210526315}, {\"col\": \"Median_ent\", \"idx\": \"TZ Bridge mid-channel\", \"val\": 0.0}, {\"col\": \"Mean_ent\", \"idx\": \"Haverstraw Bay mid-channel\", \"val\": 13.5}, {\"col\": \"Median_ent\", \"idx\": \"Haverstraw Bay mid-channel\", \"val\": 0.0}, {\"col\": \"Mean_ent\", \"idx\": \"Stony Point mid-channel\", \"val\": 12.795454545454545}, {\"col\": \"Median_ent\", \"idx\": \"Stony Point mid-channel\", \"val\": 1.5}, {\"col\": \"Mean_ent\", \"idx\": \"Croton Point Beach\", \"val\": 10.666666666666666}, {\"col\": \"Median_ent\", \"idx\": \"Croton Point Beach\", \"val\": 2.0}, {\"col\": \"Mean_ent\", \"idx\": \"Poughkeepsie Drinking Water Intake\", \"val\": 8.210526315789474}, {\"col\": \"Median_ent\", \"idx\": \"Poughkeepsie Drinking Water Intake\", \"val\": 4.5}]}], \"height\": 500, \"legends\": [{\"fill\": \"color\", \"offset\": 0, \"properties\": {}, \"title\": \"Statistics\"}], \"marks\": [{\"from\": {\"data\": \"table\", \"transform\": [{\"keys\": [\"data.idx\"], \"type\": \"facet\"}]}, \"marks\": [{\"properties\": {\"enter\": {\"fill\": {\"field\": \"data.col\", \"scale\": \"color\"}, \"width\": {\"band\": true, \"offset\": -1, \"scale\": \"pos\"}, \"x\": {\"field\": \"data.col\", \"scale\": \"pos\"}, \"y\": {\"field\": \"data.val\", \"scale\": \"y\"}, \"y2\": {\"scale\": \"y\", \"value\": 0}}}, \"type\": \"rect\"}], \"properties\": {\"enter\": {\"width\": {\"band\": true, \"scale\": \"x\"}, \"x\": {\"field\": \"key\", \"scale\": \"x\"}}}, \"scales\": [{\"domain\": {\"field\": \"data.col\"}, \"name\": \"pos\", \"range\": \"width\", \"type\": \"ordinal\"}], \"type\": \"group\"}], \"padding\": \"auto\", \"scales\": [{\"domain\": {\"data\": \"table\", \"field\": \"data.idx\"}, \"name\": \"x\", \"padding\": 0.2, \"range\": \"width\", \"type\": \"ordinal\"}, {\"domain\": {\"data\": \"table\", \"field\": \"data.val\"}, \"name\": \"y\", \"nice\": true, \"range\": \"height\"}, {\"domain\": {\"data\": \"table\", \"field\": \"data.col\"}, \"name\": \"color\", \"range\": \"category20\", \"type\": \"ordinal\"}], \"width\": 960}, function(chart) {\n",
        "         chart({el: \"#vis0b9749806c6848f38caa2bc6beaf09f9\"}).update();\n",
        "       });\n",
        "     };\n",
        "     _do_plot();\n",
        "   })();\n",
        "</script>\n",
        "<style>.vega canvas {width: 100%;}</style>\n",
        "        "
       ],
       "metadata": {},
       "output_type": "display_data",
       "text": [
        "<IPython.core.display.HTML at 0xbcacef0>"
       ]
      }
     ],
     "prompt_number": 18
    },
    {
     "cell_type": "heading",
     "level": 2,
     "metadata": {},
     "source": [
      "Which sites have been tested most regularly? Which ones have long gaps between tests?"
     ]
    },
    {
     "cell_type": "code",
     "collapsed": false,
     "input": [
      "freq = river_entero\n",
      "freq.set_index(keys=[river_entero['Site'], river_entero['Date']], inplace=True, verify_integrity=True)\n",
      "freq.head()"
     ],
     "language": "python",
     "metadata": {},
     "outputs": [
      {
       "html": [
        "<div style=\"max-height:1000px;max-width:1500px;overflow:auto;\">\n",
        "<table border=\"1\" class=\"dataframe\">\n",
        "  <thead>\n",
        "    <tr style=\"text-align: right;\">\n",
        "      <th></th>\n",
        "      <th></th>\n",
        "      <th>Site</th>\n",
        "      <th>Date</th>\n",
        "      <th>EnteroCount</th>\n",
        "      <th>FourDayRainTotal</th>\n",
        "      <th>SampleCount</th>\n",
        "    </tr>\n",
        "    <tr>\n",
        "      <th>Site</th>\n",
        "      <th>Date</th>\n",
        "      <th></th>\n",
        "      <th></th>\n",
        "      <th></th>\n",
        "      <th></th>\n",
        "      <th></th>\n",
        "    </tr>\n",
        "  </thead>\n",
        "  <tbody>\n",
        "    <tr>\n",
        "      <th>Furnace Brook</th>\n",
        "      <th>2006-09-19</th>\n",
        "      <td>              Furnace Brook</td>\n",
        "      <td>2006-09-19</td>\n",
        "      <td> 28</td>\n",
        "      <td> 0</td>\n",
        "      <td> 48</td>\n",
        "    </tr>\n",
        "    <tr>\n",
        "      <th>Haverstraw Bay mid-channel</th>\n",
        "      <th>2006-09-19</th>\n",
        "      <td> Haverstraw Bay mid-channel</td>\n",
        "      <td>2006-09-19</td>\n",
        "      <td>  4</td>\n",
        "      <td> 0</td>\n",
        "      <td> 48</td>\n",
        "    </tr>\n",
        "    <tr>\n",
        "      <th>Ossining Beach</th>\n",
        "      <th>2006-09-19</th>\n",
        "      <td>             Ossining Beach</td>\n",
        "      <td>2006-09-19</td>\n",
        "      <td>  2</td>\n",
        "      <td> 0</td>\n",
        "      <td> 47</td>\n",
        "    </tr>\n",
        "    <tr>\n",
        "      <th>Croton Point Beach</th>\n",
        "      <th>2006-09-19</th>\n",
        "      <td>         Croton Point Beach</td>\n",
        "      <td>2006-09-19</td>\n",
        "      <td>  2</td>\n",
        "      <td> 0</td>\n",
        "      <td> 48</td>\n",
        "    </tr>\n",
        "    <tr>\n",
        "      <th>Stony Point mid-channel</th>\n",
        "      <th>2006-09-19</th>\n",
        "      <td>    Stony Point mid-channel</td>\n",
        "      <td>2006-09-19</td>\n",
        "      <td>  3</td>\n",
        "      <td> 0</td>\n",
        "      <td> 44</td>\n",
        "    </tr>\n",
        "  </tbody>\n",
        "</table>\n",
        "</div>"
       ],
       "metadata": {},
       "output_type": "pyout",
       "prompt_number": 19,
       "text": [
        "                                                             Site       Date  \\\n",
        "Site                       Date                                                \n",
        "Furnace Brook              2006-09-19               Furnace Brook 2006-09-19   \n",
        "Haverstraw Bay mid-channel 2006-09-19  Haverstraw Bay mid-channel 2006-09-19   \n",
        "Ossining Beach             2006-09-19              Ossining Beach 2006-09-19   \n",
        "Croton Point Beach         2006-09-19          Croton Point Beach 2006-09-19   \n",
        "Stony Point mid-channel    2006-09-19     Stony Point mid-channel 2006-09-19   \n",
        "\n",
        "                                       EnteroCount  FourDayRainTotal  \\\n",
        "Site                       Date                                        \n",
        "Furnace Brook              2006-09-19           28                 0   \n",
        "Haverstraw Bay mid-channel 2006-09-19            4                 0   \n",
        "Ossining Beach             2006-09-19            2                 0   \n",
        "Croton Point Beach         2006-09-19            2                 0   \n",
        "Stony Point mid-channel    2006-09-19            3                 0   \n",
        "\n",
        "                                       SampleCount  \n",
        "Site                       Date                     \n",
        "Furnace Brook              2006-09-19           48  \n",
        "Haverstraw Bay mid-channel 2006-09-19           48  \n",
        "Ossining Beach             2006-09-19           47  \n",
        "Croton Point Beach         2006-09-19           48  \n",
        "Stony Point mid-channel    2006-09-19           44  "
       ]
      }
     ],
     "prompt_number": 19
    },
    {
     "cell_type": "code",
     "collapsed": false,
     "input": [
      "freq['diffs'] = freq['Date'].groupby(level='Site').diff()\n",
      "\n",
      "# built-in max() aggregation for dataframes does not work with timedeltas\n",
      "max_gap = freq['diffs'].dropna().groupby(level='Site').apply(lambda x : x.max())\n",
      "max_gap.sort(ascending=False)\n",
      "max_gap.head(5)"
     ],
     "language": "python",
     "metadata": {},
     "outputs": [
      {
       "metadata": {},
       "output_type": "pyout",
       "prompt_number": 20,
       "text": [
        "Site                       \n",
        "Tarrytown Marina          0   334 days\n",
        "125th St. Pier            0   291 days\n",
        "Gowanus Canal             0   281 days\n",
        "Upper Sparkill Creek      0   280 days\n",
        "North River STP at 145th  0   256 days\n",
        "dtype: timedelta64[ns]"
       ]
      }
     ],
     "prompt_number": 20
    },
    {
     "cell_type": "code",
     "collapsed": false,
     "input": [
      "# combine max gap + samples\n",
      "samples = freq['SampleCount'].groupby(level='Site').mean()\n",
      "# shape (75, 1) -> (75,) to match samples\n",
      "max_gap = max_gap.unstack(1).ix[:, 0]\n",
      "# DataFrame doesn't like nanoseconds\n",
      "max_gap = max_gap.astype('timedelta64[D]').astype(int)\n",
      "max_gap = DataFrame(data={'samples': samples, 'gap': max_gap}, index=samples.index)"
     ],
     "language": "python",
     "metadata": {},
     "outputs": [],
     "prompt_number": 21
    },
    {
     "cell_type": "code",
     "collapsed": false,
     "input": [
      "# store only those with the largest gaps\n",
      "max_gap = max_gap.sort(columns='gap', ascending=False)\n",
      "max_gap.head()"
     ],
     "language": "python",
     "metadata": {},
     "outputs": [
      {
       "html": [
        "<div style=\"max-height:1000px;max-width:1500px;overflow:auto;\">\n",
        "<table border=\"1\" class=\"dataframe\">\n",
        "  <thead>\n",
        "    <tr style=\"text-align: right;\">\n",
        "      <th></th>\n",
        "      <th>gap</th>\n",
        "      <th>samples</th>\n",
        "    </tr>\n",
        "    <tr>\n",
        "      <th>Site</th>\n",
        "      <th></th>\n",
        "      <th></th>\n",
        "    </tr>\n",
        "  </thead>\n",
        "  <tbody>\n",
        "    <tr>\n",
        "      <th>Tarrytown Marina</th>\n",
        "      <td> 334</td>\n",
        "      <td>  27</td>\n",
        "    </tr>\n",
        "    <tr>\n",
        "      <th>125th St. Pier</th>\n",
        "      <td> 291</td>\n",
        "      <td>  66</td>\n",
        "    </tr>\n",
        "    <tr>\n",
        "      <th>Gowanus Canal</th>\n",
        "      <td> 281</td>\n",
        "      <td>  37</td>\n",
        "    </tr>\n",
        "    <tr>\n",
        "      <th>Upper Sparkill Creek</th>\n",
        "      <td> 280</td>\n",
        "      <td> 165</td>\n",
        "    </tr>\n",
        "    <tr>\n",
        "      <th>East River mid-channel at 23rd St.</th>\n",
        "      <td> 256</td>\n",
        "      <td>  50</td>\n",
        "    </tr>\n",
        "  </tbody>\n",
        "</table>\n",
        "</div>"
       ],
       "metadata": {},
       "output_type": "pyout",
       "prompt_number": 22,
       "text": [
        "                                    gap  samples\n",
        "Site                                            \n",
        "Tarrytown Marina                    334       27\n",
        "125th St. Pier                      291       66\n",
        "Gowanus Canal                       281       37\n",
        "Upper Sparkill Creek                280      165\n",
        "East River mid-channel at 23rd St.  256       50"
       ]
      }
     ],
     "prompt_number": 22
    },
    {
     "cell_type": "code",
     "collapsed": false,
     "input": [
      "# chart most sporadically tested & least sporadically tested\n",
      "stack = vincent.StackedBar(\n",
      "    max_gap[(max_gap['gap'] > 256) | (max_gap['gap'] < 225)]\n",
      ")\n",
      "stack.scales['x'].padding = 0.1\n",
      "stack.axis_titles(x='Location', y='')\n",
      "stack.axes[0].properties = vincent.AxisProperties(\n",
      "    labels = vincent.PropertySet(angle=vincent.ValueRef(value=10))\n",
      ")\n",
      "stack.legend(title='Data Type')\n",
      "stack.colors(brew='Spectral')\n",
      "stack.display()"
     ],
     "language": "python",
     "metadata": {},
     "outputs": [
      {
       "html": [
        "<div id=\"vis47367f7c456b47dd984899b9be54492c\"></div>\n",
        "<script>\n",
        "   ( function() {\n",
        "     var _do_plot = function() {\n",
        "       if (typeof vg === 'undefined') {\n",
        "         window.addEventListener('vincent_libs_loaded', _do_plot)\n",
        "         return;\n",
        "       }\n",
        "       vg.parse.spec({\"axes\": [{\"properties\": {\"labels\": {\"angle\": {\"value\": 10}}}, \"scale\": \"x\", \"title\": \"Location\", \"type\": \"x\"}, {\"scale\": \"y\", \"title\": \"\", \"type\": \"y\"}], \"data\": [{\"name\": \"table\", \"values\": [{\"col\": \"gap\", \"idx\": \"Tarrytown Marina\", \"val\": 334}, {\"col\": \"samples\", \"idx\": \"Tarrytown Marina\", \"val\": 27}, {\"col\": \"gap\", \"idx\": \"125th St. Pier\", \"val\": 291}, {\"col\": \"samples\", \"idx\": \"125th St. Pier\", \"val\": 66}, {\"col\": \"gap\", \"idx\": \"Gowanus Canal\", \"val\": 281}, {\"col\": \"samples\", \"idx\": \"Gowanus Canal\", \"val\": 37}, {\"col\": \"gap\", \"idx\": \"Upper Sparkill Creek\", \"val\": 280}, {\"col\": \"samples\", \"idx\": \"Upper Sparkill Creek\", \"val\": 165}, {\"col\": \"gap\", \"idx\": \"Kingston Point Beach\", \"val\": 218}, {\"col\": \"samples\", \"idx\": \"Kingston Point Beach\", \"val\": 43}, {\"col\": \"gap\", \"idx\": \"Rondout- Eddyville Anchorage\", \"val\": 218}, {\"col\": \"samples\", \"idx\": \"Rondout- Eddyville Anchorage\", \"val\": 45}, {\"col\": \"gap\", \"idx\": \"Castle Point, NJ\", \"val\": 216}, {\"col\": \"samples\", \"idx\": \"Castle Point, NJ\", \"val\": 39}, {\"col\": \"gap\", \"idx\": \"Dyckman Street Beach\", \"val\": 216}, {\"col\": \"samples\", \"idx\": \"Dyckman Street Beach\", \"val\": 38}, {\"col\": \"gap\", \"idx\": \"Pier 96 Kayak Launch\", \"val\": 216}, {\"col\": \"samples\", \"idx\": \"Pier 96 Kayak Launch\", \"val\": 39}]}, {\"name\": \"stats\", \"source\": \"table\", \"transform\": [{\"keys\": [\"data.idx\"], \"type\": \"facet\"}, {\"type\": \"stats\", \"value\": \"data.val\"}]}], \"height\": 500, \"legends\": [{\"fill\": \"color\", \"offset\": 0, \"properties\": {}, \"title\": \"Data Type\"}], \"marks\": [{\"from\": {\"data\": \"table\", \"transform\": [{\"keys\": [\"data.col\"], \"type\": \"facet\"}, {\"height\": \"data.val\", \"point\": \"data.idx\", \"type\": \"stack\"}]}, \"marks\": [{\"properties\": {\"enter\": {\"fill\": {\"field\": \"data.col\", \"scale\": \"color\"}, \"width\": {\"band\": true, \"offset\": -1, \"scale\": \"x\"}, \"x\": {\"field\": \"data.idx\", \"scale\": \"x\"}, \"y\": {\"field\": \"y\", \"scale\": \"y\"}, \"y2\": {\"field\": \"y2\", \"scale\": \"y\"}}}, \"type\": \"rect\"}], \"type\": \"group\"}], \"padding\": \"auto\", \"scales\": [{\"domain\": {\"data\": \"table\", \"field\": \"data.idx\"}, \"name\": \"x\", \"padding\": 0.1, \"range\": \"width\", \"type\": \"ordinal\", \"zero\": false}, {\"domain\": {\"data\": \"stats\", \"field\": \"sum\"}, \"name\": \"y\", \"nice\": true, \"range\": \"height\"}, {\"domain\": {\"data\": \"table\", \"field\": \"data.col\"}, \"name\": \"color\", \"range\": [\"#9e0142\", \"#d53e4f\", \"#f46d43\", \"#fdae61\", \"#fee08b\", \"#ffffbf\", \"#e6f598\", \"#abdda4\", \"#66c2a5\", \"#3288bd\", \"#5e4fa2\"], \"type\": \"ordinal\"}], \"width\": 960}, function(chart) {\n",
        "         chart({el: \"#vis47367f7c456b47dd984899b9be54492c\"}).update();\n",
        "       });\n",
        "     };\n",
        "     _do_plot();\n",
        "   })();\n",
        "</script>\n",
        "<style>.vega canvas {width: 100%;}</style>\n",
        "        "
       ],
       "metadata": {},
       "output_type": "display_data",
       "text": [
        "<IPython.core.display.HTML at 0xbf5b390>"
       ]
      }
     ],
     "prompt_number": 23
    },
    {
     "cell_type": "markdown",
     "metadata": {},
     "source": [
      "Perhaps surprisingly, there is not such a large amount variation among sites a one might think."
     ]
    },
    {
     "cell_type": "heading",
     "level": 2,
     "metadata": {},
     "source": [
      "Is there a relationship between the amount of rain and water quality?"
     ]
    },
    {
     "cell_type": "code",
     "collapsed": false,
     "input": [
      "corr = lambda x : ()\n",
      "rain_cor = freq[['EnteroCount', 'FourDayRainTotal']].groupby(level='Site').corr()\n",
      "rain_cor.head()"
     ],
     "language": "python",
     "metadata": {},
     "outputs": [
      {
       "html": [
        "<div style=\"max-height:1000px;max-width:1500px;overflow:auto;\">\n",
        "<table border=\"1\" class=\"dataframe\">\n",
        "  <thead>\n",
        "    <tr style=\"text-align: right;\">\n",
        "      <th></th>\n",
        "      <th></th>\n",
        "      <th>EnteroCount</th>\n",
        "      <th>FourDayRainTotal</th>\n",
        "    </tr>\n",
        "    <tr>\n",
        "      <th>Site</th>\n",
        "      <th></th>\n",
        "      <th></th>\n",
        "      <th></th>\n",
        "    </tr>\n",
        "  </thead>\n",
        "  <tbody>\n",
        "    <tr>\n",
        "      <th rowspan=\"2\" valign=\"top\">125th St. Pier</th>\n",
        "      <th>EnteroCount</th>\n",
        "      <td> 1.000000</td>\n",
        "      <td> 0.155190</td>\n",
        "    </tr>\n",
        "    <tr>\n",
        "      <th>FourDayRainTotal</th>\n",
        "      <td> 0.155190</td>\n",
        "      <td> 1.000000</td>\n",
        "    </tr>\n",
        "    <tr>\n",
        "      <th rowspan=\"2\" valign=\"top\">79th St. mid-channel</th>\n",
        "      <th>EnteroCount</th>\n",
        "      <td> 1.000000</td>\n",
        "      <td> 0.193267</td>\n",
        "    </tr>\n",
        "    <tr>\n",
        "      <th>FourDayRainTotal</th>\n",
        "      <td> 0.193267</td>\n",
        "      <td> 1.000000</td>\n",
        "    </tr>\n",
        "    <tr>\n",
        "      <th>Albany Rowing Dock</th>\n",
        "      <th>EnteroCount</th>\n",
        "      <td> 1.000000</td>\n",
        "      <td> 0.368754</td>\n",
        "    </tr>\n",
        "  </tbody>\n",
        "</table>\n",
        "</div>"
       ],
       "metadata": {},
       "output_type": "pyout",
       "prompt_number": 24,
       "text": [
        "                                       EnteroCount  FourDayRainTotal\n",
        "Site                                                                \n",
        "125th St. Pier       EnteroCount          1.000000          0.155190\n",
        "                     FourDayRainTotal     0.155190          1.000000\n",
        "79th St. mid-channel EnteroCount          1.000000          0.193267\n",
        "                     FourDayRainTotal     0.193267          1.000000\n",
        "Albany Rowing Dock   EnteroCount          1.000000          0.368754"
       ]
      }
     ],
     "prompt_number": 24
    },
    {
     "cell_type": "code",
     "collapsed": false,
     "input": [
      "# rather have single column with all the location-specific correlations\n",
      "rain_cor = rain_cor.ix[:, 'EnteroCount'].ix[:, 'FourDayRainTotal']\n",
      "rain_cor.sort(ascending=False)\n",
      "\n",
      "print 'Highest linear relationship between rain & entero'\n",
      "print rain_cor.head()\n",
      "print '\\nLowest linear relationship between rain & entero'\n",
      "print rain_cor.tail()"
     ],
     "language": "python",
     "metadata": {},
     "outputs": [
      {
       "output_type": "stream",
       "stream": "stdout",
       "text": [
        "Highest linear relationship between rain & entero\n",
        "Site\n",
        "Gay's Point mid-channel     0.729229\n",
        "The Battery mid-channel     0.708365\n",
        "Wappingers Creek            0.687614\n",
        "TZ Bridge mid-channel       0.672044\n",
        "Norrie Point Yacht Basin    0.663862\n",
        "Name: EnteroCount, dtype: float64\n",
        "\n",
        "Lowest linear relationship between rain & entero\n",
        "Site\n",
        "Yonkers mid-channel          -0.068253\n",
        "Kingston STP Outfall         -0.083880\n",
        "Mohawk River at Waterford    -0.124760\n",
        "Little Stony Point           -0.158027\n",
        "Haverstraw Bay mid-channel   -0.160901\n",
        "Name: EnteroCount, dtype: float64\n"
       ]
      }
     ],
     "prompt_number": 25
    },
    {
     "cell_type": "markdown",
     "metadata": {},
     "source": [
      "Some areas have very strong linkages between rainfall and entero counts; however, some areas appear to have almost no relationship (possibly even a negative relationship)!\n",
      "\n",
      "Let's see how the relationship varies across location:"
     ]
    },
    {
     "cell_type": "code",
     "collapsed": false,
     "input": [
      "import numpy as np\n",
      "import matplotlib.pyplot as plt\n",
      "import seaborn as sns\n",
      "\n",
      "# want to plot in-line\n",
      "%matplotlib inline\n",
      "\n",
      "sns.set(style='white', palette='muted')\n",
      "plt.figure(1)\n",
      "sns.distplot(rain_cor)\n",
      "plt.show()"
     ],
     "language": "python",
     "metadata": {},
     "outputs": [
      {
       "metadata": {},
       "output_type": "display_data",
       "png": "[encoded data removed]",
       "text": [
        "<matplotlib.figure.Figure at 0xbbd4898>"
       ]
      }
     ],
     "prompt_number": 26
    },
    {
     "cell_type": "markdown",
     "metadata": {},
     "source": [
      "It appears as if generally speaking, rainfall and entero count are positively correlated, with the mean level of correlation around 0.25.\n",
      "\n",
      "To generalize the relationship across locations, we can try to visualize the scatter plot and marginal distributions:"
     ]
    },
    {
     "cell_type": "code",
     "collapsed": false,
     "input": [
      "# take log transform of entero count and rain since highly skewed\n",
      "from math import log\n",
      "from scipy import stats\n",
      "log_ent = freq['EnteroCount'].map(lambda x : log(x + 1))\n",
      "log_rain = freq['FourDayRainTotal'].map(lambda x : log(x + 1))\n",
      "\n",
      "g = sns.JointGrid(log_rain, log_ent)\n",
      "g.plot_marginals(sns.kdeplot, shade=True, color='green')\n",
      "g.plot_joint(sns.kdeplot, shade=True)"
     ],
     "language": "python",
     "metadata": {},
     "outputs": [
      {
       "metadata": {},
       "output_type": "pyout",
       "prompt_number": 27,
       "text": [
        "<seaborn.axisgrid.JointGrid at 0x16b80518>"
       ]
      },
      {
       "metadata": {},
       "output_type": "display_data",
       "png": "[encoded data removed]",
       "text": [
        "<matplotlib.figure.Figure at 0x16b80160>"
       ]
      }
     ],
     "prompt_number": 27
    },
    {
     "cell_type": "markdown",
     "metadata": {},
     "source": [
      "A clear linear relationship isn't particularly evident from this graphic. At the end of the day, this is logical--different locations will have very different characteristics and we should avoid abstracting away location-specific factors that may exert an important influence over entero count and how it fluctuates with rainfall."
     ]
    }
   ],
   "metadata": {}
  }
 ]
}